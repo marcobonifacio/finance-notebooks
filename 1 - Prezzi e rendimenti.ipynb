{
 "cells": [
  {
   "cell_type": "markdown",
   "metadata": {},
   "source": [
    "# Finance Notebooks #\n",
    "## Prezzi e rendimenti ##"
   ]
  },
  {
   "cell_type": "markdown",
   "metadata": {},
   "source": [
    "Prezzi e rendimenti costituiscono la base di qualunque analisi di serie finanziarie! Utilizziamo **python** (https://www.python.org/) come linguaggio di programmazione per svolgere un'analisi introduttiva a questi concetti, avvalendoci di **pandas** (http://pandas.pydata.org/) come strumento di raccolta e manipolazione dei dati, **bqplot** (https://bqplot.readthedocs.io/en/latest/index.html) per la visualizzazione e **Jupyter Widgets** (https://ipywidgets.readthedocs.io/en/stable/) per l'interazione. Prima di tutto, importiamo un po' di moduli per iniziare la nostra analisi."
   ]
  },
  {
   "cell_type": "code",
   "execution_count": 1,
   "metadata": {
    "collapsed": true
   },
   "outputs": [],
   "source": [
    "import pandas as pd\n",
    "import ipywidgets as widgets\n",
    "import bqplot as bq"
   ]
  },
  {
   "cell_type": "markdown",
   "metadata": {},
   "source": [
    "A questo punto, scegliamo qualche azione da analizzare. Prendiamo: **Apple** (AAPL), **Alphabet** (la società di Google, GOOGL), **Microsoft** (MSFT), **McDonald's** (MCD), **Coca-Cola** (KO). Tre azioni del settore tecnologico e due del comparto alimentare. "
   ]
  },
  {
   "cell_type": "code",
   "execution_count": 2,
   "metadata": {
    "collapsed": true
   },
   "outputs": [],
   "source": [
    "# I tickers delle azioni scelte\n",
    "STOCKS = ['AAPL', 'GOOGL', 'MSFT', 'MCD', 'KO']"
   ]
  },
  {
   "cell_type": "markdown",
   "metadata": {},
   "source": [
    "Ora, scarichiamo i prezzi dal sito **Macrotrends**. (Sempre più complicato trovare serie finanziarie *free* su internet, al momento Yahoo!. Google e Morningstar sembrano non disponibili)."
   ]
  },
  {
   "cell_type": "code",
   "execution_count": 3,
   "metadata": {
    "collapsed": true
   },
   "outputs": [],
   "source": [
    "# pandas ora legge direttamente i file csv scaricati da internet, fornendo un url\n",
    "def download_px(tickers):\n",
    "    \"\"\" Download csv files with prices for each ticker and merge the in a pandas DataFrame.\"\"\"\n",
    "    l = []\n",
    "    for t in tickers:\n",
    "        url = 'http://download.macrotrends.net/assets/php/stock_data_export.php?t={}'.format(t)\n",
    "        df = pd.read_csv(url, header=0, index_col=0, usecols=[0, 4], skiprows=10, parse_dates=True)\n",
    "        df.columns = [t]\n",
    "        l.append(df)\n",
    "    return(pd.concat(l, axis=1))\n",
    "\n",
    "px = download_px(STOCKS)"
   ]
  },
  {
   "cell_type": "markdown",
   "metadata": {},
   "source": [
    "Poi prendiamo un ragionevole sottoinsieme di dati, diciamo più o meno gli ultimi dieci anni, avvalendoci delle ottime funzionalità di manipolazione delle date di **pandas**. Mostriamo i primi..."
   ]
  },
  {
   "cell_type": "code",
   "execution_count": 4,
   "metadata": {},
   "outputs": [
    {
     "data": {
      "text/html": [
       "<div>\n",
       "<style scoped>\n",
       "    .dataframe tbody tr th:only-of-type {\n",
       "        vertical-align: middle;\n",
       "    }\n",
       "\n",
       "    .dataframe tbody tr th {\n",
       "        vertical-align: top;\n",
       "    }\n",
       "\n",
       "    .dataframe thead th {\n",
       "        text-align: right;\n",
       "    }\n",
       "</style>\n",
       "<table border=\"1\" class=\"dataframe\">\n",
       "  <thead>\n",
       "    <tr style=\"text-align: right;\">\n",
       "      <th></th>\n",
       "      <th>AAPL</th>\n",
       "      <th>GOOGL</th>\n",
       "      <th>MSFT</th>\n",
       "      <th>MCD</th>\n",
       "      <th>KO</th>\n",
       "    </tr>\n",
       "    <tr>\n",
       "      <th>date</th>\n",
       "      <th></th>\n",
       "      <th></th>\n",
       "      <th></th>\n",
       "      <th></th>\n",
       "      <th></th>\n",
       "    </tr>\n",
       "  </thead>\n",
       "  <tbody>\n",
       "    <tr>\n",
       "      <th>2008-10-31</th>\n",
       "      <td>13.6210</td>\n",
       "      <td>180.2364</td>\n",
       "      <td>17.3877</td>\n",
       "      <td>42.6857</td>\n",
       "      <td>16.2809</td>\n",
       "    </tr>\n",
       "    <tr>\n",
       "      <th>2008-11-03</th>\n",
       "      <td>13.5413</td>\n",
       "      <td>173.7814</td>\n",
       "      <td>17.6136</td>\n",
       "      <td>42.0225</td>\n",
       "      <td>16.7945</td>\n",
       "    </tr>\n",
       "    <tr>\n",
       "      <th>2008-11-04</th>\n",
       "      <td>14.0515</td>\n",
       "      <td>184.0381</td>\n",
       "      <td>18.3221</td>\n",
       "      <td>42.5752</td>\n",
       "      <td>17.0088</td>\n",
       "    </tr>\n",
       "    <tr>\n",
       "      <th>2008-11-05</th>\n",
       "      <td>13.0779</td>\n",
       "      <td>171.6499</td>\n",
       "      <td>17.1931</td>\n",
       "      <td>41.2636</td>\n",
       "      <td>16.5284</td>\n",
       "    </tr>\n",
       "    <tr>\n",
       "      <th>2008-11-06</th>\n",
       "      <td>12.5462</td>\n",
       "      <td>166.1228</td>\n",
       "      <td>16.2587</td>\n",
       "      <td>39.9151</td>\n",
       "      <td>16.4398</td>\n",
       "    </tr>\n",
       "  </tbody>\n",
       "</table>\n",
       "</div>"
      ],
      "text/plain": [
       "               AAPL     GOOGL     MSFT      MCD       KO\n",
       "date                                                    \n",
       "2008-10-31  13.6210  180.2364  17.3877  42.6857  16.2809\n",
       "2008-11-03  13.5413  173.7814  17.6136  42.0225  16.7945\n",
       "2008-11-04  14.0515  184.0381  18.3221  42.5752  17.0088\n",
       "2008-11-05  13.0779  171.6499  17.1931  41.2636  16.5284\n",
       "2008-11-06  12.5462  166.1228  16.2587  39.9151  16.4398"
      ]
     },
     "execution_count": 4,
     "metadata": {},
     "output_type": "execute_result"
    }
   ],
   "source": [
    "# Facciamo partire la serie dall'ultimo fine mese di dieci anni da oggi (n=121)\n",
    "prices = px.loc[(pd.Timestamp.today() - pd.tseries.offsets.MonthEnd(n=121)).strftime('%m-%d-%Y'):pd.Timestamp.today().strftime('%m-%d-%Y'), :]\n",
    "prices.head()"
   ]
  },
  {
   "cell_type": "markdown",
   "metadata": {},
   "source": [
    "...e gli ultimi valori del periodo."
   ]
  },
  {
   "cell_type": "code",
   "execution_count": 5,
   "metadata": {},
   "outputs": [
    {
     "data": {
      "text/html": [
       "<div>\n",
       "<style scoped>\n",
       "    .dataframe tbody tr th:only-of-type {\n",
       "        vertical-align: middle;\n",
       "    }\n",
       "\n",
       "    .dataframe tbody tr th {\n",
       "        vertical-align: top;\n",
       "    }\n",
       "\n",
       "    .dataframe thead th {\n",
       "        text-align: right;\n",
       "    }\n",
       "</style>\n",
       "<table border=\"1\" class=\"dataframe\">\n",
       "  <thead>\n",
       "    <tr style=\"text-align: right;\">\n",
       "      <th></th>\n",
       "      <th>AAPL</th>\n",
       "      <th>GOOGL</th>\n",
       "      <th>MSFT</th>\n",
       "      <th>MCD</th>\n",
       "      <th>KO</th>\n",
       "    </tr>\n",
       "    <tr>\n",
       "      <th>date</th>\n",
       "      <th></th>\n",
       "      <th></th>\n",
       "      <th></th>\n",
       "      <th></th>\n",
       "      <th></th>\n",
       "    </tr>\n",
       "  </thead>\n",
       "  <tbody>\n",
       "    <tr>\n",
       "      <th>2018-11-21</th>\n",
       "      <td>176.78</td>\n",
       "      <td>1043.43</td>\n",
       "      <td>103.11</td>\n",
       "      <td>182.72</td>\n",
       "      <td>48.73</td>\n",
       "    </tr>\n",
       "    <tr>\n",
       "      <th>2018-11-23</th>\n",
       "      <td>172.29</td>\n",
       "      <td>1030.10</td>\n",
       "      <td>103.07</td>\n",
       "      <td>181.93</td>\n",
       "      <td>49.02</td>\n",
       "    </tr>\n",
       "    <tr>\n",
       "      <th>2018-11-26</th>\n",
       "      <td>174.62</td>\n",
       "      <td>1055.94</td>\n",
       "      <td>106.47</td>\n",
       "      <td>183.89</td>\n",
       "      <td>48.87</td>\n",
       "    </tr>\n",
       "    <tr>\n",
       "      <th>2018-11-27</th>\n",
       "      <td>174.24</td>\n",
       "      <td>1052.28</td>\n",
       "      <td>107.14</td>\n",
       "      <td>184.63</td>\n",
       "      <td>49.37</td>\n",
       "    </tr>\n",
       "    <tr>\n",
       "      <th>2018-11-28</th>\n",
       "      <td>180.94</td>\n",
       "      <td>1091.79</td>\n",
       "      <td>111.12</td>\n",
       "      <td>187.85</td>\n",
       "      <td>49.71</td>\n",
       "    </tr>\n",
       "  </tbody>\n",
       "</table>\n",
       "</div>"
      ],
      "text/plain": [
       "              AAPL    GOOGL    MSFT     MCD     KO\n",
       "date                                              \n",
       "2018-11-21  176.78  1043.43  103.11  182.72  48.73\n",
       "2018-11-23  172.29  1030.10  103.07  181.93  49.02\n",
       "2018-11-26  174.62  1055.94  106.47  183.89  48.87\n",
       "2018-11-27  174.24  1052.28  107.14  184.63  49.37\n",
       "2018-11-28  180.94  1091.79  111.12  187.85  49.71"
      ]
     },
     "execution_count": 5,
     "metadata": {},
     "output_type": "execute_result"
    }
   ],
   "source": [
    "prices.tail()"
   ]
  },
  {
   "cell_type": "markdown",
   "metadata": {},
   "source": [
    "Creiamo adesso un grafico dei prezzi e rendiamolo un po' interattivo consentendo di selezionare le azioni da mostrare con delle **checkbox**."
   ]
  },
  {
   "cell_type": "code",
   "execution_count": 6,
   "metadata": {},
   "outputs": [
    {
     "data": {
      "application/vnd.jupyter.widget-view+json": {
       "model_id": "436a308da746404cb730a621baef1d79",
       "version_major": 2,
       "version_minor": 0
      },
      "text/plain": [
       "VBox(children=(HBox(children=(Checkbox(value=True, description='AAPL'), Checkbox(value=True, description='GOOG…"
      ]
     },
     "metadata": {},
     "output_type": "display_data"
    }
   ],
   "source": [
    "# Costruiamo una checkbox per ogni titolo\n",
    "chks_1 = [widgets.Checkbox(description=d, value=True) for d in prices.columns]\n",
    "\n",
    "# Costruiamo il grafico\n",
    "x_sc_1 = bq.DateScale()\n",
    "y_sc_1 = bq.LinearScale()\n",
    "lines_1 = bq.Lines(x=prices.index, y=[prices[c] for c in prices.columns[[cb.value for cb in chks_1]]], scales={'x': x_sc_1, 'y': y_sc_1},\n",
    "                   display_legend=True, colors=[bq.colorschemes.CATEGORY10[prices.columns.get_loc(n)] for n in prices.columns],\n",
    "                   labels=[c for c in prices.columns[[cb.value for cb in chks_1]]])\n",
    "ax_x_1 = bq.Axis(scale=x_sc_1, grid_lines='solid', grid_color='#DDDDDD')\n",
    "ax_y_1 = bq.Axis(scale=y_sc_1, orientation='vertical', grid_lines='solid', grid_color='#DDDDDD')\n",
    "fig_1 = bq.Figure(marks=[lines_1], axes=[ax_x_1, ax_y_1], title='Andamento dei prezzi', legend_location='top-left', background_style={'fill': 'white'},\n",
    "                  layout=widgets.Layout(width='60%'))\n",
    "\n",
    "# Definiamo una funzione che aggiorna i grafici, la legenda e i colori a seconda delle checkbox selezionate\n",
    "def update_plot_1(change):\n",
    "    \"\"\" Update the chart with boolean value from checkboxes.\"\"\"\n",
    "    lines_1.y = [prices[c] for c in prices.columns[[cb.value for cb in chks_1]]]\n",
    "    lines_1.labels = [c for c in prices.columns[[cb.value for cb in chks_1]]]\n",
    "    lines_1.colors = [bq.colorschemes.CATEGORY10[prices.columns.get_loc(c)] for c in prices.columns[[cb.value for cb in chks_1]]]\n",
    "    \n",
    "# Intercettiamo gli eventi relativi alle checkbox\n",
    "for cb in chks_1:\n",
    "    cb.observe(update_plot_1, 'value')\n",
    "\n",
    "# Definiamo il layout delle widget\n",
    "box_1 = widgets.HBox(chks_1, layout=widgets.Layout(width='60%', top='10px', right='50px'))\n",
    "widgets.VBox([box_1, fig_1])"
   ]
  },
  {
   "cell_type": "markdown",
   "metadata": {},
   "source": [
    "**Alphabet** (Google) scambia in un intervallo di prezzi superiore rispetto alle altre azioni. Per poter confrontare tra di loro gli andamenti, è necessario normalizzare i prezzi, ad esempio ribasandoli a 100 in una data uguale per tutti $P_t$ mediante la formula $$\\frac{100 * P}{P_t}$$ Costruiamo allora un grafico dei prezzi normalizzati, aggiungendo uno **slider** per poter modificare la data di ribasamento."
   ]
  },
  {
   "cell_type": "code",
   "execution_count": 7,
   "metadata": {},
   "outputs": [
    {
     "data": {
      "application/vnd.jupyter.widget-view+json": {
       "model_id": "21fff51eade64c2db14be09a3251fdbf",
       "version_major": 2,
       "version_minor": 0
      },
      "text/plain": [
       "VBox(children=(SelectionSlider(description='Data', layout=Layout(right='50px', top='10px', width='60%'), optio…"
      ]
     },
     "metadata": {},
     "output_type": "display_data"
    }
   ],
   "source": [
    "# Costruiamo lo slider e colleghiamolo alle date della serie storica\n",
    "opts_2 = [d.strftime('%d-%m-%Y') for d in prices.index]\n",
    "slider_2 = widgets.SelectionSlider(options=opts_2, description='Data', layout={'width': '60%', 'top': '10px', 'right': '50px'})\n",
    "\n",
    "# Normalizziamo i prezzi utilizzando la formula sopra citata\n",
    "nprices = 100 * prices / prices.loc[pd.to_datetime(slider_2.value, dayfirst=True), :]\n",
    "\n",
    "# Costruiamo il grafico\n",
    "x_sc_2 = bq.DateScale(date_format = \"%y\")\n",
    "y_sc_2 = bq.LinearScale()\n",
    "x_sec_2 = bq.LinearScale(min=0, max=1)\n",
    "y_sec_2 = bq.LinearScale(min=0, max=1)\n",
    "lines_2 = bq.Lines(x=nprices.index, y=[nprices[c] for c in nprices.columns], scales={'x': x_sc_2, 'y': y_sc_2},\n",
    "                   display_legend=True, labels=[c for c in nprices.columns])\n",
    "frac = (pd.to_datetime(slider_2.value, dayfirst=True) - nprices.index[0]) / (nprices.index[-1] - nprices.index[0])\n",
    "vline_2 = bq.Lines(x=[frac, frac], y=[0, 1], scales={'x': x_sec_2, 'y': y_sec_2}, colors=['#AAAAAA'])\n",
    "ax_x_2 = bq.Axis(scale=x_sc_2, grid_lines='solid', grid_color='#DDDDDD')\n",
    "ax_x_sec_2 = bq.Axis(scale=x_sec_2, visible=False)\n",
    "ax_y_2 = bq.Axis(scale=y_sc_2, orientation='vertical', grid_lines='solid', grid_color='#DDDDDD')\n",
    "ax_y_sec_2 = bq.Axis(scale=y_sec_2, orientation='vertical', visible=False)\n",
    "fig_2 = bq.Figure(marks=[lines_2, vline_2], axes=[ax_x_2, ax_x_sec_2, ax_y_2, ax_y_sec_2], title='Andamento normalizzato dei prezzi ({} = 100)'.format(slider_2.value),\n",
    "                  legend_location='top-left', background_style={'fill': 'white'}, layout=widgets.Layout(width='60%'))\n",
    "\n",
    "# Definiamo una funzione che aggiorna la base di normalizzazione dei prezzi, il grafico e il titolo in base ai valori dello slider\n",
    "def update_plot_2(change):\n",
    "    \"\"\" Update the chart with value from slider.\"\"\"\n",
    "    nprices = 100 * prices / prices.loc[pd.to_datetime(slider_2.value, dayfirst=True), :]\n",
    "    frac = (pd.to_datetime(slider_2.value, dayfirst=True) - nprices.index[0]) / (nprices.index[-1] - nprices.index[0])\n",
    "    lines_2.y = [nprices[c] for c in nprices.columns]\n",
    "    vline_2.x = [frac, frac]\n",
    "    fig_2.title = 'Andamento normalizzato dei prezzi ({} = 100)'.format(slider_2.value)\n",
    "\n",
    "# Intercettiamo i valori dello slider\n",
    "slider_2.observe(update_plot_2, 'value')\n",
    "\n",
    "# Definiamo il layout delle widget\n",
    "widgets.VBox([slider_2, fig_2])"
   ]
  },
  {
   "cell_type": "markdown",
   "metadata": {},
   "source": [
    "Ma qual è il rendimento delle azioni nel periodo considerato? Una prima risposta viene dal **rendimento assoluto**, ossia la percentuale di apprezzamento dei titoli sull'intero periodo, calcolata come $$100 * (\\frac{P_T}{P_0} - 1)$$ dove $P_T$ è il prezzo del titolo alla fine del periodo e $P_0$ quello all'inizio del periodo."
   ]
  },
  {
   "cell_type": "code",
   "execution_count": 8,
   "metadata": {},
   "outputs": [
    {
     "data": {
      "text/html": [
       "<style  type=\"text/css\" >\n",
       "</style>  \n",
       "<table id=\"T_cd338ad8_f3b5_11e8_bfff_3464a91dff6a\" > \n",
       "<thead>    <tr> \n",
       "        <th class=\"blank level0\" ></th> \n",
       "        <th class=\"col_heading level0 col0\" >AAPL</th> \n",
       "        <th class=\"col_heading level0 col1\" >GOOGL</th> \n",
       "        <th class=\"col_heading level0 col2\" >MSFT</th> \n",
       "        <th class=\"col_heading level0 col3\" >MCD</th> \n",
       "        <th class=\"col_heading level0 col4\" >KO</th> \n",
       "    </tr></thead> \n",
       "<tbody>    <tr> \n",
       "        <th id=\"T_cd338ad8_f3b5_11e8_bfff_3464a91dff6alevel0_row0\" class=\"row_heading level0 row0\" >Rendimenti assoluti (%)</th> \n",
       "        <td id=\"T_cd338ad8_f3b5_11e8_bfff_3464a91dff6arow0_col0\" class=\"data row0 col0\" >1228.39%</td> \n",
       "        <td id=\"T_cd338ad8_f3b5_11e8_bfff_3464a91dff6arow0_col1\" class=\"data row0 col1\" >505.75%</td> \n",
       "        <td id=\"T_cd338ad8_f3b5_11e8_bfff_3464a91dff6arow0_col2\" class=\"data row0 col2\" >539.07%</td> \n",
       "        <td id=\"T_cd338ad8_f3b5_11e8_bfff_3464a91dff6arow0_col3\" class=\"data row0 col3\" >340.08%</td> \n",
       "        <td id=\"T_cd338ad8_f3b5_11e8_bfff_3464a91dff6arow0_col4\" class=\"data row0 col4\" >205.33%</td> \n",
       "    </tr></tbody> \n",
       "</table> "
      ],
      "text/plain": [
       "<pandas.io.formats.style.Styler at 0x221828c78d0>"
      ]
     },
     "execution_count": 8,
     "metadata": {},
     "output_type": "execute_result"
    }
   ],
   "source": [
    "absolute_returns = (prices.iloc[-1, :] / prices.iloc[0, :] - 1).to_frame().T\n",
    "absolute_returns.index = ['Rendimenti assoluti (%)']\n",
    "absolute_returns.style.format('{:.2%}')"
   ]
  },
  {
   "cell_type": "markdown",
   "metadata": {},
   "source": [
    "Per poter confrontare i rendimenti con - ad esempio - altri investimenti, può essere comodo trasformare il rendimento assoluto in un dato annualizzato. Per far ciò, utilizziamo la formula del **rendimento composto annuo** $$100 * [(\\frac{P_T}{P_0})^{\\frac{365}{T}} - 1]$$ dove $P_T$ è il prezzo del titolo alla fine del periodo, $P_0$ quello all'inizio del periodo e $T$ è il numero dei giorni compresi nel periodo."
   ]
  },
  {
   "cell_type": "code",
   "execution_count": 9,
   "metadata": {},
   "outputs": [
    {
     "data": {
      "text/html": [
       "<style  type=\"text/css\" >\n",
       "</style>  \n",
       "<table id=\"T_cd358664_f3b5_11e8_a562_3464a91dff6a\" > \n",
       "<thead>    <tr> \n",
       "        <th class=\"blank level0\" ></th> \n",
       "        <th class=\"col_heading level0 col0\" >AAPL</th> \n",
       "        <th class=\"col_heading level0 col1\" >GOOGL</th> \n",
       "        <th class=\"col_heading level0 col2\" >MSFT</th> \n",
       "        <th class=\"col_heading level0 col3\" >MCD</th> \n",
       "        <th class=\"col_heading level0 col4\" >KO</th> \n",
       "    </tr></thead> \n",
       "<tbody>    <tr> \n",
       "        <th id=\"T_cd358664_f3b5_11e8_a562_3464a91dff6alevel0_row0\" class=\"row_heading level0 row0\" >Rendimenti composti annui (%)</th> \n",
       "        <td id=\"T_cd358664_f3b5_11e8_a562_3464a91dff6arow0_col0\" class=\"data row0 col0\" >29.25%</td> \n",
       "        <td id=\"T_cd358664_f3b5_11e8_a562_3464a91dff6arow0_col1\" class=\"data row0 col1\" >19.56%</td> \n",
       "        <td id=\"T_cd358664_f3b5_11e8_a562_3464a91dff6arow0_col2\" class=\"data row0 col2\" >20.20%</td> \n",
       "        <td id=\"T_cd358664_f3b5_11e8_a562_3464a91dff6arow0_col3\" class=\"data row0 col3\" >15.83%</td> \n",
       "        <td id=\"T_cd358664_f3b5_11e8_a562_3464a91dff6arow0_col4\" class=\"data row0 col4\" >11.71%</td> \n",
       "    </tr></tbody> \n",
       "</table> "
      ],
      "text/plain": [
       "<pandas.io.formats.style.Styler at 0x221fec9feb8>"
      ]
     },
     "execution_count": 9,
     "metadata": {},
     "output_type": "execute_result"
    }
   ],
   "source": [
    "compound_returns = ((1 + absolute_returns) ** (pd.Timedelta(365, unit='D') / (prices.index[-1] - prices.index[0])) - 1)\n",
    "compound_returns.index = ['Rendimenti composti annui (%)']\n",
    "compound_returns.style.format('{:.2%}')"
   ]
  },
  {
   "cell_type": "markdown",
   "metadata": {},
   "source": [
    "Ora costruiamo un grafico dei rendimenti, **assoluti** e **composti annui**, aggiungendo dei **radio button** per poter selezionare il tipo di rendimento da mostrare."
   ]
  },
  {
   "cell_type": "code",
   "execution_count": 10,
   "metadata": {},
   "outputs": [
    {
     "data": {
      "application/vnd.jupyter.widget-view+json": {
       "model_id": "4cab2d7822fe4b37849f524553fa7112",
       "version_major": 2,
       "version_minor": 0
      },
      "text/plain": [
       "VBox(children=(RadioButtons(description='Tipo rendimento', layout=Layout(top='10px', width='60%'), options=('R…"
      ]
     },
     "metadata": {},
     "output_type": "display_data"
    }
   ],
   "source": [
    "# Concateniamo per comodità i dataframe absolute_returns e compound_returns\n",
    "df_3 = pd.concat([absolute_returns, compound_returns])\n",
    "\n",
    "# Costruiamo i radio buttons per selezionare il tipo di rendimento da mostrare\n",
    "opts_3 = [i for i in df_3.index]\n",
    "radio_3 = widgets.RadioButtons(options=opts_3, description='Tipo rendimento', style={'description_width': 'initial'}, layout={'width': '60%', 'top': '10px'})\n",
    "\n",
    "# Costruiamo un grafico a barre con le etichette delle percentuali\n",
    "x_sc_3 = bq.OrdinalScale()\n",
    "y_sc_3 = bq.LinearScale(max=max(1.1 * df_3.loc[radio_3.value, :].max(), 0), min=min(1.1 * df_3.loc[radio_3.value, :].min(), 0))\n",
    "bars_3 = bq.Bars(x=df_3.columns, y=df_3.loc[radio_3.value, :], scales={'x': x_sc_3, 'y': y_sc_3},\n",
    "                 colors=[bq.colorschemes.CATEGORY10[df_3.index.get_loc(radio_3.value)]])\n",
    "labels_3 = bq.Label(x=df_3.columns, y=df_3.loc[radio_3.value, :], text=[f'{v:.2%}' for v in df_3.loc[radio_3.value, :]], scales={'x': x_sc_3, 'y': y_sc_3}, \n",
    "                    colors=['#AAAAAA'], align='middle', y_offset=-15)\n",
    "ax_x_3 = bq.Axis(scale=x_sc_3, grid_lines='solid', grid_color='#DDDDDD')\n",
    "ax_y_3 = bq.Axis(scale=y_sc_3, orientation='vertical', tick_format='0%', grid_lines='solid', grid_color='#DDDDDD')\n",
    "fig_3 = bq.Figure(marks=[bars_3, labels_3], axes=[ax_x_3, ax_y_3], title=radio_3.value, background_style={'fill': 'white'},\n",
    "                  layout=widgets.Layout(width='60%'))\n",
    "\n",
    "# Definiamo una funzione per aggiornare il grafico, le etichette e il titolo\n",
    "def update_plot_3(change):\n",
    "    \"\"\" Update the chart with value from radio buttons.\"\"\"\n",
    "    y_sc_3.max = max(1.1 * df_3.loc[radio_3.value, :].max(), 0)\n",
    "    y_sc_3.min = min(1.1 * df_3.loc[radio_3.value, :].min(), 0)    \n",
    "    bars_3.y = df_3.loc[radio_3.value, :]\n",
    "    bars_3.colors = [bq.colorschemes.CATEGORY10[df_3.index.get_loc(radio_3.value)]]\n",
    "    labels_3.y = df_3.loc[radio_3.value, :]\n",
    "    labels_3.text = [f'{v:.2%}' for v in df_3.loc[radio_3.value, :]]\n",
    "    fig_3.title = radio_3.value\n",
    "\n",
    "# Intercettiamo i valori dei radio buttons\n",
    "radio_3.observe(update_plot_3, 'value')\n",
    "\n",
    "# Definiamo il layout delle widget\n",
    "widgets.VBox([radio_3, fig_3])"
   ]
  },
  {
   "cell_type": "markdown",
   "metadata": {},
   "source": [
    "Una rappresentazione comune dei risultati di uno strumento finanziario si ottiene attraverso il calcolo di **rendimenti percentuali di periodo**. In questo caso, ad esempio, calcoliamo i rendimenti percentuali per anno. "
   ]
  },
  {
   "cell_type": "code",
   "execution_count": 11,
   "metadata": {},
   "outputs": [
    {
     "data": {
      "text/html": [
       "<style  type=\"text/css\" >\n",
       "</style>  \n",
       "<table id=\"T_cda8d008_f3b5_11e8_b5f5_3464a91dff6a\" > \n",
       "<thead>    <tr> \n",
       "        <th class=\"blank level0\" ></th> \n",
       "        <th class=\"col_heading level0 col0\" >AAPL</th> \n",
       "        <th class=\"col_heading level0 col1\" >GOOGL</th> \n",
       "        <th class=\"col_heading level0 col2\" >MSFT</th> \n",
       "        <th class=\"col_heading level0 col3\" >MCD</th> \n",
       "        <th class=\"col_heading level0 col4\" >KO</th> \n",
       "    </tr>    <tr> \n",
       "        <th class=\"index_name level0\" >date</th> \n",
       "        <th class=\"blank\" ></th> \n",
       "        <th class=\"blank\" ></th> \n",
       "        <th class=\"blank\" ></th> \n",
       "        <th class=\"blank\" ></th> \n",
       "        <th class=\"blank\" ></th> \n",
       "    </tr></thead> \n",
       "<tbody>    <tr> \n",
       "        <th id=\"T_cda8d008_f3b5_11e8_b5f5_3464a91dff6alevel0_row0\" class=\"row_heading level0 row0\" >2009-12-31 00:00:00</th> \n",
       "        <td id=\"T_cda8d008_f3b5_11e8_b5f5_3464a91dff6arow0_col0\" class=\"data row0 col0\" >146.90%</td> \n",
       "        <td id=\"T_cda8d008_f3b5_11e8_b5f5_3464a91dff6arow0_col1\" class=\"data row0 col1\" >101.52%</td> \n",
       "        <td id=\"T_cda8d008_f3b5_11e8_b5f5_3464a91dff6arow0_col2\" class=\"data row0 col2\" >60.50%</td> \n",
       "        <td id=\"T_cda8d008_f3b5_11e8_b5f5_3464a91dff6arow0_col3\" class=\"data row0 col3\" >4.01%</td> \n",
       "        <td id=\"T_cda8d008_f3b5_11e8_b5f5_3464a91dff6arow0_col4\" class=\"data row0 col4\" >30.24%</td> \n",
       "    </tr>    <tr> \n",
       "        <th id=\"T_cda8d008_f3b5_11e8_b5f5_3464a91dff6alevel0_row1\" class=\"row_heading level0 row1\" >2010-12-31 00:00:00</th> \n",
       "        <td id=\"T_cda8d008_f3b5_11e8_b5f5_3464a91dff6arow1_col0\" class=\"data row1 col0\" >53.07%</td> \n",
       "        <td id=\"T_cda8d008_f3b5_11e8_b5f5_3464a91dff6arow1_col1\" class=\"data row1 col1\" >-4.20%</td> \n",
       "        <td id=\"T_cda8d008_f3b5_11e8_b5f5_3464a91dff6arow1_col2\" class=\"data row1 col2\" >-6.53%</td> \n",
       "        <td id=\"T_cda8d008_f3b5_11e8_b5f5_3464a91dff6arow1_col3\" class=\"data row1 col3\" >26.93%</td> \n",
       "        <td id=\"T_cda8d008_f3b5_11e8_b5f5_3464a91dff6arow1_col4\" class=\"data row1 col4\" >19.03%</td> \n",
       "    </tr>    <tr> \n",
       "        <th id=\"T_cda8d008_f3b5_11e8_b5f5_3464a91dff6alevel0_row2\" class=\"row_heading level0 row2\" >2011-12-31 00:00:00</th> \n",
       "        <td id=\"T_cda8d008_f3b5_11e8_b5f5_3464a91dff6arow2_col0\" class=\"data row2 col0\" >25.56%</td> \n",
       "        <td id=\"T_cda8d008_f3b5_11e8_b5f5_3464a91dff6arow2_col1\" class=\"data row2 col1\" >8.74%</td> \n",
       "        <td id=\"T_cda8d008_f3b5_11e8_b5f5_3464a91dff6arow2_col2\" class=\"data row2 col2\" >-4.52%</td> \n",
       "        <td id=\"T_cda8d008_f3b5_11e8_b5f5_3464a91dff6arow2_col3\" class=\"data row2 col3\" >34.66%</td> \n",
       "        <td id=\"T_cda8d008_f3b5_11e8_b5f5_3464a91dff6arow2_col4\" class=\"data row2 col4\" >9.44%</td> \n",
       "    </tr>    <tr> \n",
       "        <th id=\"T_cda8d008_f3b5_11e8_b5f5_3464a91dff6alevel0_row3\" class=\"row_heading level0 row3\" >2012-12-31 00:00:00</th> \n",
       "        <td id=\"T_cda8d008_f3b5_11e8_b5f5_3464a91dff6arow3_col0\" class=\"data row3 col0\" >32.59%</td> \n",
       "        <td id=\"T_cda8d008_f3b5_11e8_b5f5_3464a91dff6arow3_col1\" class=\"data row3 col1\" >9.52%</td> \n",
       "        <td id=\"T_cda8d008_f3b5_11e8_b5f5_3464a91dff6arow3_col2\" class=\"data row3 col2\" >5.84%</td> \n",
       "        <td id=\"T_cda8d008_f3b5_11e8_b5f5_3464a91dff6arow3_col3\" class=\"data row3 col3\" >-9.26%</td> \n",
       "        <td id=\"T_cda8d008_f3b5_11e8_b5f5_3464a91dff6arow3_col4\" class=\"data row3 col4\" >6.51%</td> \n",
       "    </tr>    <tr> \n",
       "        <th id=\"T_cda8d008_f3b5_11e8_b5f5_3464a91dff6alevel0_row4\" class=\"row_heading level0 row4\" >2013-12-31 00:00:00</th> \n",
       "        <td id=\"T_cda8d008_f3b5_11e8_b5f5_3464a91dff6arow4_col0\" class=\"data row4 col0\" >8.06%</td> \n",
       "        <td id=\"T_cda8d008_f3b5_11e8_b5f5_3464a91dff6arow4_col1\" class=\"data row4 col1\" >58.43%</td> \n",
       "        <td id=\"T_cda8d008_f3b5_11e8_b5f5_3464a91dff6arow4_col2\" class=\"data row4 col2\" >44.28%</td> \n",
       "        <td id=\"T_cda8d008_f3b5_11e8_b5f5_3464a91dff6arow4_col3\" class=\"data row4 col3\" >13.61%</td> \n",
       "        <td id=\"T_cda8d008_f3b5_11e8_b5f5_3464a91dff6arow4_col4\" class=\"data row4 col4\" >17.23%</td> \n",
       "    </tr>    <tr> \n",
       "        <th id=\"T_cda8d008_f3b5_11e8_b5f5_3464a91dff6alevel0_row5\" class=\"row_heading level0 row5\" >2014-12-31 00:00:00</th> \n",
       "        <td id=\"T_cda8d008_f3b5_11e8_b5f5_3464a91dff6arow5_col0\" class=\"data row5 col0\" >40.62%</td> \n",
       "        <td id=\"T_cda8d008_f3b5_11e8_b5f5_3464a91dff6arow5_col1\" class=\"data row5 col1\" >-5.59%</td> \n",
       "        <td id=\"T_cda8d008_f3b5_11e8_b5f5_3464a91dff6arow5_col2\" class=\"data row5 col2\" >27.54%</td> \n",
       "        <td id=\"T_cda8d008_f3b5_11e8_b5f5_3464a91dff6arow5_col3\" class=\"data row5 col3\" >-0.11%</td> \n",
       "        <td id=\"T_cda8d008_f3b5_11e8_b5f5_3464a91dff6arow5_col4\" class=\"data row5 col4\" >5.27%</td> \n",
       "    </tr>    <tr> \n",
       "        <th id=\"T_cda8d008_f3b5_11e8_b5f5_3464a91dff6alevel0_row6\" class=\"row_heading level0 row6\" >2015-12-31 00:00:00</th> \n",
       "        <td id=\"T_cda8d008_f3b5_11e8_b5f5_3464a91dff6arow6_col0\" class=\"data row6 col0\" >-3.02%</td> \n",
       "        <td id=\"T_cda8d008_f3b5_11e8_b5f5_3464a91dff6arow6_col1\" class=\"data row6 col1\" >46.61%</td> \n",
       "        <td id=\"T_cda8d008_f3b5_11e8_b5f5_3464a91dff6arow6_col2\" class=\"data row6 col2\" >22.70%</td> \n",
       "        <td id=\"T_cda8d008_f3b5_11e8_b5f5_3464a91dff6arow6_col3\" class=\"data row6 col3\" >30.42%</td> \n",
       "        <td id=\"T_cda8d008_f3b5_11e8_b5f5_3464a91dff6arow6_col4\" class=\"data row6 col4\" >5.12%</td> \n",
       "    </tr>    <tr> \n",
       "        <th id=\"T_cda8d008_f3b5_11e8_b5f5_3464a91dff6alevel0_row7\" class=\"row_heading level0 row7\" >2016-12-31 00:00:00</th> \n",
       "        <td id=\"T_cda8d008_f3b5_11e8_b5f5_3464a91dff6arow7_col0\" class=\"data row7 col0\" >12.48%</td> \n",
       "        <td id=\"T_cda8d008_f3b5_11e8_b5f5_3464a91dff6arow7_col1\" class=\"data row7 col1\" >1.86%</td> \n",
       "        <td id=\"T_cda8d008_f3b5_11e8_b5f5_3464a91dff6arow7_col2\" class=\"data row7 col2\" >15.07%</td> \n",
       "        <td id=\"T_cda8d008_f3b5_11e8_b5f5_3464a91dff6arow7_col3\" class=\"data row7 col3\" >6.20%</td> \n",
       "        <td id=\"T_cda8d008_f3b5_11e8_b5f5_3464a91dff6arow7_col4\" class=\"data row7 col4\" >-0.34%</td> \n",
       "    </tr>    <tr> \n",
       "        <th id=\"T_cda8d008_f3b5_11e8_b5f5_3464a91dff6alevel0_row8\" class=\"row_heading level0 row8\" >2017-12-31 00:00:00</th> \n",
       "        <td id=\"T_cda8d008_f3b5_11e8_b5f5_3464a91dff6arow8_col0\" class=\"data row8 col0\" >48.48%</td> \n",
       "        <td id=\"T_cda8d008_f3b5_11e8_b5f5_3464a91dff6arow8_col1\" class=\"data row8 col1\" >32.93%</td> \n",
       "        <td id=\"T_cda8d008_f3b5_11e8_b5f5_3464a91dff6arow8_col2\" class=\"data row8 col2\" >40.72%</td> \n",
       "        <td id=\"T_cda8d008_f3b5_11e8_b5f5_3464a91dff6arow8_col3\" class=\"data row8 col3\" >45.02%</td> \n",
       "        <td id=\"T_cda8d008_f3b5_11e8_b5f5_3464a91dff6arow8_col4\" class=\"data row8 col4\" >14.37%</td> \n",
       "    </tr>    <tr> \n",
       "        <th id=\"T_cda8d008_f3b5_11e8_b5f5_3464a91dff6alevel0_row9\" class=\"row_heading level0 row9\" >2018-12-31 00:00:00</th> \n",
       "        <td id=\"T_cda8d008_f3b5_11e8_b5f5_3464a91dff6arow9_col0\" class=\"data row9 col0\" >8.14%</td> \n",
       "        <td id=\"T_cda8d008_f3b5_11e8_b5f5_3464a91dff6arow9_col1\" class=\"data row9 col1\" >3.64%</td> \n",
       "        <td id=\"T_cda8d008_f3b5_11e8_b5f5_3464a91dff6arow9_col2\" class=\"data row9 col2\" >31.58%</td> \n",
       "        <td id=\"T_cda8d008_f3b5_11e8_b5f5_3464a91dff6arow9_col3\" class=\"data row9 col3\" >10.53%</td> \n",
       "        <td id=\"T_cda8d008_f3b5_11e8_b5f5_3464a91dff6arow9_col4\" class=\"data row9 col4\" >10.29%</td> \n",
       "    </tr></tbody> \n",
       "</table> "
      ],
      "text/plain": [
       "<pandas.io.formats.style.Styler at 0x221837a03c8>"
      ]
     },
     "execution_count": 11,
     "metadata": {},
     "output_type": "execute_result"
    }
   ],
   "source": [
    "# pandas ha una funzione - pct_change() - che calcola le variazioni percentuali secondo la formula dei rendimenti assoluti\n",
    "yearly_returns = prices.resample('A').last().pct_change().iloc[1:, :]\n",
    "yearly_returns.style.format('{:.2%}')"
   ]
  },
  {
   "cell_type": "markdown",
   "metadata": {},
   "source": [
    "Dai rendimenti per anno è possibile calcolare un **rendimento medio annualizzato**, da non confondere con il rendimento composto annuo (infatti, i risultati sono diversi!)."
   ]
  },
  {
   "cell_type": "code",
   "execution_count": 12,
   "metadata": {},
   "outputs": [
    {
     "data": {
      "text/html": [
       "<style  type=\"text/css\" >\n",
       "</style>  \n",
       "<table id=\"T_cde21b5e_f3b5_11e8_8387_3464a91dff6a\" > \n",
       "<thead>    <tr> \n",
       "        <th class=\"blank level0\" ></th> \n",
       "        <th class=\"col_heading level0 col0\" >AAPL</th> \n",
       "        <th class=\"col_heading level0 col1\" >GOOGL</th> \n",
       "        <th class=\"col_heading level0 col2\" >MSFT</th> \n",
       "        <th class=\"col_heading level0 col3\" >MCD</th> \n",
       "        <th class=\"col_heading level0 col4\" >KO</th> \n",
       "    </tr></thead> \n",
       "<tbody>    <tr> \n",
       "        <th id=\"T_cde21b5e_f3b5_11e8_8387_3464a91dff6alevel0_row0\" class=\"row_heading level0 row0\" >Rendimento medio annuo (%)</th> \n",
       "        <td id=\"T_cde21b5e_f3b5_11e8_8387_3464a91dff6arow0_col0\" class=\"data row0 col0\" >37.29%</td> \n",
       "        <td id=\"T_cde21b5e_f3b5_11e8_8387_3464a91dff6arow0_col1\" class=\"data row0 col1\" >25.35%</td> \n",
       "        <td id=\"T_cde21b5e_f3b5_11e8_8387_3464a91dff6arow0_col2\" class=\"data row0 col2\" >23.72%</td> \n",
       "        <td id=\"T_cde21b5e_f3b5_11e8_8387_3464a91dff6arow0_col3\" class=\"data row0 col3\" >16.20%</td> \n",
       "        <td id=\"T_cde21b5e_f3b5_11e8_8387_3464a91dff6arow0_col4\" class=\"data row0 col4\" >11.72%</td> \n",
       "    </tr></tbody> \n",
       "</table> "
      ],
      "text/plain": [
       "<pandas.io.formats.style.Styler at 0x22183814d30>"
      ]
     },
     "execution_count": 12,
     "metadata": {},
     "output_type": "execute_result"
    }
   ],
   "source": [
    "yearly_avgs = yearly_returns.mean().to_frame().T\n",
    "yearly_avgs.index = ['Rendimento medio annuo (%)']\n",
    "yearly_avgs.style.format('{:.2%}')"
   ]
  },
  {
   "cell_type": "markdown",
   "metadata": {},
   "source": [
    "Possiamo generare un grafico dei rendimenti percentuali annui e delle relative medie, con dei **toggle button** che permettano di scegliere il titolo da visualizzare."
   ]
  },
  {
   "cell_type": "code",
   "execution_count": 13,
   "metadata": {},
   "outputs": [
    {
     "data": {
      "application/vnd.jupyter.widget-view+json": {
       "model_id": "1c44826378c04c63bd5dab55e003ab52",
       "version_major": 2,
       "version_minor": 0
      },
      "text/plain": [
       "VBox(children=(ToggleButtons(description='Titolo', layout=Layout(right='50px', top='10px', width='70%'), optio…"
      ]
     },
     "metadata": {},
     "output_type": "display_data"
    }
   ],
   "source": [
    "# Costruiamo dei toggle buttons per selezionare il titolo\n",
    "opts_4 = [c for c in yearly_returns.columns]\n",
    "buttons_4 = widgets.ToggleButtons(options=opts_4, description='Titolo', layout={'width': '70%', 'top': '10px', 'right': '50px'})\n",
    "\n",
    "# Costruiamo un grafico a barre con le etichette delle percentuali e una linea orizzontale a rappresentare la media\n",
    "x_sc_4 = bq.DateScale()\n",
    "y_sc_4 = bq.LinearScale(max=max(1.1 * yearly_returns.loc[:, buttons_4.value].max(), 0), min=min(1.1 * yearly_returns.loc[:, buttons_4.value].min(), 0))\n",
    "x_sec_4 = bq.OrdinalScale()\n",
    "x_ter_4 = bq.LinearScale(min=0, max=1)\n",
    "bars_4 = bq.Bars(x=yearly_returns.index, y=yearly_returns.loc[:, buttons_4.value], scales={'x': x_sc_4, 'y': y_sc_4},\n",
    "                 colors=[bq.colorschemes.CATEGORY10[yearly_returns.columns.get_loc(buttons_4.value)]])\n",
    "labels_4 = bq.Label(x=range(len(yearly_returns.index)), y=yearly_returns.loc[:, buttons_4.value], text=[f'{v:.2%}' for v in yearly_returns.loc[:, buttons_4.value]],\n",
    "                    scales={'x': x_sec_4, 'y': y_sc_4}, colors=['#AAAAAA'], align='middle', y_offset=-15, default_size=13)\n",
    "avg_line_4 = bq.Lines(x=[0, 1], y=[yearly_avgs.loc[:, buttons_4.value], yearly_avgs.loc[:, buttons_4.value]], scales={'x': x_ter_4, 'y': y_sc_4}, colors=['#666666'], \n",
    "                      line_style='dash_dotted', display_legend=True, labels=[f'Rendimento medio annuo: {v:.2%}' for v in yearly_avgs.loc[:, buttons_4.value]])\n",
    "ax_x_4 = bq.Axis(scale=x_sc_4, grid_lines='solid', grid_color='#DDDDDD')\n",
    "ax_x_sec_4 = bq.Axis(scale=x_sec_4, visible=False)\n",
    "ax_x_ter_4 = bq.Axis(scale=x_ter_4, visible=False)\n",
    "ax_y_4 = bq.Axis(scale=y_sc_4, orientation='vertical', tick_format='0%', grid_lines='solid', grid_color='#DDDDDD')\n",
    "fig_4 = bq.Figure(marks=[bars_4, labels_4, avg_line_4], axes=[ax_x_4, ax_x_sec_4, ax_x_ter_4, ax_y_4], title=f'Rendimenti percentuali annui per {buttons_4.value}', \n",
    "                  background_style={'fill': 'white'}, layout=widgets.Layout(width='60%'))\n",
    "\n",
    "# Definiamo una funzione per aggiornare il grafico, le etichette, la media e il titolo\n",
    "def update_plot_4(change):\n",
    "    \"\"\" Update the chart with value from the toggle buttons.\"\"\"\n",
    "    y_sc_4.max = max(1.1 * yearly_returns.loc[:, buttons_4.value].max(), 0)\n",
    "    y_sc_4.min = min(1.1 * yearly_returns.loc[:, buttons_4.value].min(), 0)   \n",
    "    bars_4.y = yearly_returns.loc[:, buttons_4.value]\n",
    "    bars_4.colors = [bq.colorschemes.CATEGORY10[yearly_returns.columns.get_loc(buttons_4.value)]]\n",
    "    labels_4.y = yearly_returns.loc[:, buttons_4.value]\n",
    "    labels_4.text = [f'{v:.2%}' for v in yearly_returns.loc[:, buttons_4.value]]\n",
    "    avg_line_4.y = [yearly_avgs.loc[:, buttons_4.value], yearly_avgs.loc[:, buttons_4.value]]\n",
    "    avg_line_4.labels = [f'Rendimento medio annuo: {v:.2%}' for v in yearly_avgs.loc[:, buttons_4.value]]\n",
    "    fig_4.title = f'Rendimenti percentuali annui per {buttons_4.value}'\n",
    "\n",
    "# Intercettiamo i valori dei toggle buttons\n",
    "buttons_4.observe(update_plot_4, 'value')\n",
    "\n",
    "# Definiamo il layout delle widget\n",
    "widgets.VBox([buttons_4, fig_4])"
   ]
  },
  {
   "cell_type": "markdown",
   "metadata": {},
   "source": [
    "Oltre ai rendimenti percentuali, in finanza è comune calcolare i **rendimenti logaritmici**, definiti come la differenza dei logaritmi dei prezzi a fine e a inizio periodo. In formula $$ln(P_T) - ln(P_0)$$"
   ]
  },
  {
   "cell_type": "code",
   "execution_count": 14,
   "metadata": {},
   "outputs": [
    {
     "data": {
      "text/html": [
       "<style  type=\"text/css\" >\n",
       "</style>  \n",
       "<table id=\"T_ce584e90_f3b5_11e8_a4b5_3464a91dff6a\" > \n",
       "<thead>    <tr> \n",
       "        <th class=\"blank level0\" ></th> \n",
       "        <th class=\"col_heading level0 col0\" >AAPL</th> \n",
       "        <th class=\"col_heading level0 col1\" >GOOGL</th> \n",
       "        <th class=\"col_heading level0 col2\" >MSFT</th> \n",
       "        <th class=\"col_heading level0 col3\" >MCD</th> \n",
       "        <th class=\"col_heading level0 col4\" >KO</th> \n",
       "    </tr>    <tr> \n",
       "        <th class=\"index_name level0\" >date</th> \n",
       "        <th class=\"blank\" ></th> \n",
       "        <th class=\"blank\" ></th> \n",
       "        <th class=\"blank\" ></th> \n",
       "        <th class=\"blank\" ></th> \n",
       "        <th class=\"blank\" ></th> \n",
       "    </tr></thead> \n",
       "<tbody>    <tr> \n",
       "        <th id=\"T_ce584e90_f3b5_11e8_a4b5_3464a91dff6alevel0_row0\" class=\"row_heading level0 row0\" >2009-12-31 00:00:00</th> \n",
       "        <td id=\"T_ce584e90_f3b5_11e8_a4b5_3464a91dff6arow0_col0\" class=\"data row0 col0\" >90.38%</td> \n",
       "        <td id=\"T_ce584e90_f3b5_11e8_a4b5_3464a91dff6arow0_col1\" class=\"data row0 col1\" >70.07%</td> \n",
       "        <td id=\"T_ce584e90_f3b5_11e8_a4b5_3464a91dff6arow0_col2\" class=\"data row0 col2\" >47.31%</td> \n",
       "        <td id=\"T_ce584e90_f3b5_11e8_a4b5_3464a91dff6arow0_col3\" class=\"data row0 col3\" >3.93%</td> \n",
       "        <td id=\"T_ce584e90_f3b5_11e8_a4b5_3464a91dff6arow0_col4\" class=\"data row0 col4\" >26.42%</td> \n",
       "    </tr>    <tr> \n",
       "        <th id=\"T_ce584e90_f3b5_11e8_a4b5_3464a91dff6alevel0_row1\" class=\"row_heading level0 row1\" >2010-12-31 00:00:00</th> \n",
       "        <td id=\"T_ce584e90_f3b5_11e8_a4b5_3464a91dff6arow1_col0\" class=\"data row1 col0\" >42.57%</td> \n",
       "        <td id=\"T_ce584e90_f3b5_11e8_a4b5_3464a91dff6arow1_col1\" class=\"data row1 col1\" >-4.29%</td> \n",
       "        <td id=\"T_ce584e90_f3b5_11e8_a4b5_3464a91dff6arow1_col2\" class=\"data row1 col2\" >-6.75%</td> \n",
       "        <td id=\"T_ce584e90_f3b5_11e8_a4b5_3464a91dff6arow1_col3\" class=\"data row1 col3\" >23.84%</td> \n",
       "        <td id=\"T_ce584e90_f3b5_11e8_a4b5_3464a91dff6arow1_col4\" class=\"data row1 col4\" >17.42%</td> \n",
       "    </tr>    <tr> \n",
       "        <th id=\"T_ce584e90_f3b5_11e8_a4b5_3464a91dff6alevel0_row2\" class=\"row_heading level0 row2\" >2011-12-31 00:00:00</th> \n",
       "        <td id=\"T_ce584e90_f3b5_11e8_a4b5_3464a91dff6arow2_col0\" class=\"data row2 col0\" >22.76%</td> \n",
       "        <td id=\"T_ce584e90_f3b5_11e8_a4b5_3464a91dff6arow2_col1\" class=\"data row2 col1\" >8.38%</td> \n",
       "        <td id=\"T_ce584e90_f3b5_11e8_a4b5_3464a91dff6arow2_col2\" class=\"data row2 col2\" >-4.63%</td> \n",
       "        <td id=\"T_ce584e90_f3b5_11e8_a4b5_3464a91dff6arow2_col3\" class=\"data row2 col3\" >29.75%</td> \n",
       "        <td id=\"T_ce584e90_f3b5_11e8_a4b5_3464a91dff6arow2_col4\" class=\"data row2 col4\" >9.02%</td> \n",
       "    </tr>    <tr> \n",
       "        <th id=\"T_ce584e90_f3b5_11e8_a4b5_3464a91dff6alevel0_row3\" class=\"row_heading level0 row3\" >2012-12-31 00:00:00</th> \n",
       "        <td id=\"T_ce584e90_f3b5_11e8_a4b5_3464a91dff6arow3_col0\" class=\"data row3 col0\" >28.21%</td> \n",
       "        <td id=\"T_ce584e90_f3b5_11e8_a4b5_3464a91dff6arow3_col1\" class=\"data row3 col1\" >9.09%</td> \n",
       "        <td id=\"T_ce584e90_f3b5_11e8_a4b5_3464a91dff6arow3_col2\" class=\"data row3 col2\" >5.67%</td> \n",
       "        <td id=\"T_ce584e90_f3b5_11e8_a4b5_3464a91dff6arow3_col3\" class=\"data row3 col3\" >-9.72%</td> \n",
       "        <td id=\"T_ce584e90_f3b5_11e8_a4b5_3464a91dff6arow3_col4\" class=\"data row3 col4\" >6.31%</td> \n",
       "    </tr>    <tr> \n",
       "        <th id=\"T_ce584e90_f3b5_11e8_a4b5_3464a91dff6alevel0_row4\" class=\"row_heading level0 row4\" >2013-12-31 00:00:00</th> \n",
       "        <td id=\"T_ce584e90_f3b5_11e8_a4b5_3464a91dff6arow4_col0\" class=\"data row4 col0\" >7.75%</td> \n",
       "        <td id=\"T_ce584e90_f3b5_11e8_a4b5_3464a91dff6arow4_col1\" class=\"data row4 col1\" >46.01%</td> \n",
       "        <td id=\"T_ce584e90_f3b5_11e8_a4b5_3464a91dff6arow4_col2\" class=\"data row4 col2\" >36.66%</td> \n",
       "        <td id=\"T_ce584e90_f3b5_11e8_a4b5_3464a91dff6arow4_col3\" class=\"data row4 col3\" >12.76%</td> \n",
       "        <td id=\"T_ce584e90_f3b5_11e8_a4b5_3464a91dff6arow4_col4\" class=\"data row4 col4\" >15.90%</td> \n",
       "    </tr>    <tr> \n",
       "        <th id=\"T_ce584e90_f3b5_11e8_a4b5_3464a91dff6alevel0_row5\" class=\"row_heading level0 row5\" >2014-12-31 00:00:00</th> \n",
       "        <td id=\"T_ce584e90_f3b5_11e8_a4b5_3464a91dff6arow5_col0\" class=\"data row5 col0\" >34.09%</td> \n",
       "        <td id=\"T_ce584e90_f3b5_11e8_a4b5_3464a91dff6arow5_col1\" class=\"data row5 col1\" >-5.75%</td> \n",
       "        <td id=\"T_ce584e90_f3b5_11e8_a4b5_3464a91dff6arow5_col2\" class=\"data row5 col2\" >24.33%</td> \n",
       "        <td id=\"T_ce584e90_f3b5_11e8_a4b5_3464a91dff6arow5_col3\" class=\"data row5 col3\" >-0.11%</td> \n",
       "        <td id=\"T_ce584e90_f3b5_11e8_a4b5_3464a91dff6arow5_col4\" class=\"data row5 col4\" >5.13%</td> \n",
       "    </tr>    <tr> \n",
       "        <th id=\"T_ce584e90_f3b5_11e8_a4b5_3464a91dff6alevel0_row6\" class=\"row_heading level0 row6\" >2015-12-31 00:00:00</th> \n",
       "        <td id=\"T_ce584e90_f3b5_11e8_a4b5_3464a91dff6arow6_col0\" class=\"data row6 col0\" >-3.06%</td> \n",
       "        <td id=\"T_ce584e90_f3b5_11e8_a4b5_3464a91dff6arow6_col1\" class=\"data row6 col1\" >38.26%</td> \n",
       "        <td id=\"T_ce584e90_f3b5_11e8_a4b5_3464a91dff6arow6_col2\" class=\"data row6 col2\" >20.45%</td> \n",
       "        <td id=\"T_ce584e90_f3b5_11e8_a4b5_3464a91dff6arow6_col3\" class=\"data row6 col3\" >26.56%</td> \n",
       "        <td id=\"T_ce584e90_f3b5_11e8_a4b5_3464a91dff6arow6_col4\" class=\"data row6 col4\" >4.99%</td> \n",
       "    </tr>    <tr> \n",
       "        <th id=\"T_ce584e90_f3b5_11e8_a4b5_3464a91dff6alevel0_row7\" class=\"row_heading level0 row7\" >2016-12-31 00:00:00</th> \n",
       "        <td id=\"T_ce584e90_f3b5_11e8_a4b5_3464a91dff6arow7_col0\" class=\"data row7 col0\" >11.76%</td> \n",
       "        <td id=\"T_ce584e90_f3b5_11e8_a4b5_3464a91dff6arow7_col1\" class=\"data row7 col1\" >1.84%</td> \n",
       "        <td id=\"T_ce584e90_f3b5_11e8_a4b5_3464a91dff6arow7_col2\" class=\"data row7 col2\" >14.03%</td> \n",
       "        <td id=\"T_ce584e90_f3b5_11e8_a4b5_3464a91dff6arow7_col3\" class=\"data row7 col3\" >6.02%</td> \n",
       "        <td id=\"T_ce584e90_f3b5_11e8_a4b5_3464a91dff6arow7_col4\" class=\"data row7 col4\" >-0.34%</td> \n",
       "    </tr>    <tr> \n",
       "        <th id=\"T_ce584e90_f3b5_11e8_a4b5_3464a91dff6alevel0_row8\" class=\"row_heading level0 row8\" >2017-12-31 00:00:00</th> \n",
       "        <td id=\"T_ce584e90_f3b5_11e8_a4b5_3464a91dff6arow8_col0\" class=\"data row8 col0\" >39.52%</td> \n",
       "        <td id=\"T_ce584e90_f3b5_11e8_a4b5_3464a91dff6arow8_col1\" class=\"data row8 col1\" >28.46%</td> \n",
       "        <td id=\"T_ce584e90_f3b5_11e8_a4b5_3464a91dff6arow8_col2\" class=\"data row8 col2\" >34.16%</td> \n",
       "        <td id=\"T_ce584e90_f3b5_11e8_a4b5_3464a91dff6arow8_col3\" class=\"data row8 col3\" >37.17%</td> \n",
       "        <td id=\"T_ce584e90_f3b5_11e8_a4b5_3464a91dff6arow8_col4\" class=\"data row8 col4\" >13.43%</td> \n",
       "    </tr>    <tr> \n",
       "        <th id=\"T_ce584e90_f3b5_11e8_a4b5_3464a91dff6alevel0_row9\" class=\"row_heading level0 row9\" >2018-12-31 00:00:00</th> \n",
       "        <td id=\"T_ce584e90_f3b5_11e8_a4b5_3464a91dff6arow9_col0\" class=\"data row9 col0\" >7.83%</td> \n",
       "        <td id=\"T_ce584e90_f3b5_11e8_a4b5_3464a91dff6arow9_col1\" class=\"data row9 col1\" >3.58%</td> \n",
       "        <td id=\"T_ce584e90_f3b5_11e8_a4b5_3464a91dff6arow9_col2\" class=\"data row9 col2\" >27.44%</td> \n",
       "        <td id=\"T_ce584e90_f3b5_11e8_a4b5_3464a91dff6arow9_col3\" class=\"data row9 col3\" >10.02%</td> \n",
       "        <td id=\"T_ce584e90_f3b5_11e8_a4b5_3464a91dff6arow9_col4\" class=\"data row9 col4\" >9.80%</td> \n",
       "    </tr></tbody> \n",
       "</table> "
      ],
      "text/plain": [
       "<pandas.io.formats.style.Styler at 0x221837fd6d8>"
      ]
     },
     "execution_count": 14,
     "metadata": {},
     "output_type": "execute_result"
    }
   ],
   "source": [
    "# Importiamo numpy per avere la funzione logaritmo, non disponibile in pandas\n",
    "import numpy as np\n",
    "\n",
    "yearly_log_returns = prices.resample('A').last().apply(np.log).diff().iloc[1:, :]\n",
    "yearly_log_returns.style.format('{:.2%}')"
   ]
  },
  {
   "cell_type": "markdown",
   "metadata": {},
   "source": [
    "Anche in questo caso, possiamo calcolare un rendimento medio (logaritmico) annualizzato, diverso da quello percentuale e da quello composto annuo."
   ]
  },
  {
   "cell_type": "code",
   "execution_count": 15,
   "metadata": {},
   "outputs": [
    {
     "data": {
      "text/html": [
       "<style  type=\"text/css\" >\n",
       "</style>  \n",
       "<table id=\"T_ce8f5e68_f3b5_11e8_aa5e_3464a91dff6a\" > \n",
       "<thead>    <tr> \n",
       "        <th class=\"blank level0\" ></th> \n",
       "        <th class=\"col_heading level0 col0\" >AAPL</th> \n",
       "        <th class=\"col_heading level0 col1\" >GOOGL</th> \n",
       "        <th class=\"col_heading level0 col2\" >MSFT</th> \n",
       "        <th class=\"col_heading level0 col3\" >MCD</th> \n",
       "        <th class=\"col_heading level0 col4\" >KO</th> \n",
       "    </tr></thead> \n",
       "<tbody>    <tr> \n",
       "        <th id=\"T_ce8f5e68_f3b5_11e8_aa5e_3464a91dff6alevel0_row0\" class=\"row_heading level0 row0\" >Log rendimento medio annuo (%)</th> \n",
       "        <td id=\"T_ce8f5e68_f3b5_11e8_aa5e_3464a91dff6arow0_col0\" class=\"data row0 col0\" >28.18%</td> \n",
       "        <td id=\"T_ce8f5e68_f3b5_11e8_aa5e_3464a91dff6arow0_col1\" class=\"data row0 col1\" >19.57%</td> \n",
       "        <td id=\"T_ce8f5e68_f3b5_11e8_aa5e_3464a91dff6arow0_col2\" class=\"data row0 col2\" >19.87%</td> \n",
       "        <td id=\"T_ce8f5e68_f3b5_11e8_aa5e_3464a91dff6arow0_col3\" class=\"data row0 col3\" >14.02%</td> \n",
       "        <td id=\"T_ce8f5e68_f3b5_11e8_aa5e_3464a91dff6arow0_col4\" class=\"data row0 col4\" >10.81%</td> \n",
       "    </tr></tbody> \n",
       "</table> "
      ],
      "text/plain": [
       "<pandas.io.formats.style.Styler at 0x22183802fd0>"
      ]
     },
     "execution_count": 15,
     "metadata": {},
     "output_type": "execute_result"
    }
   ],
   "source": [
    "yearly_log_avgs = yearly_log_returns.mean().to_frame().T\n",
    "yearly_log_avgs.index = ['Log rendimento medio annuo (%)']\n",
    "yearly_log_avgs.style.format('{:.2%}')"
   ]
  },
  {
   "cell_type": "markdown",
   "metadata": {},
   "source": [
    "Un interessante proprietà dei **rendimenti logaritmici** è che sono \"simmetrici\"\", ossia una perdita del 30% seguita da un guadagno del 30% in termini logaritmici ci riporta al livello iniziale. Questo non è vero per i rendimenti percentuali! In termini logaritmici, inoltre, è possibile perdere più del 100%."
   ]
  },
  {
   "cell_type": "markdown",
   "metadata": {},
   "source": [
    "Per trasformare i rendimenti logaritmici in rendimenti percentuali vale la formula $$R = e^r - 1$$ dove $R$ sono i rendimenti percentuali e $r$ quelli logaritmici."
   ]
  },
  {
   "cell_type": "code",
   "execution_count": 16,
   "metadata": {},
   "outputs": [
    {
     "data": {
      "text/html": [
       "<style  type=\"text/css\" >\n",
       "</style>  \n",
       "<table id=\"T_cee40878_f3b5_11e8_b22e_3464a91dff6a\" > \n",
       "<thead>    <tr> \n",
       "        <th class=\"blank level0\" ></th> \n",
       "        <th class=\"col_heading level0 col0\" >AAPL</th> \n",
       "        <th class=\"col_heading level0 col1\" >GOOGL</th> \n",
       "        <th class=\"col_heading level0 col2\" >MSFT</th> \n",
       "        <th class=\"col_heading level0 col3\" >MCD</th> \n",
       "        <th class=\"col_heading level0 col4\" >KO</th> \n",
       "    </tr>    <tr> \n",
       "        <th class=\"index_name level0\" >date</th> \n",
       "        <th class=\"blank\" ></th> \n",
       "        <th class=\"blank\" ></th> \n",
       "        <th class=\"blank\" ></th> \n",
       "        <th class=\"blank\" ></th> \n",
       "        <th class=\"blank\" ></th> \n",
       "    </tr></thead> \n",
       "<tbody>    <tr> \n",
       "        <th id=\"T_cee40878_f3b5_11e8_b22e_3464a91dff6alevel0_row0\" class=\"row_heading level0 row0\" >2009-12-31 00:00:00</th> \n",
       "        <td id=\"T_cee40878_f3b5_11e8_b22e_3464a91dff6arow0_col0\" class=\"data row0 col0\" >146.90%</td> \n",
       "        <td id=\"T_cee40878_f3b5_11e8_b22e_3464a91dff6arow0_col1\" class=\"data row0 col1\" >101.52%</td> \n",
       "        <td id=\"T_cee40878_f3b5_11e8_b22e_3464a91dff6arow0_col2\" class=\"data row0 col2\" >60.50%</td> \n",
       "        <td id=\"T_cee40878_f3b5_11e8_b22e_3464a91dff6arow0_col3\" class=\"data row0 col3\" >4.01%</td> \n",
       "        <td id=\"T_cee40878_f3b5_11e8_b22e_3464a91dff6arow0_col4\" class=\"data row0 col4\" >30.24%</td> \n",
       "    </tr>    <tr> \n",
       "        <th id=\"T_cee40878_f3b5_11e8_b22e_3464a91dff6alevel0_row1\" class=\"row_heading level0 row1\" >2010-12-31 00:00:00</th> \n",
       "        <td id=\"T_cee40878_f3b5_11e8_b22e_3464a91dff6arow1_col0\" class=\"data row1 col0\" >53.07%</td> \n",
       "        <td id=\"T_cee40878_f3b5_11e8_b22e_3464a91dff6arow1_col1\" class=\"data row1 col1\" >-4.20%</td> \n",
       "        <td id=\"T_cee40878_f3b5_11e8_b22e_3464a91dff6arow1_col2\" class=\"data row1 col2\" >-6.53%</td> \n",
       "        <td id=\"T_cee40878_f3b5_11e8_b22e_3464a91dff6arow1_col3\" class=\"data row1 col3\" >26.93%</td> \n",
       "        <td id=\"T_cee40878_f3b5_11e8_b22e_3464a91dff6arow1_col4\" class=\"data row1 col4\" >19.03%</td> \n",
       "    </tr>    <tr> \n",
       "        <th id=\"T_cee40878_f3b5_11e8_b22e_3464a91dff6alevel0_row2\" class=\"row_heading level0 row2\" >2011-12-31 00:00:00</th> \n",
       "        <td id=\"T_cee40878_f3b5_11e8_b22e_3464a91dff6arow2_col0\" class=\"data row2 col0\" >25.56%</td> \n",
       "        <td id=\"T_cee40878_f3b5_11e8_b22e_3464a91dff6arow2_col1\" class=\"data row2 col1\" >8.74%</td> \n",
       "        <td id=\"T_cee40878_f3b5_11e8_b22e_3464a91dff6arow2_col2\" class=\"data row2 col2\" >-4.52%</td> \n",
       "        <td id=\"T_cee40878_f3b5_11e8_b22e_3464a91dff6arow2_col3\" class=\"data row2 col3\" >34.66%</td> \n",
       "        <td id=\"T_cee40878_f3b5_11e8_b22e_3464a91dff6arow2_col4\" class=\"data row2 col4\" >9.44%</td> \n",
       "    </tr>    <tr> \n",
       "        <th id=\"T_cee40878_f3b5_11e8_b22e_3464a91dff6alevel0_row3\" class=\"row_heading level0 row3\" >2012-12-31 00:00:00</th> \n",
       "        <td id=\"T_cee40878_f3b5_11e8_b22e_3464a91dff6arow3_col0\" class=\"data row3 col0\" >32.59%</td> \n",
       "        <td id=\"T_cee40878_f3b5_11e8_b22e_3464a91dff6arow3_col1\" class=\"data row3 col1\" >9.52%</td> \n",
       "        <td id=\"T_cee40878_f3b5_11e8_b22e_3464a91dff6arow3_col2\" class=\"data row3 col2\" >5.84%</td> \n",
       "        <td id=\"T_cee40878_f3b5_11e8_b22e_3464a91dff6arow3_col3\" class=\"data row3 col3\" >-9.26%</td> \n",
       "        <td id=\"T_cee40878_f3b5_11e8_b22e_3464a91dff6arow3_col4\" class=\"data row3 col4\" >6.51%</td> \n",
       "    </tr>    <tr> \n",
       "        <th id=\"T_cee40878_f3b5_11e8_b22e_3464a91dff6alevel0_row4\" class=\"row_heading level0 row4\" >2013-12-31 00:00:00</th> \n",
       "        <td id=\"T_cee40878_f3b5_11e8_b22e_3464a91dff6arow4_col0\" class=\"data row4 col0\" >8.06%</td> \n",
       "        <td id=\"T_cee40878_f3b5_11e8_b22e_3464a91dff6arow4_col1\" class=\"data row4 col1\" >58.43%</td> \n",
       "        <td id=\"T_cee40878_f3b5_11e8_b22e_3464a91dff6arow4_col2\" class=\"data row4 col2\" >44.28%</td> \n",
       "        <td id=\"T_cee40878_f3b5_11e8_b22e_3464a91dff6arow4_col3\" class=\"data row4 col3\" >13.61%</td> \n",
       "        <td id=\"T_cee40878_f3b5_11e8_b22e_3464a91dff6arow4_col4\" class=\"data row4 col4\" >17.23%</td> \n",
       "    </tr>    <tr> \n",
       "        <th id=\"T_cee40878_f3b5_11e8_b22e_3464a91dff6alevel0_row5\" class=\"row_heading level0 row5\" >2014-12-31 00:00:00</th> \n",
       "        <td id=\"T_cee40878_f3b5_11e8_b22e_3464a91dff6arow5_col0\" class=\"data row5 col0\" >40.62%</td> \n",
       "        <td id=\"T_cee40878_f3b5_11e8_b22e_3464a91dff6arow5_col1\" class=\"data row5 col1\" >-5.59%</td> \n",
       "        <td id=\"T_cee40878_f3b5_11e8_b22e_3464a91dff6arow5_col2\" class=\"data row5 col2\" >27.54%</td> \n",
       "        <td id=\"T_cee40878_f3b5_11e8_b22e_3464a91dff6arow5_col3\" class=\"data row5 col3\" >-0.11%</td> \n",
       "        <td id=\"T_cee40878_f3b5_11e8_b22e_3464a91dff6arow5_col4\" class=\"data row5 col4\" >5.27%</td> \n",
       "    </tr>    <tr> \n",
       "        <th id=\"T_cee40878_f3b5_11e8_b22e_3464a91dff6alevel0_row6\" class=\"row_heading level0 row6\" >2015-12-31 00:00:00</th> \n",
       "        <td id=\"T_cee40878_f3b5_11e8_b22e_3464a91dff6arow6_col0\" class=\"data row6 col0\" >-3.02%</td> \n",
       "        <td id=\"T_cee40878_f3b5_11e8_b22e_3464a91dff6arow6_col1\" class=\"data row6 col1\" >46.61%</td> \n",
       "        <td id=\"T_cee40878_f3b5_11e8_b22e_3464a91dff6arow6_col2\" class=\"data row6 col2\" >22.70%</td> \n",
       "        <td id=\"T_cee40878_f3b5_11e8_b22e_3464a91dff6arow6_col3\" class=\"data row6 col3\" >30.42%</td> \n",
       "        <td id=\"T_cee40878_f3b5_11e8_b22e_3464a91dff6arow6_col4\" class=\"data row6 col4\" >5.12%</td> \n",
       "    </tr>    <tr> \n",
       "        <th id=\"T_cee40878_f3b5_11e8_b22e_3464a91dff6alevel0_row7\" class=\"row_heading level0 row7\" >2016-12-31 00:00:00</th> \n",
       "        <td id=\"T_cee40878_f3b5_11e8_b22e_3464a91dff6arow7_col0\" class=\"data row7 col0\" >12.48%</td> \n",
       "        <td id=\"T_cee40878_f3b5_11e8_b22e_3464a91dff6arow7_col1\" class=\"data row7 col1\" >1.86%</td> \n",
       "        <td id=\"T_cee40878_f3b5_11e8_b22e_3464a91dff6arow7_col2\" class=\"data row7 col2\" >15.07%</td> \n",
       "        <td id=\"T_cee40878_f3b5_11e8_b22e_3464a91dff6arow7_col3\" class=\"data row7 col3\" >6.20%</td> \n",
       "        <td id=\"T_cee40878_f3b5_11e8_b22e_3464a91dff6arow7_col4\" class=\"data row7 col4\" >-0.34%</td> \n",
       "    </tr>    <tr> \n",
       "        <th id=\"T_cee40878_f3b5_11e8_b22e_3464a91dff6alevel0_row8\" class=\"row_heading level0 row8\" >2017-12-31 00:00:00</th> \n",
       "        <td id=\"T_cee40878_f3b5_11e8_b22e_3464a91dff6arow8_col0\" class=\"data row8 col0\" >48.48%</td> \n",
       "        <td id=\"T_cee40878_f3b5_11e8_b22e_3464a91dff6arow8_col1\" class=\"data row8 col1\" >32.93%</td> \n",
       "        <td id=\"T_cee40878_f3b5_11e8_b22e_3464a91dff6arow8_col2\" class=\"data row8 col2\" >40.72%</td> \n",
       "        <td id=\"T_cee40878_f3b5_11e8_b22e_3464a91dff6arow8_col3\" class=\"data row8 col3\" >45.02%</td> \n",
       "        <td id=\"T_cee40878_f3b5_11e8_b22e_3464a91dff6arow8_col4\" class=\"data row8 col4\" >14.37%</td> \n",
       "    </tr>    <tr> \n",
       "        <th id=\"T_cee40878_f3b5_11e8_b22e_3464a91dff6alevel0_row9\" class=\"row_heading level0 row9\" >2018-12-31 00:00:00</th> \n",
       "        <td id=\"T_cee40878_f3b5_11e8_b22e_3464a91dff6arow9_col0\" class=\"data row9 col0\" >8.14%</td> \n",
       "        <td id=\"T_cee40878_f3b5_11e8_b22e_3464a91dff6arow9_col1\" class=\"data row9 col1\" >3.64%</td> \n",
       "        <td id=\"T_cee40878_f3b5_11e8_b22e_3464a91dff6arow9_col2\" class=\"data row9 col2\" >31.58%</td> \n",
       "        <td id=\"T_cee40878_f3b5_11e8_b22e_3464a91dff6arow9_col3\" class=\"data row9 col3\" >10.53%</td> \n",
       "        <td id=\"T_cee40878_f3b5_11e8_b22e_3464a91dff6arow9_col4\" class=\"data row9 col4\" >10.29%</td> \n",
       "    </tr></tbody> \n",
       "</table> "
      ],
      "text/plain": [
       "<pandas.io.formats.style.Styler at 0x22183802cc0>"
      ]
     },
     "execution_count": 16,
     "metadata": {},
     "output_type": "execute_result"
    }
   ],
   "source": [
    "((yearly_log_returns).apply(np.exp) - 1).style.format('{:.2%}')"
   ]
  },
  {
   "cell_type": "markdown",
   "metadata": {},
   "source": [
    "La formula inversa per passare dai rendimenti percentuali a quelli logaritmici è $$r = ln(1 + R)$$"
   ]
  },
  {
   "cell_type": "code",
   "execution_count": 17,
   "metadata": {},
   "outputs": [
    {
     "data": {
      "text/html": [
       "<style  type=\"text/css\" >\n",
       "</style>  \n",
       "<table id=\"T_cf48415c_f3b5_11e8_bcc9_3464a91dff6a\" > \n",
       "<thead>    <tr> \n",
       "        <th class=\"blank level0\" ></th> \n",
       "        <th class=\"col_heading level0 col0\" >AAPL</th> \n",
       "        <th class=\"col_heading level0 col1\" >GOOGL</th> \n",
       "        <th class=\"col_heading level0 col2\" >MSFT</th> \n",
       "        <th class=\"col_heading level0 col3\" >MCD</th> \n",
       "        <th class=\"col_heading level0 col4\" >KO</th> \n",
       "    </tr>    <tr> \n",
       "        <th class=\"index_name level0\" >date</th> \n",
       "        <th class=\"blank\" ></th> \n",
       "        <th class=\"blank\" ></th> \n",
       "        <th class=\"blank\" ></th> \n",
       "        <th class=\"blank\" ></th> \n",
       "        <th class=\"blank\" ></th> \n",
       "    </tr></thead> \n",
       "<tbody>    <tr> \n",
       "        <th id=\"T_cf48415c_f3b5_11e8_bcc9_3464a91dff6alevel0_row0\" class=\"row_heading level0 row0\" >2009-12-31 00:00:00</th> \n",
       "        <td id=\"T_cf48415c_f3b5_11e8_bcc9_3464a91dff6arow0_col0\" class=\"data row0 col0\" >90.38%</td> \n",
       "        <td id=\"T_cf48415c_f3b5_11e8_bcc9_3464a91dff6arow0_col1\" class=\"data row0 col1\" >70.07%</td> \n",
       "        <td id=\"T_cf48415c_f3b5_11e8_bcc9_3464a91dff6arow0_col2\" class=\"data row0 col2\" >47.31%</td> \n",
       "        <td id=\"T_cf48415c_f3b5_11e8_bcc9_3464a91dff6arow0_col3\" class=\"data row0 col3\" >3.93%</td> \n",
       "        <td id=\"T_cf48415c_f3b5_11e8_bcc9_3464a91dff6arow0_col4\" class=\"data row0 col4\" >26.42%</td> \n",
       "    </tr>    <tr> \n",
       "        <th id=\"T_cf48415c_f3b5_11e8_bcc9_3464a91dff6alevel0_row1\" class=\"row_heading level0 row1\" >2010-12-31 00:00:00</th> \n",
       "        <td id=\"T_cf48415c_f3b5_11e8_bcc9_3464a91dff6arow1_col0\" class=\"data row1 col0\" >42.57%</td> \n",
       "        <td id=\"T_cf48415c_f3b5_11e8_bcc9_3464a91dff6arow1_col1\" class=\"data row1 col1\" >-4.29%</td> \n",
       "        <td id=\"T_cf48415c_f3b5_11e8_bcc9_3464a91dff6arow1_col2\" class=\"data row1 col2\" >-6.75%</td> \n",
       "        <td id=\"T_cf48415c_f3b5_11e8_bcc9_3464a91dff6arow1_col3\" class=\"data row1 col3\" >23.84%</td> \n",
       "        <td id=\"T_cf48415c_f3b5_11e8_bcc9_3464a91dff6arow1_col4\" class=\"data row1 col4\" >17.42%</td> \n",
       "    </tr>    <tr> \n",
       "        <th id=\"T_cf48415c_f3b5_11e8_bcc9_3464a91dff6alevel0_row2\" class=\"row_heading level0 row2\" >2011-12-31 00:00:00</th> \n",
       "        <td id=\"T_cf48415c_f3b5_11e8_bcc9_3464a91dff6arow2_col0\" class=\"data row2 col0\" >22.76%</td> \n",
       "        <td id=\"T_cf48415c_f3b5_11e8_bcc9_3464a91dff6arow2_col1\" class=\"data row2 col1\" >8.38%</td> \n",
       "        <td id=\"T_cf48415c_f3b5_11e8_bcc9_3464a91dff6arow2_col2\" class=\"data row2 col2\" >-4.63%</td> \n",
       "        <td id=\"T_cf48415c_f3b5_11e8_bcc9_3464a91dff6arow2_col3\" class=\"data row2 col3\" >29.75%</td> \n",
       "        <td id=\"T_cf48415c_f3b5_11e8_bcc9_3464a91dff6arow2_col4\" class=\"data row2 col4\" >9.02%</td> \n",
       "    </tr>    <tr> \n",
       "        <th id=\"T_cf48415c_f3b5_11e8_bcc9_3464a91dff6alevel0_row3\" class=\"row_heading level0 row3\" >2012-12-31 00:00:00</th> \n",
       "        <td id=\"T_cf48415c_f3b5_11e8_bcc9_3464a91dff6arow3_col0\" class=\"data row3 col0\" >28.21%</td> \n",
       "        <td id=\"T_cf48415c_f3b5_11e8_bcc9_3464a91dff6arow3_col1\" class=\"data row3 col1\" >9.09%</td> \n",
       "        <td id=\"T_cf48415c_f3b5_11e8_bcc9_3464a91dff6arow3_col2\" class=\"data row3 col2\" >5.67%</td> \n",
       "        <td id=\"T_cf48415c_f3b5_11e8_bcc9_3464a91dff6arow3_col3\" class=\"data row3 col3\" >-9.72%</td> \n",
       "        <td id=\"T_cf48415c_f3b5_11e8_bcc9_3464a91dff6arow3_col4\" class=\"data row3 col4\" >6.31%</td> \n",
       "    </tr>    <tr> \n",
       "        <th id=\"T_cf48415c_f3b5_11e8_bcc9_3464a91dff6alevel0_row4\" class=\"row_heading level0 row4\" >2013-12-31 00:00:00</th> \n",
       "        <td id=\"T_cf48415c_f3b5_11e8_bcc9_3464a91dff6arow4_col0\" class=\"data row4 col0\" >7.75%</td> \n",
       "        <td id=\"T_cf48415c_f3b5_11e8_bcc9_3464a91dff6arow4_col1\" class=\"data row4 col1\" >46.01%</td> \n",
       "        <td id=\"T_cf48415c_f3b5_11e8_bcc9_3464a91dff6arow4_col2\" class=\"data row4 col2\" >36.66%</td> \n",
       "        <td id=\"T_cf48415c_f3b5_11e8_bcc9_3464a91dff6arow4_col3\" class=\"data row4 col3\" >12.76%</td> \n",
       "        <td id=\"T_cf48415c_f3b5_11e8_bcc9_3464a91dff6arow4_col4\" class=\"data row4 col4\" >15.90%</td> \n",
       "    </tr>    <tr> \n",
       "        <th id=\"T_cf48415c_f3b5_11e8_bcc9_3464a91dff6alevel0_row5\" class=\"row_heading level0 row5\" >2014-12-31 00:00:00</th> \n",
       "        <td id=\"T_cf48415c_f3b5_11e8_bcc9_3464a91dff6arow5_col0\" class=\"data row5 col0\" >34.09%</td> \n",
       "        <td id=\"T_cf48415c_f3b5_11e8_bcc9_3464a91dff6arow5_col1\" class=\"data row5 col1\" >-5.75%</td> \n",
       "        <td id=\"T_cf48415c_f3b5_11e8_bcc9_3464a91dff6arow5_col2\" class=\"data row5 col2\" >24.33%</td> \n",
       "        <td id=\"T_cf48415c_f3b5_11e8_bcc9_3464a91dff6arow5_col3\" class=\"data row5 col3\" >-0.11%</td> \n",
       "        <td id=\"T_cf48415c_f3b5_11e8_bcc9_3464a91dff6arow5_col4\" class=\"data row5 col4\" >5.13%</td> \n",
       "    </tr>    <tr> \n",
       "        <th id=\"T_cf48415c_f3b5_11e8_bcc9_3464a91dff6alevel0_row6\" class=\"row_heading level0 row6\" >2015-12-31 00:00:00</th> \n",
       "        <td id=\"T_cf48415c_f3b5_11e8_bcc9_3464a91dff6arow6_col0\" class=\"data row6 col0\" >-3.06%</td> \n",
       "        <td id=\"T_cf48415c_f3b5_11e8_bcc9_3464a91dff6arow6_col1\" class=\"data row6 col1\" >38.26%</td> \n",
       "        <td id=\"T_cf48415c_f3b5_11e8_bcc9_3464a91dff6arow6_col2\" class=\"data row6 col2\" >20.45%</td> \n",
       "        <td id=\"T_cf48415c_f3b5_11e8_bcc9_3464a91dff6arow6_col3\" class=\"data row6 col3\" >26.56%</td> \n",
       "        <td id=\"T_cf48415c_f3b5_11e8_bcc9_3464a91dff6arow6_col4\" class=\"data row6 col4\" >4.99%</td> \n",
       "    </tr>    <tr> \n",
       "        <th id=\"T_cf48415c_f3b5_11e8_bcc9_3464a91dff6alevel0_row7\" class=\"row_heading level0 row7\" >2016-12-31 00:00:00</th> \n",
       "        <td id=\"T_cf48415c_f3b5_11e8_bcc9_3464a91dff6arow7_col0\" class=\"data row7 col0\" >11.76%</td> \n",
       "        <td id=\"T_cf48415c_f3b5_11e8_bcc9_3464a91dff6arow7_col1\" class=\"data row7 col1\" >1.84%</td> \n",
       "        <td id=\"T_cf48415c_f3b5_11e8_bcc9_3464a91dff6arow7_col2\" class=\"data row7 col2\" >14.03%</td> \n",
       "        <td id=\"T_cf48415c_f3b5_11e8_bcc9_3464a91dff6arow7_col3\" class=\"data row7 col3\" >6.02%</td> \n",
       "        <td id=\"T_cf48415c_f3b5_11e8_bcc9_3464a91dff6arow7_col4\" class=\"data row7 col4\" >-0.34%</td> \n",
       "    </tr>    <tr> \n",
       "        <th id=\"T_cf48415c_f3b5_11e8_bcc9_3464a91dff6alevel0_row8\" class=\"row_heading level0 row8\" >2017-12-31 00:00:00</th> \n",
       "        <td id=\"T_cf48415c_f3b5_11e8_bcc9_3464a91dff6arow8_col0\" class=\"data row8 col0\" >39.52%</td> \n",
       "        <td id=\"T_cf48415c_f3b5_11e8_bcc9_3464a91dff6arow8_col1\" class=\"data row8 col1\" >28.46%</td> \n",
       "        <td id=\"T_cf48415c_f3b5_11e8_bcc9_3464a91dff6arow8_col2\" class=\"data row8 col2\" >34.16%</td> \n",
       "        <td id=\"T_cf48415c_f3b5_11e8_bcc9_3464a91dff6arow8_col3\" class=\"data row8 col3\" >37.17%</td> \n",
       "        <td id=\"T_cf48415c_f3b5_11e8_bcc9_3464a91dff6arow8_col4\" class=\"data row8 col4\" >13.43%</td> \n",
       "    </tr>    <tr> \n",
       "        <th id=\"T_cf48415c_f3b5_11e8_bcc9_3464a91dff6alevel0_row9\" class=\"row_heading level0 row9\" >2018-12-31 00:00:00</th> \n",
       "        <td id=\"T_cf48415c_f3b5_11e8_bcc9_3464a91dff6arow9_col0\" class=\"data row9 col0\" >7.83%</td> \n",
       "        <td id=\"T_cf48415c_f3b5_11e8_bcc9_3464a91dff6arow9_col1\" class=\"data row9 col1\" >3.58%</td> \n",
       "        <td id=\"T_cf48415c_f3b5_11e8_bcc9_3464a91dff6arow9_col2\" class=\"data row9 col2\" >27.44%</td> \n",
       "        <td id=\"T_cf48415c_f3b5_11e8_bcc9_3464a91dff6arow9_col3\" class=\"data row9 col3\" >10.02%</td> \n",
       "        <td id=\"T_cf48415c_f3b5_11e8_bcc9_3464a91dff6arow9_col4\" class=\"data row9 col4\" >9.80%</td> \n",
       "    </tr></tbody> \n",
       "</table> "
      ],
      "text/plain": [
       "<pandas.io.formats.style.Styler at 0x2218384bb70>"
      ]
     },
     "execution_count": 17,
     "metadata": {},
     "output_type": "execute_result"
    }
   ],
   "source": [
    "((1 + yearly_returns).apply(np.log)).style.format('{:.2%}')"
   ]
  },
  {
   "cell_type": "markdown",
   "metadata": {},
   "source": [
    "Proviamo ora a generare un grafico dei rendimenti giornalieri, con due caselle **dropdown** che ci permettano di confrontare due titoli alla volta. "
   ]
  },
  {
   "cell_type": "code",
   "execution_count": 18,
   "metadata": {},
   "outputs": [
    {
     "data": {
      "application/vnd.jupyter.widget-view+json": {
       "model_id": "1db0bea061d44b3cbef616a14371988b",
       "version_major": 2,
       "version_minor": 0
      },
      "text/plain": [
       "VBox(children=(HBox(children=(Dropdown(description='Titolo 1', layout=Layout(top='10px', width='30%'), options…"
      ]
     },
     "metadata": {},
     "output_type": "display_data"
    }
   ],
   "source": [
    "# Costruiamo due dropdown per selezionare i titoli da confrontare\n",
    "opts_5 = [c for c in yearly_returns.columns]\n",
    "dd1_5 = widgets.Dropdown(options=opts_5, description='Titolo 1', layout={'width': '30%', 'top': '10px'})\n",
    "dd2_5 = widgets.Dropdown(options=opts_5, description='Titolo 2', value='GOOGL', layout={'width': '30%', 'top': '10px'})\n",
    "\n",
    "# Costruiamo un grafico con i rendimenti giornalieri dei due titoli selezionati\n",
    "x_sc_5 = bq.DateScale()\n",
    "y_sc_5 = bq.LinearScale()\n",
    "lines_5 = bq.Lines(x=prices.pct_change().index, y=[prices.loc[:, c].pct_change() for c in [dd1_5.value, dd2_5.value]], scales={'x': x_sc_5, 'y': y_sc_5},\n",
    "                   colors=[bq.colorschemes.CATEGORY10[prices.columns.get_loc(c)] for c in [dd1_5.value, dd2_5.value]], display_legend=True,\n",
    "                   labels=[c for c in [dd1_5.value, dd2_5.value]])\n",
    "ax_x_5 = bq.Axis(scale=x_sc_5, grid_lines='solid', grid_color='#DDDDDD')\n",
    "ax_y_5 = bq.Axis(scale=y_sc_5, orientation='vertical', tick_format='0%', grid_lines='solid', grid_color='#DDDDDD')\n",
    "fig_5 = bq.Figure(marks=[lines_5], axes=[ax_x_5, ax_y_5], title=f'Rendimenti percentuali giornalieri per {dd1_5.value} e {dd2_5.value}', \n",
    "                  background_style={'fill': 'white'}, layout=widgets.Layout(width='60%'))\n",
    "\n",
    "# Definiamo una funzione per aggiornare il grafico, la legenda e il titolo\n",
    "def update_plot_5(change):\n",
    "    \"\"\" Update the chart with value from the dropdowns.\"\"\"\n",
    "    lines_5.y = [prices.loc[:, c].pct_change() for c in [dd1_5.value, dd2_5.value]]\n",
    "    lines_5.colors = [bq.colorschemes.CATEGORY10[prices.columns.get_loc(c)] for c in [dd1_5.value, dd2_5.value]]\n",
    "    lines_5.labels = [c for c in [dd1_5.value, dd2_5.value]]\n",
    "    fig_5.title = f'Rendimenti percentuali giornalieri per {dd1_5.value} e {dd2_5.value}'\n",
    "\n",
    "# Intercettiamo i valori delle dropdown\n",
    "dd1_5.observe(update_plot_5, 'value')\n",
    "dd2_5.observe(update_plot_5, 'value')\n",
    "    \n",
    "# Definiamo il layout delle widget\n",
    "dd_5 = widgets.HBox([dd1_5, dd2_5])\n",
    "widgets.VBox([dd_5, fig_5])"
   ]
  },
  {
   "cell_type": "markdown",
   "metadata": {},
   "source": [
    "Dal grafico si vede chiaramente come i rendimenti cambino nel tempo e siano diversi tra i titoli. Questa osservazione introduce un nuovo argomento, la **volatilità**, cioè la variabilità dei rendimenti. Ma questo sarà un punto da trattare in un successivo **notebook**."
   ]
  },
  {
   "cell_type": "code",
   "execution_count": null,
   "metadata": {},
   "outputs": [],
   "source": []
  }
 ],
 "metadata": {
  "anaconda-cloud": {},
  "hide_input": false,
  "kernelspec": {
   "display_name": "Python 3",
   "language": "python",
   "name": "python3"
  },
  "language_info": {
   "codemirror_mode": {
    "name": "ipython",
    "version": 3
   },
   "file_extension": ".py",
   "mimetype": "text/x-python",
   "name": "python",
   "nbconvert_exporter": "python",
   "pygments_lexer": "ipython3",
   "version": "3.6.6"
  }
 },
 "nbformat": 4,
 "nbformat_minor": 2
}
