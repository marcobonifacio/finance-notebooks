{
 "cells": [
  {
   "cell_type": "markdown",
   "metadata": {},
   "source": [
    "# Finance Notebooks #\n",
    "## Prezzi e rendimenti ##"
   ]
  },
  {
   "cell_type": "markdown",
   "metadata": {},
   "source": [
    "Prezzi e rendimenti costituiscono la base di qualunque analisi di serie finanziarie! Utilizziamo **python** (https://www.python.org/) come linguaggio di programmazione per svolgere un'analisi introduttiva a questi concetti, avvalendoci di **pandas** (http://pandas.pydata.org/) come strumento di raccolta e manipolazione dei dati, **bqplot** (https://bqplot.readthedocs.io/en/latest/index.html) per la visualizzazione e **Jupyter Widgets** (https://ipywidgets.readthedocs.io/en/stable/) per l'interazione. Prima di tutto, importiamo un po' di moduli per iniziare la nostra analisi."
   ]
  },
  {
   "cell_type": "code",
   "execution_count": 1,
   "metadata": {
    "collapsed": true
   },
   "outputs": [],
   "source": [
    "import pandas as pd\n",
    "import matplotlib.pyplot as plt\n",
    "import ipywidgets as widgets\n",
    "import bqplot as bq"
   ]
  },
  {
   "cell_type": "markdown",
   "metadata": {},
   "source": [
    "A questo punto, scegliamo qualche azione da analizzare. Prendiamo: **Apple** (AAPL), **Alphabet** (la società di Google, GOOGL), **Microsoft** (MSFT), **McDonald's** (MCD), **Coca-Cola** (KO). Tre azioni del settore tecnologico e due del comparto alimentare. "
   ]
  },
  {
   "cell_type": "code",
   "execution_count": 2,
   "metadata": {
    "collapsed": true
   },
   "outputs": [],
   "source": [
    "# I tickers delle azioni scelte\n",
    "STOCKS = ['AAPL', 'GOOGL', 'MSFT', 'MCD', 'KO']"
   ]
  },
  {
   "cell_type": "markdown",
   "metadata": {},
   "source": [
    "Ora, scarichiamo i prezzi dal sito **Macrotrends**. (Sempre più complicato trovare serie finanziarie *free* su internet, al momento Yahoo!. Google e Morningstar sembrano non disponibili)."
   ]
  },
  {
   "cell_type": "code",
   "execution_count": 3,
   "metadata": {
    "collapsed": true
   },
   "outputs": [],
   "source": [
    "# pandas ora legge direttamente i file csv scaricati da internet, fornendo un url\n",
    "def download_px(tickers):\n",
    "    \"\"\" Download csv files with prices for each ticker and merge the in a pandas DataFrame.\"\"\"\n",
    "    l = []\n",
    "    for t in tickers:\n",
    "        url = 'http://download.macrotrends.net/assets/php/stock_data_export.php?t={}'.format(t)\n",
    "        df = pd.read_csv(url, header=0, index_col=0, usecols=[0, 4], skiprows=10, parse_dates=True)\n",
    "        df.columns = [t]\n",
    "        l.append(df)\n",
    "    return(pd.concat(l, axis=1))\n",
    "\n",
    "px = download_px(STOCKS)"
   ]
  },
  {
   "cell_type": "markdown",
   "metadata": {},
   "source": [
    "Poi prendiamo un ragionevole sottoinsieme di dati, diciamo più o meno gli ultimi dieci anni, avvalendoci delle ottime funzionalità di manipolazione delle date di **pandas**. Mostriamo i primi..."
   ]
  },
  {
   "cell_type": "code",
   "execution_count": 4,
   "metadata": {},
   "outputs": [
    {
     "data": {
      "text/html": [
       "<div>\n",
       "<style scoped>\n",
       "    .dataframe tbody tr th:only-of-type {\n",
       "        vertical-align: middle;\n",
       "    }\n",
       "\n",
       "    .dataframe tbody tr th {\n",
       "        vertical-align: top;\n",
       "    }\n",
       "\n",
       "    .dataframe thead th {\n",
       "        text-align: right;\n",
       "    }\n",
       "</style>\n",
       "<table border=\"1\" class=\"dataframe\">\n",
       "  <thead>\n",
       "    <tr style=\"text-align: right;\">\n",
       "      <th></th>\n",
       "      <th>AAPL</th>\n",
       "      <th>GOOGL</th>\n",
       "      <th>MSFT</th>\n",
       "      <th>MCD</th>\n",
       "      <th>KO</th>\n",
       "    </tr>\n",
       "    <tr>\n",
       "      <th>date</th>\n",
       "      <th></th>\n",
       "      <th></th>\n",
       "      <th></th>\n",
       "      <th></th>\n",
       "      <th></th>\n",
       "    </tr>\n",
       "  </thead>\n",
       "  <tbody>\n",
       "    <tr>\n",
       "      <th>2008-10-31</th>\n",
       "      <td>13.6210</td>\n",
       "      <td>180.2364</td>\n",
       "      <td>17.3877</td>\n",
       "      <td>42.6857</td>\n",
       "      <td>16.2809</td>\n",
       "    </tr>\n",
       "    <tr>\n",
       "      <th>2008-11-03</th>\n",
       "      <td>13.5413</td>\n",
       "      <td>173.7814</td>\n",
       "      <td>17.6136</td>\n",
       "      <td>42.0225</td>\n",
       "      <td>16.7945</td>\n",
       "    </tr>\n",
       "    <tr>\n",
       "      <th>2008-11-04</th>\n",
       "      <td>14.0515</td>\n",
       "      <td>184.0381</td>\n",
       "      <td>18.3221</td>\n",
       "      <td>42.5752</td>\n",
       "      <td>17.0088</td>\n",
       "    </tr>\n",
       "    <tr>\n",
       "      <th>2008-11-05</th>\n",
       "      <td>13.0779</td>\n",
       "      <td>171.6499</td>\n",
       "      <td>17.1931</td>\n",
       "      <td>41.2636</td>\n",
       "      <td>16.5284</td>\n",
       "    </tr>\n",
       "    <tr>\n",
       "      <th>2008-11-06</th>\n",
       "      <td>12.5462</td>\n",
       "      <td>166.1228</td>\n",
       "      <td>16.2587</td>\n",
       "      <td>39.9151</td>\n",
       "      <td>16.4398</td>\n",
       "    </tr>\n",
       "  </tbody>\n",
       "</table>\n",
       "</div>"
      ],
      "text/plain": [
       "               AAPL     GOOGL     MSFT      MCD       KO\n",
       "date                                                    \n",
       "2008-10-31  13.6210  180.2364  17.3877  42.6857  16.2809\n",
       "2008-11-03  13.5413  173.7814  17.6136  42.0225  16.7945\n",
       "2008-11-04  14.0515  184.0381  18.3221  42.5752  17.0088\n",
       "2008-11-05  13.0779  171.6499  17.1931  41.2636  16.5284\n",
       "2008-11-06  12.5462  166.1228  16.2587  39.9151  16.4398"
      ]
     },
     "execution_count": 4,
     "metadata": {},
     "output_type": "execute_result"
    }
   ],
   "source": [
    "# Facciamo partire la serie dall'ultimo fine mese di dieci anni da oggi (n=121)\n",
    "prices = px.loc[(pd.Timestamp.today() - pd.tseries.offsets.MonthEnd(n=121)).strftime('%m-%d-%Y'):pd.Timestamp.today().strftime('%m-%d-%Y'), :]\n",
    "prices.head()"
   ]
  },
  {
   "cell_type": "markdown",
   "metadata": {},
   "source": [
    "...e gli ultimi valori del periodo."
   ]
  },
  {
   "cell_type": "code",
   "execution_count": 5,
   "metadata": {},
   "outputs": [
    {
     "data": {
      "text/html": [
       "<div>\n",
       "<style scoped>\n",
       "    .dataframe tbody tr th:only-of-type {\n",
       "        vertical-align: middle;\n",
       "    }\n",
       "\n",
       "    .dataframe tbody tr th {\n",
       "        vertical-align: top;\n",
       "    }\n",
       "\n",
       "    .dataframe thead th {\n",
       "        text-align: right;\n",
       "    }\n",
       "</style>\n",
       "<table border=\"1\" class=\"dataframe\">\n",
       "  <thead>\n",
       "    <tr style=\"text-align: right;\">\n",
       "      <th></th>\n",
       "      <th>AAPL</th>\n",
       "      <th>GOOGL</th>\n",
       "      <th>MSFT</th>\n",
       "      <th>MCD</th>\n",
       "      <th>KO</th>\n",
       "    </tr>\n",
       "    <tr>\n",
       "      <th>date</th>\n",
       "      <th></th>\n",
       "      <th></th>\n",
       "      <th></th>\n",
       "      <th></th>\n",
       "      <th></th>\n",
       "    </tr>\n",
       "  </thead>\n",
       "  <tbody>\n",
       "    <tr>\n",
       "      <th>2018-11-15</th>\n",
       "      <td>191.41</td>\n",
       "      <td>1071.05</td>\n",
       "      <td>107.28</td>\n",
       "      <td>183.56</td>\n",
       "      <td>49.74</td>\n",
       "    </tr>\n",
       "    <tr>\n",
       "      <th>2018-11-16</th>\n",
       "      <td>193.53</td>\n",
       "      <td>1068.27</td>\n",
       "      <td>108.29</td>\n",
       "      <td>187.59</td>\n",
       "      <td>50.17</td>\n",
       "    </tr>\n",
       "    <tr>\n",
       "      <th>2018-11-19</th>\n",
       "      <td>185.86</td>\n",
       "      <td>1027.42</td>\n",
       "      <td>104.62</td>\n",
       "      <td>186.72</td>\n",
       "      <td>50.51</td>\n",
       "    </tr>\n",
       "    <tr>\n",
       "      <th>2018-11-20</th>\n",
       "      <td>176.98</td>\n",
       "      <td>1030.45</td>\n",
       "      <td>101.71</td>\n",
       "      <td>183.71</td>\n",
       "      <td>49.38</td>\n",
       "    </tr>\n",
       "    <tr>\n",
       "      <th>2018-11-21</th>\n",
       "      <td>176.78</td>\n",
       "      <td>1043.43</td>\n",
       "      <td>103.11</td>\n",
       "      <td>182.72</td>\n",
       "      <td>48.73</td>\n",
       "    </tr>\n",
       "  </tbody>\n",
       "</table>\n",
       "</div>"
      ],
      "text/plain": [
       "              AAPL    GOOGL    MSFT     MCD     KO\n",
       "date                                              \n",
       "2018-11-15  191.41  1071.05  107.28  183.56  49.74\n",
       "2018-11-16  193.53  1068.27  108.29  187.59  50.17\n",
       "2018-11-19  185.86  1027.42  104.62  186.72  50.51\n",
       "2018-11-20  176.98  1030.45  101.71  183.71  49.38\n",
       "2018-11-21  176.78  1043.43  103.11  182.72  48.73"
      ]
     },
     "execution_count": 5,
     "metadata": {},
     "output_type": "execute_result"
    }
   ],
   "source": [
    "prices.tail()"
   ]
  },
  {
   "cell_type": "markdown",
   "metadata": {},
   "source": [
    "A questo punto, creiamo un grafico dei prezzi e rendiamolo un po' interattivo consentendo di selezionare le azioni da mostrare con delle **checkbox**."
   ]
  },
  {
   "cell_type": "code",
   "execution_count": 6,
   "metadata": {},
   "outputs": [
    {
     "data": {
      "application/vnd.jupyter.widget-view+json": {
       "model_id": "dbee4a86de19425d8b30cd5c3b3156d3",
       "version_major": 2,
       "version_minor": 0
      },
      "text/plain": [
       "VBox(children=(HBox(children=(Checkbox(value=True, description='AAPL'), Checkbox(value=True, description='GOOG…"
      ]
     },
     "metadata": {},
     "output_type": "display_data"
    }
   ],
   "source": [
    "# Costruiamo una checkbox per ogni titolo\n",
    "chks_1 = [widgets.Checkbox(description=d, value=True) for d in prices.columns]\n",
    "\n",
    "# Costruiamo il grafico\n",
    "x_sc_1 = bq.DateScale()\n",
    "y_sc_1 = bq.LinearScale()\n",
    "lines_1 = bq.Lines(x=prices.index, y=[prices[c] for c in prices.columns[[cb.value for cb in chks_1]]], scales={'x': x_sc_1, 'y': y_sc_1},\n",
    "                   display_legend=True, colors=[bq.colorschemes.CATEGORY10[prices.columns.get_loc(n)] for n in prices.columns],\n",
    "                   labels=[c for c in prices.columns[[cb.value for cb in chks_1]]])\n",
    "ax_x_1 = bq.Axis(scale=x_sc_1, grid_lines='solid', grid_color='#DDDDDD')\n",
    "ax_y_1 = bq.Axis(scale=y_sc_1, orientation='vertical', grid_lines='solid', grid_color='#DDDDDD')\n",
    "fig_1 = bq.Figure(marks=[lines_1], axes=[ax_x_1, ax_y_1], title='Andamento dei prezzi', legend_location='top-left', background_style={'fill': 'white'},\n",
    "                  layout=widgets.Layout(width='60%'))\n",
    "\n",
    "# Definiamo una funzione che aggiorna i grafici, la legenda e i colori a seconda delle checkbox selezionate\n",
    "def update_plot_1(change):\n",
    "    \"\"\" Update the chart with boolean value from checkboxes.\"\"\"\n",
    "    lines_1.y = [prices[c] for c in prices.columns[[cb.value for cb in chks_1]]]\n",
    "    lines_1.labels = [c for c in prices.columns[[cb.value for cb in chks_1]]]\n",
    "    lines_1.colors = [bq.colorschemes.CATEGORY10[prices.columns.get_loc(c)] for c in prices.columns[[cb.value for cb in chks_1]]]\n",
    "    \n",
    "# Intercettiamo gli eventi relativi alle checkbox\n",
    "for cb in chks_1:\n",
    "    cb.observe(update_plot_1, 'value')\n",
    "\n",
    "# Definiamo il layout delle widget\n",
    "box_1 = widgets.HBox(chks_1, layout=widgets.Layout(width='60%', top='10px', right='50px'))\n",
    "widgets.VBox([box_1, fig_1])"
   ]
  },
  {
   "cell_type": "markdown",
   "metadata": {},
   "source": [
    "**Alphabet** (Google) scambia in un intervallo di prezzi superiore rispetto alle altre azioni. Per poter confrontare tra di loro gli andamenti, è necessario normalizzare i prezzi, ad esempio ribasandoli a 100 in una data uguale per tutti $P_t$ mediante la formula $$\\frac{100 * P}{P_t}$$ Costruiamo allora un grafico dei prezzi normalizzati, aggiungendo uno **slider** per poter modificare la data di ribasamento."
   ]
  },
  {
   "cell_type": "code",
   "execution_count": 7,
   "metadata": {},
   "outputs": [
    {
     "data": {
      "application/vnd.jupyter.widget-view+json": {
       "model_id": "c1ece9e991b94f909512eb225c7e81c0",
       "version_major": 2,
       "version_minor": 0
      },
      "text/plain": [
       "VBox(children=(SelectionSlider(description='Data', layout=Layout(right='50px', top='10px', width='60%'), optio…"
      ]
     },
     "metadata": {},
     "output_type": "display_data"
    }
   ],
   "source": [
    "# Costruiamo lo slider e colleghiamolo alle date della serie storica\n",
    "opts_2 = [d.strftime('%d-%m-%Y') for d in prices.index]\n",
    "slider_2 = widgets.SelectionSlider(options=opts_2, description='Data', layout={'width': '60%', 'top': '10px', 'right': '50px'})\n",
    "\n",
    "# Normalizziamo i prezzi utilizzando la formula sopra citata\n",
    "nprices = 100 * prices / prices.loc[pd.to_datetime(slider_2.value, dayfirst=True), :]\n",
    "\n",
    "# Costruiamo il grafico\n",
    "x_sc_2 = bq.DateScale(date_format = \"%y\")\n",
    "y_sc_2 = bq.LinearScale()\n",
    "x_sec_2 = bq.LinearScale(min=0, max=1)\n",
    "y_sec_2 = bq.LinearScale(min=0, max=1)\n",
    "lines_2 = bq.Lines(x=nprices.index, y=[nprices[c] for c in nprices.columns], scales={'x': x_sc_2, 'y': y_sc_2},\n",
    "                   display_legend=True, labels=[c for c in nprices.columns])\n",
    "frac = (pd.to_datetime(slider_2.value, dayfirst=True) - nprices.index[0]) / (nprices.index[-1] - nprices.index[0])\n",
    "vline_2 = bq.Lines(x=[frac, frac], y=[0, 1], scales={'x': x_sec_2, 'y': y_sec_2}, colors=['#AAAAAA'])\n",
    "ax_x_2 = bq.Axis(scale=x_sc_2, grid_lines='solid', grid_color='#DDDDDD')\n",
    "ax_x_sec_2 = bq.Axis(scale=x_sec_2, visible=False)\n",
    "ax_y_2 = bq.Axis(scale=y_sc_2, orientation='vertical', grid_lines='solid', grid_color='#DDDDDD')\n",
    "ax_y_sec_2 = bq.Axis(scale=y_sec_2, orientation='vertical', visible=False)\n",
    "fig_2 = bq.Figure(marks=[lines_2, vline_2], axes=[ax_x_2, ax_x_sec_2, ax_y_2, ax_y_sec_2], title='Andamento normalizzato dei prezzi ({} = 100)'.format(slider_2.value),\n",
    "                  legend_location='top-left', background_style={'fill': 'white'}, layout=widgets.Layout(width='60%'))\n",
    "\n",
    "# Definiamo una funzione che aggiorna la base di normalizzazione dei prezzi, il grafico e il titolo in base ai valori dello slider\n",
    "def update_plot_2(change):\n",
    "    \"\"\" Update the chart with value from slider.\"\"\"\n",
    "    nprices = 100 * prices / prices.loc[pd.to_datetime(slider_2.value, dayfirst=True), :]\n",
    "    frac = (pd.to_datetime(slider_2.value, dayfirst=True) - nprices.index[0]) / (nprices.index[-1] - nprices.index[0])\n",
    "    lines_2.y = [nprices[c] for c in nprices.columns]\n",
    "    vline_2.x = [frac, frac]\n",
    "    fig_2.title = 'Andamento normalizzato dei prezzi ({} = 100)'.format(slider_2.value)\n",
    "\n",
    "# Intercettiamo i valori dello slider\n",
    "slider_2.observe(update_plot_2, 'value')\n",
    "\n",
    "# Definiamo il layout delle widget\n",
    "widgets.VBox([slider_2, fig_2])"
   ]
  },
  {
   "cell_type": "markdown",
   "metadata": {},
   "source": [
    "Ma qual è il rendimento delle azioni nel periodo considerato? Una prima risposta viene dal **rendimento assoluto**, ossia la percentuale di apprezzamento dei titoli sull'intero periodo, calcolata come $$100 * (\\frac{P_T}{P_0} - 1)$$ dove $P_T$ è il prezzo del titolo alla fine del periodo e $P_0$ quello all'inizio del periodo."
   ]
  },
  {
   "cell_type": "code",
   "execution_count": 25,
   "metadata": {},
   "outputs": [
    {
     "data": {
      "text/html": [
       "<style  type=\"text/css\" >\n",
       "</style>  \n",
       "<table id=\"T_3bc0f828_ee4b_11e8_8c8c_3464a91dff6a\" > \n",
       "<thead>    <tr> \n",
       "        <th class=\"blank level0\" ></th> \n",
       "        <th class=\"col_heading level0 col0\" >AAPL</th> \n",
       "        <th class=\"col_heading level0 col1\" >GOOGL</th> \n",
       "        <th class=\"col_heading level0 col2\" >MSFT</th> \n",
       "        <th class=\"col_heading level0 col3\" >MCD</th> \n",
       "        <th class=\"col_heading level0 col4\" >KO</th> \n",
       "    </tr></thead> \n",
       "<tbody>    <tr> \n",
       "        <th id=\"T_3bc0f828_ee4b_11e8_8c8c_3464a91dff6alevel0_row0\" class=\"row_heading level0 row0\" >Rendimenti assoluti (%)</th> \n",
       "        <td id=\"T_3bc0f828_ee4b_11e8_8c8c_3464a91dff6arow0_col0\" class=\"data row0 col0\" >1197.85%</td> \n",
       "        <td id=\"T_3bc0f828_ee4b_11e8_8c8c_3464a91dff6arow0_col1\" class=\"data row0 col1\" >478.92%</td> \n",
       "        <td id=\"T_3bc0f828_ee4b_11e8_8c8c_3464a91dff6arow0_col2\" class=\"data row0 col2\" >493.01%</td> \n",
       "        <td id=\"T_3bc0f828_ee4b_11e8_8c8c_3464a91dff6arow0_col3\" class=\"data row0 col3\" >328.06%</td> \n",
       "        <td id=\"T_3bc0f828_ee4b_11e8_8c8c_3464a91dff6arow0_col4\" class=\"data row0 col4\" >199.31%</td> \n",
       "    </tr></tbody> \n",
       "</table> "
      ],
      "text/plain": [
       "<pandas.io.formats.style.Styler at 0x2862af4d780>"
      ]
     },
     "execution_count": 25,
     "metadata": {},
     "output_type": "execute_result"
    }
   ],
   "source": [
    "absolute_returns = (prices.iloc[-1, :] / prices.iloc[0, :] - 1).to_frame().T\n",
    "absolute_returns.index = ['Rendimenti assoluti (%)']\n",
    "absolute_returns.style.format('{:.2%}')"
   ]
  },
  {
   "cell_type": "markdown",
   "metadata": {},
   "source": [
    "Per poter confrontare i rendimenti con - ad esempio - altri investimenti, può essere comodo trasformare il rendimento assoluto in un dato annualizzato. Per far ciò, utilizziamo la formula del **rendimento composto annuo** $$100 * [(\\frac{P_T}{P_0})^{\\frac{365}{T}} - 1]$$ dove $P_T$ è il prezzo del titolo alla fine del periodo, $P_0$ quello all'inizio del periodo e $T$ è il numero dei giorni compresi nel periodo."
   ]
  },
  {
   "cell_type": "code",
   "execution_count": 26,
   "metadata": {},
   "outputs": [
    {
     "data": {
      "text/html": [
       "<style  type=\"text/css\" >\n",
       "</style>  \n",
       "<table id=\"T_4449d536_ee4b_11e8_86f5_3464a91dff6a\" > \n",
       "<thead>    <tr> \n",
       "        <th class=\"blank level0\" ></th> \n",
       "        <th class=\"col_heading level0 col0\" >AAPL</th> \n",
       "        <th class=\"col_heading level0 col1\" >GOOGL</th> \n",
       "        <th class=\"col_heading level0 col2\" >MSFT</th> \n",
       "        <th class=\"col_heading level0 col3\" >MCD</th> \n",
       "        <th class=\"col_heading level0 col4\" >KO</th> \n",
       "    </tr></thead> \n",
       "<tbody>    <tr> \n",
       "        <th id=\"T_4449d536_ee4b_11e8_86f5_3464a91dff6alevel0_row0\" class=\"row_heading level0 row0\" >Rendimenti composti annui (%)</th> \n",
       "        <td id=\"T_4449d536_ee4b_11e8_86f5_3464a91dff6arow0_col0\" class=\"data row0 col0\" >29.01%</td> \n",
       "        <td id=\"T_4449d536_ee4b_11e8_86f5_3464a91dff6arow0_col1\" class=\"data row0 col1\" >19.07%</td> \n",
       "        <td id=\"T_4449d536_ee4b_11e8_86f5_3464a91dff6arow0_col2\" class=\"data row0 col2\" >19.35%</td> \n",
       "        <td id=\"T_4449d536_ee4b_11e8_86f5_3464a91dff6arow0_col3\" class=\"data row0 col3\" >15.55%</td> \n",
       "        <td id=\"T_4449d536_ee4b_11e8_86f5_3464a91dff6arow0_col4\" class=\"data row0 col4\" >11.51%</td> \n",
       "    </tr></tbody> \n",
       "</table> "
      ],
      "text/plain": [
       "<pandas.io.formats.style.Styler at 0x2862b37fc18>"
      ]
     },
     "execution_count": 26,
     "metadata": {},
     "output_type": "execute_result"
    }
   ],
   "source": [
    "compound_returns = ((1 + absolute_returns) ** (pd.Timedelta(365, unit='D') / (prices.index[-1] - prices.index[0])) - 1)\n",
    "compound_returns.index = ['Rendimenti composti annui (%)']\n",
    "compound_returns.style.format('{:.2%}')"
   ]
  },
  {
   "cell_type": "markdown",
   "metadata": {},
   "source": [
    "Ora costruiamo un grafico dei rendimenti, **assoluti** e **composti annui**, aggiungendo dei **radio button** per poter selezionare il tipo di rendimento da mostrare."
   ]
  },
  {
   "cell_type": "code",
   "execution_count": 89,
   "metadata": {},
   "outputs": [
    {
     "data": {
      "application/vnd.jupyter.widget-view+json": {
       "model_id": "8aef75b95b1e4609bd2b016534072101",
       "version_major": 2,
       "version_minor": 0
      },
      "text/plain": [
       "VBox(children=(RadioButtons(description='Tipo rendimento', layout=Layout(top='10px', width='60%'), options=('R…"
      ]
     },
     "metadata": {},
     "output_type": "display_data"
    }
   ],
   "source": [
    "# Concateniamo per comodità i dataframe absolute_returns e compound_returns\n",
    "df_3 = pd.concat([absolute_returns, compound_returns])\n",
    "\n",
    "# Costruiamo i radio buttons per selezionare il tipo di rendimento da mostrare\n",
    "opts_3 = [i for i in df_3.index]\n",
    "radio_3 = widgets.RadioButtons(options=opts_3, description='Tipo rendimento', style={'description_width': 'initial'}, layout={'width': '60%', 'top': '10px'})\n",
    "\n",
    "# Costruiamo un grafico a barre con le etichette delle percentuali\n",
    "x_sc_3 = bq.OrdinalScale()\n",
    "y_sc_3 = bq.LinearScale()\n",
    "bars_3 = bq.Bars(x=df_3.columns, y=df_3.loc[radio_3.value, :], scales={'x': x_sc_3, 'y': y_sc_3},\n",
    "                 colors=[bq.colorschemes.CATEGORY10[df_3.index.get_loc(radio_3.value)]])\n",
    "labels_3 = bq.Label(x=df_3.columns, y=df_3.loc[radio_3.value, :], text=[f'{v:.2%}' for v in df_3.loc[radio_3.value, :]], scales={'x': x_sc_3, 'y': y_sc_3}, \n",
    "                    colors=[['#AAAAAA', '#666666'][df_3.index.get_loc(radio_3.value)]], align='middle', y_offset=15)\n",
    "ax_x_3 = bq.Axis(scale=x_sc_3, grid_lines='solid', grid_color='#DDDDDD')\n",
    "ax_y_3 = bq.Axis(scale=y_sc_3, orientation='vertical', tick_format='0%', grid_lines='solid', grid_color='#DDDDDD')\n",
    "fig_3 = bq.Figure(marks=[bars_3, labels_3], axes=[ax_x_3, ax_y_3], title=radio_3.value, legend_location='top-right', background_style={'fill': 'white'},\n",
    "                  layout=widgets.Layout(width='60%'))\n",
    "\n",
    "# Definiamo una funzione per aggiornare il grafico, le etichette e il titolo\n",
    "def update_plot_3(change):\n",
    "    \"\"\" Update the chart with value from radio buttons.\"\"\"\n",
    "    bars_3.y = df_3.loc[radio_3.value, :]\n",
    "    bars_3.colors = [bq.colorschemes.CATEGORY10[df_3.index.get_loc(radio_3.value)]]\n",
    "    labels_3.y = df_3.loc[radio_3.value, :]\n",
    "    labels_3.text = [f'{v:.2%}' for v in df_3.loc[radio_3.value, :]]\n",
    "    labels_3.colors = [['#AAAAAA', '#666666'][df_3.index.get_loc(radio_3.value)]]\n",
    "    fig_3.title = radio_3.value\n",
    "\n",
    "# Intercettiamo i valori dei radio buttons\n",
    "radio_3.observe(update_plot_3, 'value')\n",
    "\n",
    "# Definiamo il layout delle widget\n",
    "widgets.VBox([radio_3, fig_3])"
   ]
  },
  {
   "cell_type": "markdown",
   "metadata": {},
   "source": [
    "Now, let's resample data into yearly percent returns."
   ]
  },
  {
   "cell_type": "code",
   "execution_count": 30,
   "metadata": {},
   "outputs": [
    {
     "data": {
      "text/html": [
       "<div>\n",
       "<style>\n",
       "    .dataframe thead tr:only-child th {\n",
       "        text-align: right;\n",
       "    }\n",
       "\n",
       "    .dataframe thead th {\n",
       "        text-align: left;\n",
       "    }\n",
       "\n",
       "    .dataframe tbody tr th {\n",
       "        vertical-align: top;\n",
       "    }\n",
       "</style>\n",
       "<table border=\"1\" class=\"dataframe\">\n",
       "  <thead>\n",
       "    <tr style=\"text-align: right;\">\n",
       "      <th></th>\n",
       "      <th>NASDAQ:AAPL</th>\n",
       "      <th>NASDAQ:GOOGL</th>\n",
       "      <th>NASDAQ:MSFT</th>\n",
       "      <th>NYSE:KO</th>\n",
       "      <th>NYSE:MCD</th>\n",
       "    </tr>\n",
       "    <tr>\n",
       "      <th>Date</th>\n",
       "      <th></th>\n",
       "      <th></th>\n",
       "      <th></th>\n",
       "      <th></th>\n",
       "      <th></th>\n",
       "    </tr>\n",
       "  </thead>\n",
       "  <tbody>\n",
       "    <tr>\n",
       "      <th>2007-12-31</th>\n",
       "      <td>NaN</td>\n",
       "      <td>NaN</td>\n",
       "      <td>NaN</td>\n",
       "      <td>NaN</td>\n",
       "      <td>NaN</td>\n",
       "    </tr>\n",
       "    <tr>\n",
       "      <th>2008-12-31</th>\n",
       "      <td>-0.569258</td>\n",
       "      <td>-0.555087</td>\n",
       "      <td>-0.453933</td>\n",
       "      <td>-0.262060</td>\n",
       "      <td>0.055678</td>\n",
       "    </tr>\n",
       "    <tr>\n",
       "      <th>2009-12-31</th>\n",
       "      <td>1.469237</td>\n",
       "      <td>1.015197</td>\n",
       "      <td>0.567901</td>\n",
       "      <td>0.258834</td>\n",
       "      <td>0.004020</td>\n",
       "    </tr>\n",
       "    <tr>\n",
       "      <th>2010-12-31</th>\n",
       "      <td>0.530897</td>\n",
       "      <td>-0.041959</td>\n",
       "      <td>-0.084318</td>\n",
       "      <td>0.153684</td>\n",
       "      <td>0.229340</td>\n",
       "    </tr>\n",
       "    <tr>\n",
       "      <th>2011-12-31</th>\n",
       "      <td>0.255642</td>\n",
       "      <td>0.087426</td>\n",
       "      <td>-0.069867</td>\n",
       "      <td>0.063869</td>\n",
       "      <td>0.307061</td>\n",
       "    </tr>\n",
       "    <tr>\n",
       "      <th>2012-12-31</th>\n",
       "      <td>0.313861</td>\n",
       "      <td>0.095184</td>\n",
       "      <td>0.028891</td>\n",
       "      <td>0.036306</td>\n",
       "      <td>-0.120801</td>\n",
       "    </tr>\n",
       "    <tr>\n",
       "      <th>2013-12-31</th>\n",
       "      <td>0.054328</td>\n",
       "      <td>0.584341</td>\n",
       "      <td>0.400599</td>\n",
       "      <td>0.139586</td>\n",
       "      <td>0.099989</td>\n",
       "    </tr>\n",
       "    <tr>\n",
       "      <th>2014-12-31</th>\n",
       "      <td>0.377168</td>\n",
       "      <td>-0.053947</td>\n",
       "      <td>0.241647</td>\n",
       "      <td>0.022029</td>\n",
       "      <td>-0.034319</td>\n",
       "    </tr>\n",
       "    <tr>\n",
       "      <th>2015-12-31</th>\n",
       "      <td>-0.046385</td>\n",
       "      <td>0.466118</td>\n",
       "      <td>0.194403</td>\n",
       "      <td>0.017527</td>\n",
       "      <td>0.260832</td>\n",
       "    </tr>\n",
       "    <tr>\n",
       "      <th>2016-12-31</th>\n",
       "      <td>0.100323</td>\n",
       "      <td>0.018560</td>\n",
       "      <td>0.120043</td>\n",
       "      <td>-0.034916</td>\n",
       "      <td>0.030303</td>\n",
       "    </tr>\n",
       "  </tbody>\n",
       "</table>\n",
       "</div>"
      ],
      "text/plain": [
       "            NASDAQ:AAPL  NASDAQ:GOOGL  NASDAQ:MSFT   NYSE:KO  NYSE:MCD\n",
       "Date                                                                  \n",
       "2007-12-31          NaN           NaN          NaN       NaN       NaN\n",
       "2008-12-31    -0.569258     -0.555087    -0.453933 -0.262060  0.055678\n",
       "2009-12-31     1.469237      1.015197     0.567901  0.258834  0.004020\n",
       "2010-12-31     0.530897     -0.041959    -0.084318  0.153684  0.229340\n",
       "2011-12-31     0.255642      0.087426    -0.069867  0.063869  0.307061\n",
       "2012-12-31     0.313861      0.095184     0.028891  0.036306 -0.120801\n",
       "2013-12-31     0.054328      0.584341     0.400599  0.139586  0.099989\n",
       "2014-12-31     0.377168     -0.053947     0.241647  0.022029 -0.034319\n",
       "2015-12-31    -0.046385      0.466118     0.194403  0.017527  0.260832\n",
       "2016-12-31     0.100323      0.018560     0.120043 -0.034916  0.030303"
      ]
     },
     "execution_count": 30,
     "metadata": {},
     "output_type": "execute_result"
    }
   ],
   "source": [
    "yearly_returns = prices.resample('A').last().pct_change()\n",
    "yearly_returns"
   ]
  },
  {
   "cell_type": "markdown",
   "metadata": {},
   "source": [
    "Then, let's plot the returns."
   ]
  },
  {
   "cell_type": "code",
   "execution_count": 49,
   "metadata": {},
   "outputs": [
    {
     "data": {
      "image/png": "[encoded data removed]",
      "text/plain": [
       "<matplotlib.figure.Figure at 0x1cedfd73f28>"
      ]
     },
     "metadata": {},
     "output_type": "display_data"
    }
   ],
   "source": [
    "ax = yearly_returns.plot(figsize=(10, 8), title='Stock yearly returns', ls='', marker='o');\n",
    "ax.set_xlim(ax.get_xlim()[0], ax.get_xlim()[1] + 1)\n",
    "ax.axhline(0, color='gray');"
   ]
  },
  {
   "cell_type": "markdown",
   "metadata": {},
   "source": [
    "And let's see how returns averaged in the period. "
   ]
  },
  {
   "cell_type": "code",
   "execution_count": 54,
   "metadata": {},
   "outputs": [
    {
     "data": {
      "text/html": [
       "<div>\n",
       "<style>\n",
       "    .dataframe thead tr:only-child th {\n",
       "        text-align: right;\n",
       "    }\n",
       "\n",
       "    .dataframe thead th {\n",
       "        text-align: left;\n",
       "    }\n",
       "\n",
       "    .dataframe tbody tr th {\n",
       "        vertical-align: top;\n",
       "    }\n",
       "</style>\n",
       "<table border=\"1\" class=\"dataframe\">\n",
       "  <thead>\n",
       "    <tr style=\"text-align: right;\">\n",
       "      <th></th>\n",
       "      <th>NASDAQ:AAPL</th>\n",
       "      <th>NASDAQ:GOOGL</th>\n",
       "      <th>NASDAQ:MSFT</th>\n",
       "      <th>NYSE:KO</th>\n",
       "      <th>NYSE:MCD</th>\n",
       "    </tr>\n",
       "  </thead>\n",
       "  <tbody>\n",
       "    <tr>\n",
       "      <th>Average Yearly Return (%)</th>\n",
       "      <td>0.276201</td>\n",
       "      <td>0.179537</td>\n",
       "      <td>0.105041</td>\n",
       "      <td>0.043873</td>\n",
       "      <td>0.092456</td>\n",
       "    </tr>\n",
       "  </tbody>\n",
       "</table>\n",
       "</div>"
      ],
      "text/plain": [
       "                           NASDAQ:AAPL  NASDAQ:GOOGL  NASDAQ:MSFT   NYSE:KO  \\\n",
       "Average Yearly Return (%)     0.276201      0.179537     0.105041  0.043873   \n",
       "\n",
       "                           NYSE:MCD  \n",
       "Average Yearly Return (%)  0.092456  "
      ]
     },
     "execution_count": 54,
     "metadata": {},
     "output_type": "execute_result"
    }
   ],
   "source": [
    "yearly_avgs = yearly_returns.mean().to_frame().T\n",
    "yearly_avgs.index = ['Average Yearly Return (%)']\n",
    "yearly_avgs"
   ]
  },
  {
   "cell_type": "markdown",
   "metadata": {},
   "source": [
    "Then we can compute yearly logarithmic returns over the period."
   ]
  },
  {
   "cell_type": "code",
   "execution_count": 55,
   "metadata": {},
   "outputs": [
    {
     "data": {
      "text/html": [
       "<div>\n",
       "<style>\n",
       "    .dataframe thead tr:only-child th {\n",
       "        text-align: right;\n",
       "    }\n",
       "\n",
       "    .dataframe thead th {\n",
       "        text-align: left;\n",
       "    }\n",
       "\n",
       "    .dataframe tbody tr th {\n",
       "        vertical-align: top;\n",
       "    }\n",
       "</style>\n",
       "<table border=\"1\" class=\"dataframe\">\n",
       "  <thead>\n",
       "    <tr style=\"text-align: right;\">\n",
       "      <th></th>\n",
       "      <th>NASDAQ:AAPL</th>\n",
       "      <th>NASDAQ:GOOGL</th>\n",
       "      <th>NASDAQ:MSFT</th>\n",
       "      <th>NYSE:KO</th>\n",
       "      <th>NYSE:MCD</th>\n",
       "    </tr>\n",
       "    <tr>\n",
       "      <th>Date</th>\n",
       "      <th></th>\n",
       "      <th></th>\n",
       "      <th></th>\n",
       "      <th></th>\n",
       "      <th></th>\n",
       "    </tr>\n",
       "  </thead>\n",
       "  <tbody>\n",
       "    <tr>\n",
       "      <th>2007-12-31</th>\n",
       "      <td>NaN</td>\n",
       "      <td>NaN</td>\n",
       "      <td>NaN</td>\n",
       "      <td>NaN</td>\n",
       "      <td>NaN</td>\n",
       "    </tr>\n",
       "    <tr>\n",
       "      <th>2008-12-31</th>\n",
       "      <td>-0.842246</td>\n",
       "      <td>-0.809876</td>\n",
       "      <td>-0.605013</td>\n",
       "      <td>-0.303893</td>\n",
       "      <td>0.054183</td>\n",
       "    </tr>\n",
       "    <tr>\n",
       "      <th>2009-12-31</th>\n",
       "      <td>0.903909</td>\n",
       "      <td>0.700717</td>\n",
       "      <td>0.449738</td>\n",
       "      <td>0.230186</td>\n",
       "      <td>0.004012</td>\n",
       "    </tr>\n",
       "    <tr>\n",
       "      <th>2010-12-31</th>\n",
       "      <td>0.425854</td>\n",
       "      <td>-0.042865</td>\n",
       "      <td>-0.088086</td>\n",
       "      <td>0.142960</td>\n",
       "      <td>0.206478</td>\n",
       "    </tr>\n",
       "    <tr>\n",
       "      <th>2011-12-31</th>\n",
       "      <td>0.227647</td>\n",
       "      <td>0.083813</td>\n",
       "      <td>-0.072428</td>\n",
       "      <td>0.061912</td>\n",
       "      <td>0.267781</td>\n",
       "    </tr>\n",
       "    <tr>\n",
       "      <th>2012-12-31</th>\n",
       "      <td>0.272970</td>\n",
       "      <td>0.090922</td>\n",
       "      <td>0.028481</td>\n",
       "      <td>0.035663</td>\n",
       "      <td>-0.128744</td>\n",
       "    </tr>\n",
       "    <tr>\n",
       "      <th>2013-12-31</th>\n",
       "      <td>0.052903</td>\n",
       "      <td>0.460168</td>\n",
       "      <td>0.336900</td>\n",
       "      <td>0.130665</td>\n",
       "      <td>0.095300</td>\n",
       "    </tr>\n",
       "    <tr>\n",
       "      <th>2014-12-31</th>\n",
       "      <td>0.320029</td>\n",
       "      <td>-0.055457</td>\n",
       "      <td>0.216438</td>\n",
       "      <td>0.021789</td>\n",
       "      <td>-0.034922</td>\n",
       "    </tr>\n",
       "    <tr>\n",
       "      <th>2015-12-31</th>\n",
       "      <td>-0.047495</td>\n",
       "      <td>0.382618</td>\n",
       "      <td>0.177646</td>\n",
       "      <td>0.017375</td>\n",
       "      <td>0.231772</td>\n",
       "    </tr>\n",
       "    <tr>\n",
       "      <th>2016-12-31</th>\n",
       "      <td>0.095604</td>\n",
       "      <td>0.018390</td>\n",
       "      <td>0.113367</td>\n",
       "      <td>-0.035540</td>\n",
       "      <td>0.029853</td>\n",
       "    </tr>\n",
       "  </tbody>\n",
       "</table>\n",
       "</div>"
      ],
      "text/plain": [
       "            NASDAQ:AAPL  NASDAQ:GOOGL  NASDAQ:MSFT   NYSE:KO  NYSE:MCD\n",
       "Date                                                                  \n",
       "2007-12-31          NaN           NaN          NaN       NaN       NaN\n",
       "2008-12-31    -0.842246     -0.809876    -0.605013 -0.303893  0.054183\n",
       "2009-12-31     0.903909      0.700717     0.449738  0.230186  0.004012\n",
       "2010-12-31     0.425854     -0.042865    -0.088086  0.142960  0.206478\n",
       "2011-12-31     0.227647      0.083813    -0.072428  0.061912  0.267781\n",
       "2012-12-31     0.272970      0.090922     0.028481  0.035663 -0.128744\n",
       "2013-12-31     0.052903      0.460168     0.336900  0.130665  0.095300\n",
       "2014-12-31     0.320029     -0.055457     0.216438  0.021789 -0.034922\n",
       "2015-12-31    -0.047495      0.382618     0.177646  0.017375  0.231772\n",
       "2016-12-31     0.095604      0.018390     0.113367 -0.035540  0.029853"
      ]
     },
     "execution_count": 55,
     "metadata": {},
     "output_type": "execute_result"
    }
   ],
   "source": [
    "import numpy as np\n",
    "\n",
    "yearly_log_returns = prices.resample('A').last().apply(np.log).diff()\n",
    "yearly_log_returns"
   ]
  },
  {
   "cell_type": "markdown",
   "metadata": {},
   "source": [
    "Let's also plot log returns. "
   ]
  },
  {
   "cell_type": "code",
   "execution_count": 56,
   "metadata": {},
   "outputs": [
    {
     "data": {
      "image/png": "[encoded data removed]",
      "text/plain": [
       "<matplotlib.figure.Figure at 0x1cedf9c4748>"
      ]
     },
     "metadata": {},
     "output_type": "display_data"
    }
   ],
   "source": [
    "ax = yearly_log_returns.plot(figsize=(10, 8), title='Stock yearly log returns', ls='', marker='o');\n",
    "ax.set_xlim(ax.get_xlim()[0], ax.get_xlim()[1] + 1)\n",
    "ax.axhline(0, color='gray');"
   ]
  },
  {
   "cell_type": "markdown",
   "metadata": {},
   "source": [
    "Again, let's compute averages. Quite different from percent returns, aren't they?"
   ]
  },
  {
   "cell_type": "code",
   "execution_count": 57,
   "metadata": {},
   "outputs": [
    {
     "data": {
      "text/html": [
       "<div>\n",
       "<style>\n",
       "    .dataframe thead tr:only-child th {\n",
       "        text-align: right;\n",
       "    }\n",
       "\n",
       "    .dataframe thead th {\n",
       "        text-align: left;\n",
       "    }\n",
       "\n",
       "    .dataframe tbody tr th {\n",
       "        vertical-align: top;\n",
       "    }\n",
       "</style>\n",
       "<table border=\"1\" class=\"dataframe\">\n",
       "  <thead>\n",
       "    <tr style=\"text-align: right;\">\n",
       "      <th></th>\n",
       "      <th>NASDAQ:AAPL</th>\n",
       "      <th>NASDAQ:GOOGL</th>\n",
       "      <th>NASDAQ:MSFT</th>\n",
       "      <th>NYSE:KO</th>\n",
       "      <th>NYSE:MCD</th>\n",
       "    </tr>\n",
       "  </thead>\n",
       "  <tbody>\n",
       "    <tr>\n",
       "      <th>Average Yearly Log Return (%)</th>\n",
       "      <td>0.156575</td>\n",
       "      <td>0.092048</td>\n",
       "      <td>0.061894</td>\n",
       "      <td>0.033458</td>\n",
       "      <td>0.080635</td>\n",
       "    </tr>\n",
       "  </tbody>\n",
       "</table>\n",
       "</div>"
      ],
      "text/plain": [
       "                               NASDAQ:AAPL  NASDAQ:GOOGL  NASDAQ:MSFT  \\\n",
       "Average Yearly Log Return (%)     0.156575      0.092048     0.061894   \n",
       "\n",
       "                                NYSE:KO  NYSE:MCD  \n",
       "Average Yearly Log Return (%)  0.033458  0.080635  "
      ]
     },
     "execution_count": 57,
     "metadata": {},
     "output_type": "execute_result"
    }
   ],
   "source": [
    "yearly_log_avgs = yearly_log_returns.mean().to_frame().T\n",
    "yearly_log_avgs.index = ['Average Yearly Log Return (%)']\n",
    "yearly_log_avgs"
   ]
  },
  {
   "cell_type": "markdown",
   "metadata": {},
   "source": [
    "We always can transform percent returns into log returns:"
   ]
  },
  {
   "cell_type": "code",
   "execution_count": 58,
   "metadata": {},
   "outputs": [
    {
     "data": {
      "text/html": [
       "<div>\n",
       "<style>\n",
       "    .dataframe thead tr:only-child th {\n",
       "        text-align: right;\n",
       "    }\n",
       "\n",
       "    .dataframe thead th {\n",
       "        text-align: left;\n",
       "    }\n",
       "\n",
       "    .dataframe tbody tr th {\n",
       "        vertical-align: top;\n",
       "    }\n",
       "</style>\n",
       "<table border=\"1\" class=\"dataframe\">\n",
       "  <thead>\n",
       "    <tr style=\"text-align: right;\">\n",
       "      <th></th>\n",
       "      <th>NASDAQ:AAPL</th>\n",
       "      <th>NASDAQ:GOOGL</th>\n",
       "      <th>NASDAQ:MSFT</th>\n",
       "      <th>NYSE:KO</th>\n",
       "      <th>NYSE:MCD</th>\n",
       "    </tr>\n",
       "    <tr>\n",
       "      <th>Date</th>\n",
       "      <th></th>\n",
       "      <th></th>\n",
       "      <th></th>\n",
       "      <th></th>\n",
       "      <th></th>\n",
       "    </tr>\n",
       "  </thead>\n",
       "  <tbody>\n",
       "    <tr>\n",
       "      <th>2007-12-31</th>\n",
       "      <td>NaN</td>\n",
       "      <td>NaN</td>\n",
       "      <td>NaN</td>\n",
       "      <td>NaN</td>\n",
       "      <td>NaN</td>\n",
       "    </tr>\n",
       "    <tr>\n",
       "      <th>2008-12-31</th>\n",
       "      <td>-0.842246</td>\n",
       "      <td>-0.809876</td>\n",
       "      <td>-0.605013</td>\n",
       "      <td>-0.303893</td>\n",
       "      <td>0.054183</td>\n",
       "    </tr>\n",
       "    <tr>\n",
       "      <th>2009-12-31</th>\n",
       "      <td>0.903909</td>\n",
       "      <td>0.700717</td>\n",
       "      <td>0.449738</td>\n",
       "      <td>0.230186</td>\n",
       "      <td>0.004012</td>\n",
       "    </tr>\n",
       "    <tr>\n",
       "      <th>2010-12-31</th>\n",
       "      <td>0.425854</td>\n",
       "      <td>-0.042865</td>\n",
       "      <td>-0.088086</td>\n",
       "      <td>0.142960</td>\n",
       "      <td>0.206478</td>\n",
       "    </tr>\n",
       "    <tr>\n",
       "      <th>2011-12-31</th>\n",
       "      <td>0.227647</td>\n",
       "      <td>0.083813</td>\n",
       "      <td>-0.072428</td>\n",
       "      <td>0.061912</td>\n",
       "      <td>0.267781</td>\n",
       "    </tr>\n",
       "    <tr>\n",
       "      <th>2012-12-31</th>\n",
       "      <td>0.272970</td>\n",
       "      <td>0.090922</td>\n",
       "      <td>0.028481</td>\n",
       "      <td>0.035663</td>\n",
       "      <td>-0.128744</td>\n",
       "    </tr>\n",
       "    <tr>\n",
       "      <th>2013-12-31</th>\n",
       "      <td>0.052903</td>\n",
       "      <td>0.460168</td>\n",
       "      <td>0.336900</td>\n",
       "      <td>0.130665</td>\n",
       "      <td>0.095300</td>\n",
       "    </tr>\n",
       "    <tr>\n",
       "      <th>2014-12-31</th>\n",
       "      <td>0.320029</td>\n",
       "      <td>-0.055457</td>\n",
       "      <td>0.216438</td>\n",
       "      <td>0.021789</td>\n",
       "      <td>-0.034922</td>\n",
       "    </tr>\n",
       "    <tr>\n",
       "      <th>2015-12-31</th>\n",
       "      <td>-0.047495</td>\n",
       "      <td>0.382618</td>\n",
       "      <td>0.177646</td>\n",
       "      <td>0.017375</td>\n",
       "      <td>0.231772</td>\n",
       "    </tr>\n",
       "    <tr>\n",
       "      <th>2016-12-31</th>\n",
       "      <td>0.095604</td>\n",
       "      <td>0.018390</td>\n",
       "      <td>0.113367</td>\n",
       "      <td>-0.035540</td>\n",
       "      <td>0.029853</td>\n",
       "    </tr>\n",
       "  </tbody>\n",
       "</table>\n",
       "</div>"
      ],
      "text/plain": [
       "            NASDAQ:AAPL  NASDAQ:GOOGL  NASDAQ:MSFT   NYSE:KO  NYSE:MCD\n",
       "Date                                                                  \n",
       "2007-12-31          NaN           NaN          NaN       NaN       NaN\n",
       "2008-12-31    -0.842246     -0.809876    -0.605013 -0.303893  0.054183\n",
       "2009-12-31     0.903909      0.700717     0.449738  0.230186  0.004012\n",
       "2010-12-31     0.425854     -0.042865    -0.088086  0.142960  0.206478\n",
       "2011-12-31     0.227647      0.083813    -0.072428  0.061912  0.267781\n",
       "2012-12-31     0.272970      0.090922     0.028481  0.035663 -0.128744\n",
       "2013-12-31     0.052903      0.460168     0.336900  0.130665  0.095300\n",
       "2014-12-31     0.320029     -0.055457     0.216438  0.021789 -0.034922\n",
       "2015-12-31    -0.047495      0.382618     0.177646  0.017375  0.231772\n",
       "2016-12-31     0.095604      0.018390     0.113367 -0.035540  0.029853"
      ]
     },
     "execution_count": 58,
     "metadata": {},
     "output_type": "execute_result"
    }
   ],
   "source": [
    "(1 + yearly_returns).apply(np.log)"
   ]
  },
  {
   "cell_type": "markdown",
   "metadata": {},
   "source": [
    "And vice versa:"
   ]
  },
  {
   "cell_type": "code",
   "execution_count": 59,
   "metadata": {},
   "outputs": [
    {
     "data": {
      "text/html": [
       "<div>\n",
       "<style>\n",
       "    .dataframe thead tr:only-child th {\n",
       "        text-align: right;\n",
       "    }\n",
       "\n",
       "    .dataframe thead th {\n",
       "        text-align: left;\n",
       "    }\n",
       "\n",
       "    .dataframe tbody tr th {\n",
       "        vertical-align: top;\n",
       "    }\n",
       "</style>\n",
       "<table border=\"1\" class=\"dataframe\">\n",
       "  <thead>\n",
       "    <tr style=\"text-align: right;\">\n",
       "      <th></th>\n",
       "      <th>NASDAQ:AAPL</th>\n",
       "      <th>NASDAQ:GOOGL</th>\n",
       "      <th>NASDAQ:MSFT</th>\n",
       "      <th>NYSE:KO</th>\n",
       "      <th>NYSE:MCD</th>\n",
       "    </tr>\n",
       "    <tr>\n",
       "      <th>Date</th>\n",
       "      <th></th>\n",
       "      <th></th>\n",
       "      <th></th>\n",
       "      <th></th>\n",
       "      <th></th>\n",
       "    </tr>\n",
       "  </thead>\n",
       "  <tbody>\n",
       "    <tr>\n",
       "      <th>2007-12-31</th>\n",
       "      <td>NaN</td>\n",
       "      <td>NaN</td>\n",
       "      <td>NaN</td>\n",
       "      <td>NaN</td>\n",
       "      <td>NaN</td>\n",
       "    </tr>\n",
       "    <tr>\n",
       "      <th>2008-12-31</th>\n",
       "      <td>-0.569258</td>\n",
       "      <td>-0.555087</td>\n",
       "      <td>-0.453933</td>\n",
       "      <td>-0.262060</td>\n",
       "      <td>0.055678</td>\n",
       "    </tr>\n",
       "    <tr>\n",
       "      <th>2009-12-31</th>\n",
       "      <td>1.469237</td>\n",
       "      <td>1.015197</td>\n",
       "      <td>0.567901</td>\n",
       "      <td>0.258834</td>\n",
       "      <td>0.004020</td>\n",
       "    </tr>\n",
       "    <tr>\n",
       "      <th>2010-12-31</th>\n",
       "      <td>0.530897</td>\n",
       "      <td>-0.041959</td>\n",
       "      <td>-0.084318</td>\n",
       "      <td>0.153684</td>\n",
       "      <td>0.229340</td>\n",
       "    </tr>\n",
       "    <tr>\n",
       "      <th>2011-12-31</th>\n",
       "      <td>0.255642</td>\n",
       "      <td>0.087426</td>\n",
       "      <td>-0.069867</td>\n",
       "      <td>0.063869</td>\n",
       "      <td>0.307061</td>\n",
       "    </tr>\n",
       "    <tr>\n",
       "      <th>2012-12-31</th>\n",
       "      <td>0.313861</td>\n",
       "      <td>0.095184</td>\n",
       "      <td>0.028891</td>\n",
       "      <td>0.036306</td>\n",
       "      <td>-0.120801</td>\n",
       "    </tr>\n",
       "    <tr>\n",
       "      <th>2013-12-31</th>\n",
       "      <td>0.054328</td>\n",
       "      <td>0.584341</td>\n",
       "      <td>0.400599</td>\n",
       "      <td>0.139586</td>\n",
       "      <td>0.099989</td>\n",
       "    </tr>\n",
       "    <tr>\n",
       "      <th>2014-12-31</th>\n",
       "      <td>0.377168</td>\n",
       "      <td>-0.053947</td>\n",
       "      <td>0.241647</td>\n",
       "      <td>0.022029</td>\n",
       "      <td>-0.034319</td>\n",
       "    </tr>\n",
       "    <tr>\n",
       "      <th>2015-12-31</th>\n",
       "      <td>-0.046385</td>\n",
       "      <td>0.466118</td>\n",
       "      <td>0.194403</td>\n",
       "      <td>0.017527</td>\n",
       "      <td>0.260832</td>\n",
       "    </tr>\n",
       "    <tr>\n",
       "      <th>2016-12-31</th>\n",
       "      <td>0.100323</td>\n",
       "      <td>0.018560</td>\n",
       "      <td>0.120043</td>\n",
       "      <td>-0.034916</td>\n",
       "      <td>0.030303</td>\n",
       "    </tr>\n",
       "  </tbody>\n",
       "</table>\n",
       "</div>"
      ],
      "text/plain": [
       "            NASDAQ:AAPL  NASDAQ:GOOGL  NASDAQ:MSFT   NYSE:KO  NYSE:MCD\n",
       "Date                                                                  \n",
       "2007-12-31          NaN           NaN          NaN       NaN       NaN\n",
       "2008-12-31    -0.569258     -0.555087    -0.453933 -0.262060  0.055678\n",
       "2009-12-31     1.469237      1.015197     0.567901  0.258834  0.004020\n",
       "2010-12-31     0.530897     -0.041959    -0.084318  0.153684  0.229340\n",
       "2011-12-31     0.255642      0.087426    -0.069867  0.063869  0.307061\n",
       "2012-12-31     0.313861      0.095184     0.028891  0.036306 -0.120801\n",
       "2013-12-31     0.054328      0.584341     0.400599  0.139586  0.099989\n",
       "2014-12-31     0.377168     -0.053947     0.241647  0.022029 -0.034319\n",
       "2015-12-31    -0.046385      0.466118     0.194403  0.017527  0.260832\n",
       "2016-12-31     0.100323      0.018560     0.120043 -0.034916  0.030303"
      ]
     },
     "execution_count": 59,
     "metadata": {},
     "output_type": "execute_result"
    }
   ],
   "source": [
    "(yearly_log_returns).apply(np.exp) - 1"
   ]
  },
  {
   "cell_type": "markdown",
   "metadata": {},
   "source": [
    "If we plot daily returns, we can clearly see a different scale over time and across stocks. Let's try with **Apple** and **McDonald's**."
   ]
  },
  {
   "cell_type": "code",
   "execution_count": 64,
   "metadata": {},
   "outputs": [
    {
     "data": {
      "text/plain": [
       "<matplotlib.axes._subplots.AxesSubplot at 0x1cee024ecc0>"
      ]
     },
     "execution_count": 64,
     "metadata": {},
     "output_type": "execute_result"
    },
    {
     "data": {
      "image/png": "[encoded data removed]",
      "text/plain": [
       "<matplotlib.figure.Figure at 0x1cedf625860>"
      ]
     },
     "metadata": {},
     "output_type": "display_data"
    }
   ],
   "source": [
    "prices.loc[:, ['NASDAQ:AAPL', 'NYSE:MCD']].pct_change().plot(figsize=(10, 8), title=\"Apple and McDonald's daily returns\")"
   ]
  },
  {
   "cell_type": "markdown",
   "metadata": {},
   "source": [
    "That leads us to a new topic: volatility, i.e. variability of returns. But this is a topic which deserves a new anaysis. To be continued..."
   ]
  }
 ],
 "metadata": {
  "anaconda-cloud": {},
  "hide_input": false,
  "kernelspec": {
   "display_name": "Python 3",
   "language": "python",
   "name": "python3"
  },
  "language_info": {
   "codemirror_mode": {
    "name": "ipython",
    "version": 3
   },
   "file_extension": ".py",
   "mimetype": "text/x-python",
   "name": "python",
   "nbconvert_exporter": "python",
   "pygments_lexer": "ipython3",
   "version": "3.6.6"
  }
 },
 "nbformat": 4,
 "nbformat_minor": 2
}
