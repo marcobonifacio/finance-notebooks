{
 "cells": [
  {
   "cell_type": "markdown",
   "metadata": {},
   "source": [
    "# Finance Notebooks #\n",
    "## Prezzi e rendimenti ##"
   ]
  },
  {
   "cell_type": "markdown",
   "metadata": {},
   "source": [
    "Prezzi e rendimenti costituiscono la base di qualunque analisi di serie finanziarie! Utilizziamo **python** (https://www.python.org/) come linguaggio di programmazione per svolgere un'analisi introduttiva a questi concetti, avvalendoci di **pandas** (http://pandas.pydata.org/) come strumento di raccolta e manipolazione dei dati, **bqplot** (https://bqplot.readthedocs.io/en/latest/index.html) per la visualizzazione e **Jupyter Widgets** (https://ipywidgets.readthedocs.io/en/stable/) per l'interazione. Prima di tutto, importiamo un po' di moduli per iniziare la nostra analisi."
   ]
  },
  {
   "cell_type": "code",
   "execution_count": 1,
   "metadata": {},
   "outputs": [],
   "source": [
    "import pandas as pd\n",
    "import ipywidgets as widgets\n",
    "import bqplot as bq"
   ]
  },
  {
   "cell_type": "markdown",
   "metadata": {},
   "source": [
    "A questo punto, scegliamo qualche azione da analizzare. Prendiamo: **Apple** (AAPL), **General Electric** (GE), **Microsoft** (MSFT), **McDonald's** (MCD), **Coca-Cola** (KO)."
   ]
  },
  {
   "cell_type": "code",
   "execution_count": 18,
   "metadata": {
    "collapsed": true
   },
   "outputs": [],
   "source": [
    "# I tickers delle azioni scelte\n",
    "STOCKS = ['AAPL', 'GE', 'MSFT', 'MCD', 'KO']"
   ]
  },
  {
   "cell_type": "markdown",
   "metadata": {},
   "source": [
    "Ora, scarichiamo i prezzi dal sito **Macrotrends**. (Sempre più complicato trovare serie finanziarie *free* su internet, al momento Yahoo!. Google e Morningstar sembrano non disponibili)."
   ]
  },
  {
   "cell_type": "code",
   "execution_count": 19,
   "metadata": {
    "collapsed": true
   },
   "outputs": [],
   "source": [
    "# pandas ora legge direttamente i file csv scaricati da internet, fornendo un url\n",
    "def download_px(tickers):\n",
    "    \"\"\" Download csv files with prices for each ticker and merge the in a pandas DataFrame.\"\"\"\n",
    "    l = []\n",
    "    for t in tickers:\n",
    "        url = 'http://download.macrotrends.net/assets/php/stock_data_export.php?t={}'.format(t)\n",
    "        df = pd.read_csv(url, header=0, index_col=0, usecols=[0, 4], skiprows=10, parse_dates=True)\n",
    "        df.columns = [t]\n",
    "        l.append(df)\n",
    "    return(pd.concat(l, axis=1))\n",
    "\n",
    "px = download_px(STOCKS)"
   ]
  },
  {
   "cell_type": "markdown",
   "metadata": {},
   "source": [
    "Poi prendiamo un ragionevole sottoinsieme di dati, diciamo più o meno gli ultimi dieci anni, avvalendoci delle ottime funzionalità di manipolazione delle date di **pandas**. Mostriamo i primi..."
   ]
  },
  {
   "cell_type": "code",
   "execution_count": 20,
   "metadata": {},
   "outputs": [
    {
     "data": {
      "text/html": [
       "<div>\n",
       "<style scoped>\n",
       "    .dataframe tbody tr th:only-of-type {\n",
       "        vertical-align: middle;\n",
       "    }\n",
       "\n",
       "    .dataframe tbody tr th {\n",
       "        vertical-align: top;\n",
       "    }\n",
       "\n",
       "    .dataframe thead th {\n",
       "        text-align: right;\n",
       "    }\n",
       "</style>\n",
       "<table border=\"1\" class=\"dataframe\">\n",
       "  <thead>\n",
       "    <tr style=\"text-align: right;\">\n",
       "      <th></th>\n",
       "      <th>AAPL</th>\n",
       "      <th>GE</th>\n",
       "      <th>MSFT</th>\n",
       "      <th>MCD</th>\n",
       "      <th>KO</th>\n",
       "    </tr>\n",
       "    <tr>\n",
       "      <th>date</th>\n",
       "      <th></th>\n",
       "      <th></th>\n",
       "      <th></th>\n",
       "      <th></th>\n",
       "      <th></th>\n",
       "    </tr>\n",
       "  </thead>\n",
       "  <tbody>\n",
       "    <tr>\n",
       "      <th>2009-03-02</th>\n",
       "      <td>12.5629</td>\n",
       "      <td>7.60</td>\n",
       "      <td>15.79</td>\n",
       "      <td>51.85</td>\n",
       "      <td>19.845</td>\n",
       "    </tr>\n",
       "    <tr>\n",
       "      <th>2009-03-03</th>\n",
       "      <td>12.6243</td>\n",
       "      <td>7.01</td>\n",
       "      <td>15.88</td>\n",
       "      <td>52.43</td>\n",
       "      <td>19.415</td>\n",
       "    </tr>\n",
       "    <tr>\n",
       "      <th>2009-03-04</th>\n",
       "      <td>13.0243</td>\n",
       "      <td>6.69</td>\n",
       "      <td>16.12</td>\n",
       "      <td>53.15</td>\n",
       "      <td>19.865</td>\n",
       "    </tr>\n",
       "    <tr>\n",
       "      <th>2009-03-05</th>\n",
       "      <td>12.6914</td>\n",
       "      <td>6.66</td>\n",
       "      <td>15.27</td>\n",
       "      <td>50.86</td>\n",
       "      <td>18.925</td>\n",
       "    </tr>\n",
       "    <tr>\n",
       "      <th>2009-03-06</th>\n",
       "      <td>12.1857</td>\n",
       "      <td>7.06</td>\n",
       "      <td>15.28</td>\n",
       "      <td>52.12</td>\n",
       "      <td>19.550</td>\n",
       "    </tr>\n",
       "  </tbody>\n",
       "</table>\n",
       "</div>"
      ],
      "text/plain": [
       "               AAPL    GE   MSFT    MCD      KO\n",
       "date                                           \n",
       "2009-03-02  12.5629  7.60  15.79  51.85  19.845\n",
       "2009-03-03  12.6243  7.01  15.88  52.43  19.415\n",
       "2009-03-04  13.0243  6.69  16.12  53.15  19.865\n",
       "2009-03-05  12.6914  6.66  15.27  50.86  18.925\n",
       "2009-03-06  12.1857  7.06  15.28  52.12  19.550"
      ]
     },
     "execution_count": 20,
     "metadata": {},
     "output_type": "execute_result"
    }
   ],
   "source": [
    "# Facciamo partire la serie dall'ultimo fine mese di dieci anni da oggi (n=121)\n",
    "prices = px.loc[(pd.Timestamp.today() - pd.tseries.offsets.MonthEnd(n=121)).strftime('%m-%d-%Y'):pd.Timestamp.today().strftime('%m-%d-%Y'), :]\n",
    "prices.head()"
   ]
  },
  {
   "cell_type": "markdown",
   "metadata": {},
   "source": [
    "...e gli ultimi valori del periodo."
   ]
  },
  {
   "cell_type": "code",
   "execution_count": 21,
   "metadata": {},
   "outputs": [
    {
     "data": {
      "text/html": [
       "<div>\n",
       "<style scoped>\n",
       "    .dataframe tbody tr th:only-of-type {\n",
       "        vertical-align: middle;\n",
       "    }\n",
       "\n",
       "    .dataframe tbody tr th {\n",
       "        vertical-align: top;\n",
       "    }\n",
       "\n",
       "    .dataframe thead th {\n",
       "        text-align: right;\n",
       "    }\n",
       "</style>\n",
       "<table border=\"1\" class=\"dataframe\">\n",
       "  <thead>\n",
       "    <tr style=\"text-align: right;\">\n",
       "      <th></th>\n",
       "      <th>AAPL</th>\n",
       "      <th>GE</th>\n",
       "      <th>MSFT</th>\n",
       "      <th>MCD</th>\n",
       "      <th>KO</th>\n",
       "    </tr>\n",
       "    <tr>\n",
       "      <th>date</th>\n",
       "      <th></th>\n",
       "      <th></th>\n",
       "      <th></th>\n",
       "      <th></th>\n",
       "      <th></th>\n",
       "    </tr>\n",
       "  </thead>\n",
       "  <tbody>\n",
       "    <tr>\n",
       "      <th>2019-03-19</th>\n",
       "      <td>186.53</td>\n",
       "      <td>10.19</td>\n",
       "      <td>117.65</td>\n",
       "      <td>183.11</td>\n",
       "      <td>45.56</td>\n",
       "    </tr>\n",
       "    <tr>\n",
       "      <th>2019-03-20</th>\n",
       "      <td>188.16</td>\n",
       "      <td>10.22</td>\n",
       "      <td>117.52</td>\n",
       "      <td>184.97</td>\n",
       "      <td>45.53</td>\n",
       "    </tr>\n",
       "    <tr>\n",
       "      <th>2019-03-21</th>\n",
       "      <td>195.09</td>\n",
       "      <td>10.27</td>\n",
       "      <td>120.22</td>\n",
       "      <td>186.37</td>\n",
       "      <td>45.51</td>\n",
       "    </tr>\n",
       "    <tr>\n",
       "      <th>2019-03-22</th>\n",
       "      <td>191.05</td>\n",
       "      <td>9.98</td>\n",
       "      <td>117.05</td>\n",
       "      <td>186.81</td>\n",
       "      <td>45.93</td>\n",
       "    </tr>\n",
       "    <tr>\n",
       "      <th>2019-03-25</th>\n",
       "      <td>188.74</td>\n",
       "      <td>9.88</td>\n",
       "      <td>117.66</td>\n",
       "      <td>185.72</td>\n",
       "      <td>46.03</td>\n",
       "    </tr>\n",
       "  </tbody>\n",
       "</table>\n",
       "</div>"
      ],
      "text/plain": [
       "              AAPL     GE    MSFT     MCD     KO\n",
       "date                                            \n",
       "2019-03-19  186.53  10.19  117.65  183.11  45.56\n",
       "2019-03-20  188.16  10.22  117.52  184.97  45.53\n",
       "2019-03-21  195.09  10.27  120.22  186.37  45.51\n",
       "2019-03-22  191.05   9.98  117.05  186.81  45.93\n",
       "2019-03-25  188.74   9.88  117.66  185.72  46.03"
      ]
     },
     "execution_count": 21,
     "metadata": {},
     "output_type": "execute_result"
    }
   ],
   "source": [
    "prices.tail()"
   ]
  },
  {
   "cell_type": "markdown",
   "metadata": {},
   "source": [
    "Creiamo adesso un grafico dei prezzi e rendiamolo un po' interattivo consentendo di selezionare le azioni da mostrare con delle **checkbox**."
   ]
  },
  {
   "cell_type": "code",
   "execution_count": 22,
   "metadata": {},
   "outputs": [
    {
     "data": {
      "application/vnd.jupyter.widget-view+json": {
       "model_id": "5d757607be6945f79214f7e36407612b",
       "version_major": 2,
       "version_minor": 0
      },
      "text/plain": [
       "VBox(children=(HBox(children=(Checkbox(value=True, description='AAPL'), Checkbox(value=True, description='GE')…"
      ]
     },
     "metadata": {},
     "output_type": "display_data"
    }
   ],
   "source": [
    "# Costruiamo una checkbox per ogni titolo\n",
    "chks_1 = [widgets.Checkbox(description=d, value=True) for d in prices.columns]\n",
    "\n",
    "# Costruiamo il grafico\n",
    "x_sc_1 = bq.DateScale()\n",
    "y_sc_1 = bq.LinearScale()\n",
    "lines_1 = bq.Lines(x=prices.index, y=[prices[c] for c in prices.columns[[cb.value for cb in chks_1]]], scales={'x': x_sc_1, 'y': y_sc_1},\n",
    "                   display_legend=True, colors=[bq.colorschemes.CATEGORY10[prices.columns.get_loc(n)] for n in prices.columns],\n",
    "                   labels=[c for c in prices.columns[[cb.value for cb in chks_1]]])\n",
    "ax_x_1 = bq.Axis(scale=x_sc_1, grid_lines='solid', grid_color='#DDDDDD')\n",
    "ax_y_1 = bq.Axis(scale=y_sc_1, orientation='vertical', grid_lines='solid', grid_color='#DDDDDD')\n",
    "fig_1 = bq.Figure(marks=[lines_1], axes=[ax_x_1, ax_y_1], title='Andamento dei prezzi', legend_location='top-left', background_style={'fill': 'white'},\n",
    "                  layout={'width': '100%'})\n",
    "\n",
    "# Definiamo una funzione che aggiorna i grafici, la legenda e i colori a seconda delle checkbox selezionate\n",
    "def update_plot_1(change):\n",
    "    \"\"\" Update the chart with boolean value from checkboxes.\"\"\"\n",
    "    lines_1.y = [prices[c] for c in prices.columns[[cb.value for cb in chks_1]]]\n",
    "    lines_1.labels = [c for c in prices.columns[[cb.value for cb in chks_1]]]\n",
    "    lines_1.colors = [bq.colorschemes.CATEGORY10[prices.columns.get_loc(c)] for c in prices.columns[[cb.value for cb in chks_1]]]\n",
    "    \n",
    "# Intercettiamo gli eventi relativi alle checkbox\n",
    "for cb in chks_1:\n",
    "    cb.observe(update_plot_1, 'value')\n",
    "\n",
    "# Definiamo il layout delle widget\n",
    "box_1 = widgets.HBox(chks_1)\n",
    "widgets.VBox([box_1, fig_1])"
   ]
  },
  {
   "cell_type": "markdown",
   "metadata": {},
   "source": [
    "Per poter confrontare tra di loro gli andamenti, è necessario normalizzare i prezzi, ad esempio ribasandoli a 100 in una data uguale per tutti $P_t$ mediante la formula $$\\frac{100 * P}{P_t}$$ Costruiamo allora un grafico dei prezzi normalizzati, aggiungendo uno **slider** per poter modificare la data di ribasamento."
   ]
  },
  {
   "cell_type": "code",
   "execution_count": 24,
   "metadata": {},
   "outputs": [
    {
     "data": {
      "application/vnd.jupyter.widget-view+json": {
       "model_id": "503671112cb0451c80434346a06c5871",
       "version_major": 2,
       "version_minor": 0
      },
      "text/plain": [
       "VBox(children=(SelectionSlider(description='Data', layout=Layout(width='100%'), options=('02-03-2009', '03-03-…"
      ]
     },
     "metadata": {},
     "output_type": "display_data"
    }
   ],
   "source": [
    "# Costruiamo lo slider e colleghiamolo alle date della serie storica\n",
    "opts_2 = [d.strftime('%d-%m-%Y') for d in prices.index]\n",
    "slider_2 = widgets.SelectionSlider(options=opts_2, description='Data', layout={'width': '100%'})\n",
    "\n",
    "# Normalizziamo i prezzi utilizzando la formula sopra citata\n",
    "nprices = 100 * prices / prices.loc[pd.to_datetime(slider_2.value, dayfirst=True), :]\n",
    "\n",
    "# Costruiamo il grafico\n",
    "x_sc_2 = bq.DateScale(date_format = \"%y\")\n",
    "y_sc_2 = bq.LinearScale()\n",
    "x_sec_2 = bq.LinearScale(min=0, max=1)\n",
    "y_sec_2 = bq.LinearScale(min=0, max=1)\n",
    "lines_2 = bq.Lines(x=nprices.index, y=[nprices[c] for c in nprices.columns], scales={'x': x_sc_2, 'y': y_sc_2},\n",
    "                   display_legend=True, labels=[c for c in nprices.columns])\n",
    "frac = (pd.to_datetime(slider_2.value, dayfirst=True) - nprices.index[0]) / (nprices.index[-1] - nprices.index[0])\n",
    "vline_2 = bq.Lines(x=[frac, frac], y=[0, 1], scales={'x': x_sec_2, 'y': y_sec_2}, colors=['#AAAAAA'])\n",
    "ax_x_2 = bq.Axis(scale=x_sc_2, grid_lines='solid', grid_color='#DDDDDD')\n",
    "ax_x_sec_2 = bq.Axis(scale=x_sec_2, visible=False)\n",
    "ax_y_2 = bq.Axis(scale=y_sc_2, orientation='vertical', grid_lines='solid', grid_color='#DDDDDD')\n",
    "ax_y_sec_2 = bq.Axis(scale=y_sec_2, orientation='vertical', visible=False)\n",
    "fig_2 = bq.Figure(marks=[lines_2, vline_2], axes=[ax_x_2, ax_x_sec_2, ax_y_2, ax_y_sec_2], title='Andamento normalizzato dei prezzi ({} = 100)'.format(slider_2.value),\n",
    "                  legend_location='top-left', background_style={'fill': 'white'}, layout={'width': '100%'})\n",
    "\n",
    "# Definiamo una funzione che aggiorna la base di normalizzazione dei prezzi, il grafico e il titolo in base ai valori dello slider\n",
    "def update_plot_2(change):\n",
    "    \"\"\" Update the chart with value from slider.\"\"\"\n",
    "    nprices = 100 * prices / prices.loc[pd.to_datetime(slider_2.value, dayfirst=True), :]\n",
    "    frac = (pd.to_datetime(slider_2.value, dayfirst=True) - nprices.index[0]) / (nprices.index[-1] - nprices.index[0])\n",
    "    lines_2.y = [nprices[c] for c in nprices.columns]\n",
    "    vline_2.x = [frac, frac]\n",
    "    fig_2.title = 'Andamento normalizzato dei prezzi ({} = 100)'.format(slider_2.value)\n",
    "\n",
    "# Intercettiamo i valori dello slider\n",
    "slider_2.observe(update_plot_2, 'value')\n",
    "\n",
    "# Definiamo il layout delle widget\n",
    "widgets.VBox([slider_2, fig_2])"
   ]
  },
  {
   "cell_type": "markdown",
   "metadata": {},
   "source": [
    "Ma qual è il rendimento delle azioni nel periodo considerato? Una prima risposta viene dal **rendimento assoluto**, ossia la percentuale di apprezzamento dei titoli sull'intero periodo, calcolata come $$100 * (\\frac{P_T}{P_0} - 1)$$ dove $P_T$ è il prezzo del titolo alla fine del periodo e $P_0$ quello all'inizio del periodo."
   ]
  },
  {
   "cell_type": "code",
   "execution_count": 25,
   "metadata": {},
   "outputs": [
    {
     "data": {
      "text/html": [
       "<style  type=\"text/css\" >\n",
       "</style><table id=\"T_26431168_4fe7_11e9_9073_3464a91dff6a\" ><thead>    <tr>        <th class=\"blank level0\" ></th>        <th class=\"col_heading level0 col0\" >AAPL</th>        <th class=\"col_heading level0 col1\" >GE</th>        <th class=\"col_heading level0 col2\" >MSFT</th>        <th class=\"col_heading level0 col3\" >MCD</th>        <th class=\"col_heading level0 col4\" >KO</th>    </tr></thead><tbody>\n",
       "                <tr>\n",
       "                        <th id=\"T_26431168_4fe7_11e9_9073_3464a91dff6alevel0_row0\" class=\"row_heading level0 row0\" >Rendimenti assoluti (%)</th>\n",
       "                        <td id=\"T_26431168_4fe7_11e9_9073_3464a91dff6arow0_col0\" class=\"data row0 col0\" >1402.36%</td>\n",
       "                        <td id=\"T_26431168_4fe7_11e9_9073_3464a91dff6arow0_col1\" class=\"data row0 col1\" >30.00%</td>\n",
       "                        <td id=\"T_26431168_4fe7_11e9_9073_3464a91dff6arow0_col2\" class=\"data row0 col2\" >645.16%</td>\n",
       "                        <td id=\"T_26431168_4fe7_11e9_9073_3464a91dff6arow0_col3\" class=\"data row0 col3\" >258.19%</td>\n",
       "                        <td id=\"T_26431168_4fe7_11e9_9073_3464a91dff6arow0_col4\" class=\"data row0 col4\" >131.95%</td>\n",
       "            </tr>\n",
       "    </tbody></table>"
      ],
      "text/plain": [
       "<pandas.io.formats.style.Styler at 0x204f4ac3b38>"
      ]
     },
     "execution_count": 25,
     "metadata": {},
     "output_type": "execute_result"
    }
   ],
   "source": [
    "absolute_returns = (prices.iloc[-1, :] / prices.iloc[0, :] - 1).to_frame().T\n",
    "absolute_returns.index = ['Rendimenti assoluti (%)']\n",
    "absolute_returns.style.format('{:.2%}')"
   ]
  },
  {
   "cell_type": "markdown",
   "metadata": {},
   "source": [
    "Per poter confrontare i rendimenti con - ad esempio - altri investimenti, può essere comodo trasformare il rendimento assoluto in un dato annualizzato. Per far ciò, utilizziamo la formula del **rendimento composto annuo** $$100 * [(\\frac{P_T}{P_0})^{\\frac{365}{T}} - 1]$$ dove $P_T$ è il prezzo del titolo alla fine del periodo, $P_0$ quello all'inizio del periodo e $T$ è il numero dei giorni compresi nel periodo."
   ]
  },
  {
   "cell_type": "code",
   "execution_count": 26,
   "metadata": {},
   "outputs": [
    {
     "data": {
      "text/html": [
       "<style  type=\"text/css\" >\n",
       "</style><table id=\"T_28596de2_4fe7_11e9_ba16_3464a91dff6a\" ><thead>    <tr>        <th class=\"blank level0\" ></th>        <th class=\"col_heading level0 col0\" >AAPL</th>        <th class=\"col_heading level0 col1\" >GE</th>        <th class=\"col_heading level0 col2\" >MSFT</th>        <th class=\"col_heading level0 col3\" >MCD</th>        <th class=\"col_heading level0 col4\" >KO</th>    </tr></thead><tbody>\n",
       "                <tr>\n",
       "                        <th id=\"T_28596de2_4fe7_11e9_ba16_3464a91dff6alevel0_row0\" class=\"row_heading level0 row0\" >Rendimenti composti annui (%)</th>\n",
       "                        <td id=\"T_28596de2_4fe7_11e9_ba16_3464a91dff6arow0_col0\" class=\"data row0 col0\" >30.88%</td>\n",
       "                        <td id=\"T_28596de2_4fe7_11e9_ba16_3464a91dff6arow0_col1\" class=\"data row0 col1\" >2.64%</td>\n",
       "                        <td id=\"T_28596de2_4fe7_11e9_ba16_3464a91dff6arow0_col2\" class=\"data row0 col2\" >22.08%</td>\n",
       "                        <td id=\"T_28596de2_4fe7_11e9_ba16_3464a91dff6arow0_col3\" class=\"data row0 col3\" >13.51%</td>\n",
       "                        <td id=\"T_28596de2_4fe7_11e9_ba16_3464a91dff6arow0_col4\" class=\"data row0 col4\" >8.72%</td>\n",
       "            </tr>\n",
       "    </tbody></table>"
      ],
      "text/plain": [
       "<pandas.io.formats.style.Styler at 0x204f41daf28>"
      ]
     },
     "execution_count": 26,
     "metadata": {},
     "output_type": "execute_result"
    }
   ],
   "source": [
    "compound_returns = ((1 + absolute_returns) ** (pd.Timedelta(365, unit='D') / (prices.index[-1] - prices.index[0])) - 1)\n",
    "compound_returns.index = ['Rendimenti composti annui (%)']\n",
    "compound_returns.style.format('{:.2%}')"
   ]
  },
  {
   "cell_type": "markdown",
   "metadata": {},
   "source": [
    "Ora costruiamo un grafico dei rendimenti, **assoluti** e **composti annui**, aggiungendo dei **radio button** per poter selezionare il tipo di rendimento da mostrare."
   ]
  },
  {
   "cell_type": "code",
   "execution_count": 27,
   "metadata": {},
   "outputs": [
    {
     "data": {
      "application/vnd.jupyter.widget-view+json": {
       "model_id": "9df92a45abf948eb87d8c91c1362d92a",
       "version_major": 2,
       "version_minor": 0
      },
      "text/plain": [
       "VBox(children=(RadioButtons(description='Tipo rendimento', layout=Layout(width='100%'), options=('Rendimenti a…"
      ]
     },
     "metadata": {},
     "output_type": "display_data"
    }
   ],
   "source": [
    "# Concateniamo per comodità i dataframe absolute_returns e compound_returns\n",
    "df_3 = pd.concat([absolute_returns, compound_returns])\n",
    "\n",
    "# Costruiamo i radio buttons per selezionare il tipo di rendimento da mostrare\n",
    "opts_3 = [i for i in df_3.index]\n",
    "radio_3 = widgets.RadioButtons(options=opts_3, description='Tipo rendimento', style={'description_width': 'initial'}, layout={'width': '100%'})\n",
    "\n",
    "# Costruiamo un grafico a barre con le etichette delle percentuali\n",
    "x_sc_3 = bq.OrdinalScale()\n",
    "y_sc_3 = bq.LinearScale(max=max(1.1 * df_3.loc[radio_3.value, :].max(), 0), min=min(1.1 * df_3.loc[radio_3.value, :].min(), 0))\n",
    "bars_3 = bq.Bars(x=df_3.columns, y=df_3.loc[radio_3.value, :], scales={'x': x_sc_3, 'y': y_sc_3},\n",
    "                 colors=[bq.colorschemes.CATEGORY10[df_3.index.get_loc(radio_3.value)]])\n",
    "labels_3 = bq.Label(x=df_3.columns, y=df_3.loc[radio_3.value, :], text=[f'{v:.2%}' for v in df_3.loc[radio_3.value, :]], scales={'x': x_sc_3, 'y': y_sc_3}, \n",
    "                    colors=['#AAAAAA'], align='middle', y_offset=-15)\n",
    "ax_x_3 = bq.Axis(scale=x_sc_3, grid_lines='solid', grid_color='#DDDDDD')\n",
    "ax_y_3 = bq.Axis(scale=y_sc_3, orientation='vertical', tick_format='0%', grid_lines='solid', grid_color='#DDDDDD')\n",
    "fig_3 = bq.Figure(marks=[bars_3, labels_3], axes=[ax_x_3, ax_y_3], title=radio_3.value, background_style={'fill': 'white'}, layout={'width': '100%'})\n",
    "\n",
    "# Definiamo una funzione per aggiornare il grafico, le etichette e il titolo\n",
    "def update_plot_3(change):\n",
    "    \"\"\" Update the chart with value from radio buttons.\"\"\"\n",
    "    y_sc_3.max = max(1.1 * df_3.loc[radio_3.value, :].max(), 0)\n",
    "    y_sc_3.min = min(1.1 * df_3.loc[radio_3.value, :].min(), 0)    \n",
    "    bars_3.y = df_3.loc[radio_3.value, :]\n",
    "    bars_3.colors = [bq.colorschemes.CATEGORY10[df_3.index.get_loc(radio_3.value)]]\n",
    "    labels_3.y = df_3.loc[radio_3.value, :]\n",
    "    labels_3.text = [f'{v:.2%}' for v in df_3.loc[radio_3.value, :]]\n",
    "    fig_3.title = radio_3.value\n",
    "\n",
    "# Intercettiamo i valori dei radio buttons\n",
    "radio_3.observe(update_plot_3, 'value')\n",
    "\n",
    "# Definiamo il layout delle widget\n",
    "widgets.VBox([radio_3, fig_3])"
   ]
  },
  {
   "cell_type": "markdown",
   "metadata": {},
   "source": [
    "Una rappresentazione comune dei risultati di uno strumento finanziario si ottiene attraverso il calcolo di **rendimenti percentuali di periodo**. In questo caso, ad esempio, calcoliamo i rendimenti percentuali per anno. "
   ]
  },
  {
   "cell_type": "code",
   "execution_count": 28,
   "metadata": {},
   "outputs": [
    {
     "data": {
      "text/html": [
       "<style  type=\"text/css\" >\n",
       "</style><table id=\"T_344bf654_4fe7_11e9_879c_3464a91dff6a\" ><thead>    <tr>        <th class=\"blank level0\" ></th>        <th class=\"col_heading level0 col0\" >AAPL</th>        <th class=\"col_heading level0 col1\" >GE</th>        <th class=\"col_heading level0 col2\" >MSFT</th>        <th class=\"col_heading level0 col3\" >MCD</th>        <th class=\"col_heading level0 col4\" >KO</th>    </tr>    <tr>        <th class=\"index_name level0\" >date</th>        <th class=\"blank\" ></th>        <th class=\"blank\" ></th>        <th class=\"blank\" ></th>        <th class=\"blank\" ></th>        <th class=\"blank\" ></th>    </tr></thead><tbody>\n",
       "                <tr>\n",
       "                        <th id=\"T_344bf654_4fe7_11e9_879c_3464a91dff6alevel0_row0\" class=\"row_heading level0 row0\" >2010-12-31 00:00:00</th>\n",
       "                        <td id=\"T_344bf654_4fe7_11e9_879c_3464a91dff6arow0_col0\" class=\"data row0 col0\" >53.07%</td>\n",
       "                        <td id=\"T_344bf654_4fe7_11e9_879c_3464a91dff6arow0_col1\" class=\"data row0 col1\" >20.89%</td>\n",
       "                        <td id=\"T_344bf654_4fe7_11e9_879c_3464a91dff6arow0_col2\" class=\"data row0 col2\" >-8.43%</td>\n",
       "                        <td id=\"T_344bf654_4fe7_11e9_879c_3464a91dff6arow0_col3\" class=\"data row0 col3\" >22.93%</td>\n",
       "                        <td id=\"T_344bf654_4fe7_11e9_879c_3464a91dff6arow0_col4\" class=\"data row0 col4\" >15.39%</td>\n",
       "            </tr>\n",
       "            <tr>\n",
       "                        <th id=\"T_344bf654_4fe7_11e9_879c_3464a91dff6alevel0_row1\" class=\"row_heading level0 row1\" >2011-12-31 00:00:00</th>\n",
       "                        <td id=\"T_344bf654_4fe7_11e9_879c_3464a91dff6arow1_col0\" class=\"data row1 col0\" >25.56%</td>\n",
       "                        <td id=\"T_344bf654_4fe7_11e9_879c_3464a91dff6arow1_col1\" class=\"data row1 col1\" >-2.08%</td>\n",
       "                        <td id=\"T_344bf654_4fe7_11e9_879c_3464a91dff6arow1_col2\" class=\"data row1 col2\" >-6.99%</td>\n",
       "                        <td id=\"T_344bf654_4fe7_11e9_879c_3464a91dff6arow1_col3\" class=\"data row1 col3\" >30.71%</td>\n",
       "                        <td id=\"T_344bf654_4fe7_11e9_879c_3464a91dff6arow1_col4\" class=\"data row1 col4\" >6.39%</td>\n",
       "            </tr>\n",
       "            <tr>\n",
       "                        <th id=\"T_344bf654_4fe7_11e9_879c_3464a91dff6alevel0_row2\" class=\"row_heading level0 row2\" >2012-12-31 00:00:00</th>\n",
       "                        <td id=\"T_344bf654_4fe7_11e9_879c_3464a91dff6arow2_col0\" class=\"data row2 col0\" >31.40%</td>\n",
       "                        <td id=\"T_344bf654_4fe7_11e9_879c_3464a91dff6arow2_col1\" class=\"data row2 col1\" >17.20%</td>\n",
       "                        <td id=\"T_344bf654_4fe7_11e9_879c_3464a91dff6arow2_col2\" class=\"data row2 col2\" >2.89%</td>\n",
       "                        <td id=\"T_344bf654_4fe7_11e9_879c_3464a91dff6arow2_col3\" class=\"data row2 col3\" >-12.08%</td>\n",
       "                        <td id=\"T_344bf654_4fe7_11e9_879c_3464a91dff6arow2_col4\" class=\"data row2 col4\" >3.62%</td>\n",
       "            </tr>\n",
       "            <tr>\n",
       "                        <th id=\"T_344bf654_4fe7_11e9_879c_3464a91dff6alevel0_row3\" class=\"row_heading level0 row3\" >2013-12-31 00:00:00</th>\n",
       "                        <td id=\"T_344bf654_4fe7_11e9_879c_3464a91dff6arow3_col0\" class=\"data row3 col0\" >5.42%</td>\n",
       "                        <td id=\"T_344bf654_4fe7_11e9_879c_3464a91dff6arow3_col1\" class=\"data row3 col1\" >33.54%</td>\n",
       "                        <td id=\"T_344bf654_4fe7_11e9_879c_3464a91dff6arow3_col2\" class=\"data row3 col2\" >40.06%</td>\n",
       "                        <td id=\"T_344bf654_4fe7_11e9_879c_3464a91dff6arow3_col3\" class=\"data row3 col3\" >10.00%</td>\n",
       "                        <td id=\"T_344bf654_4fe7_11e9_879c_3464a91dff6arow3_col4\" class=\"data row3 col4\" >13.96%</td>\n",
       "            </tr>\n",
       "            <tr>\n",
       "                        <th id=\"T_344bf654_4fe7_11e9_879c_3464a91dff6alevel0_row4\" class=\"row_heading level0 row4\" >2014-12-31 00:00:00</th>\n",
       "                        <td id=\"T_344bf654_4fe7_11e9_879c_3464a91dff6arow4_col0\" class=\"data row4 col0\" >37.72%</td>\n",
       "                        <td id=\"T_344bf654_4fe7_11e9_879c_3464a91dff6arow4_col1\" class=\"data row4 col1\" >-9.85%</td>\n",
       "                        <td id=\"T_344bf654_4fe7_11e9_879c_3464a91dff6arow4_col2\" class=\"data row4 col2\" >24.16%</td>\n",
       "                        <td id=\"T_344bf654_4fe7_11e9_879c_3464a91dff6arow4_col3\" class=\"data row4 col3\" >-3.43%</td>\n",
       "                        <td id=\"T_344bf654_4fe7_11e9_879c_3464a91dff6arow4_col4\" class=\"data row4 col4\" >2.20%</td>\n",
       "            </tr>\n",
       "            <tr>\n",
       "                        <th id=\"T_344bf654_4fe7_11e9_879c_3464a91dff6alevel0_row5\" class=\"row_heading level0 row5\" >2015-12-31 00:00:00</th>\n",
       "                        <td id=\"T_344bf654_4fe7_11e9_879c_3464a91dff6arow5_col0\" class=\"data row5 col0\" >-4.64%</td>\n",
       "                        <td id=\"T_344bf654_4fe7_11e9_879c_3464a91dff6arow5_col1\" class=\"data row5 col1\" >23.27%</td>\n",
       "                        <td id=\"T_344bf654_4fe7_11e9_879c_3464a91dff6arow5_col2\" class=\"data row5 col2\" >19.44%</td>\n",
       "                        <td id=\"T_344bf654_4fe7_11e9_879c_3464a91dff6arow5_col3\" class=\"data row5 col3\" >26.08%</td>\n",
       "                        <td id=\"T_344bf654_4fe7_11e9_879c_3464a91dff6arow5_col4\" class=\"data row5 col4\" >1.75%</td>\n",
       "            </tr>\n",
       "            <tr>\n",
       "                        <th id=\"T_344bf654_4fe7_11e9_879c_3464a91dff6alevel0_row6\" class=\"row_heading level0 row6\" >2016-12-31 00:00:00</th>\n",
       "                        <td id=\"T_344bf654_4fe7_11e9_879c_3464a91dff6arow6_col0\" class=\"data row6 col0\" >10.03%</td>\n",
       "                        <td id=\"T_344bf654_4fe7_11e9_879c_3464a91dff6arow6_col1\" class=\"data row6 col1\" >1.44%</td>\n",
       "                        <td id=\"T_344bf654_4fe7_11e9_879c_3464a91dff6arow6_col2\" class=\"data row6 col2\" >12.00%</td>\n",
       "                        <td id=\"T_344bf654_4fe7_11e9_879c_3464a91dff6arow6_col3\" class=\"data row6 col3\" >3.03%</td>\n",
       "                        <td id=\"T_344bf654_4fe7_11e9_879c_3464a91dff6arow6_col4\" class=\"data row6 col4\" >-3.49%</td>\n",
       "            </tr>\n",
       "            <tr>\n",
       "                        <th id=\"T_344bf654_4fe7_11e9_879c_3464a91dff6alevel0_row7\" class=\"row_heading level0 row7\" >2017-12-31 00:00:00</th>\n",
       "                        <td id=\"T_344bf654_4fe7_11e9_879c_3464a91dff6arow7_col0\" class=\"data row7 col0\" >46.11%</td>\n",
       "                        <td id=\"T_344bf654_4fe7_11e9_879c_3464a91dff6arow7_col1\" class=\"data row7 col1\" >-44.78%</td>\n",
       "                        <td id=\"T_344bf654_4fe7_11e9_879c_3464a91dff6arow7_col2\" class=\"data row7 col2\" >37.66%</td>\n",
       "                        <td id=\"T_344bf654_4fe7_11e9_879c_3464a91dff6arow7_col3\" class=\"data row7 col3\" >41.41%</td>\n",
       "                        <td id=\"T_344bf654_4fe7_11e9_879c_3464a91dff6arow7_col4\" class=\"data row7 col4\" >10.66%</td>\n",
       "            </tr>\n",
       "            <tr>\n",
       "                        <th id=\"T_344bf654_4fe7_11e9_879c_3464a91dff6alevel0_row8\" class=\"row_heading level0 row8\" >2018-12-31 00:00:00</th>\n",
       "                        <td id=\"T_344bf654_4fe7_11e9_879c_3464a91dff6arow8_col0\" class=\"data row8 col0\" >-6.79%</td>\n",
       "                        <td id=\"T_344bf654_4fe7_11e9_879c_3464a91dff6arow8_col1\" class=\"data row8 col1\" >-56.62%</td>\n",
       "                        <td id=\"T_344bf654_4fe7_11e9_879c_3464a91dff6arow8_col2\" class=\"data row8 col2\" >18.74%</td>\n",
       "                        <td id=\"T_344bf654_4fe7_11e9_879c_3464a91dff6arow8_col3\" class=\"data row8 col3\" >3.17%</td>\n",
       "                        <td id=\"T_344bf654_4fe7_11e9_879c_3464a91dff6arow8_col4\" class=\"data row8 col4\" >3.20%</td>\n",
       "            </tr>\n",
       "            <tr>\n",
       "                        <th id=\"T_344bf654_4fe7_11e9_879c_3464a91dff6alevel0_row9\" class=\"row_heading level0 row9\" >2019-12-31 00:00:00</th>\n",
       "                        <td id=\"T_344bf654_4fe7_11e9_879c_3464a91dff6arow9_col0\" class=\"data row9 col0\" >19.65%</td>\n",
       "                        <td id=\"T_344bf654_4fe7_11e9_879c_3464a91dff6arow9_col1\" class=\"data row9 col1\" >30.52%</td>\n",
       "                        <td id=\"T_344bf654_4fe7_11e9_879c_3464a91dff6arow9_col2\" class=\"data row9 col2\" >15.84%</td>\n",
       "                        <td id=\"T_344bf654_4fe7_11e9_879c_3464a91dff6arow9_col3\" class=\"data row9 col3\" >4.59%</td>\n",
       "                        <td id=\"T_344bf654_4fe7_11e9_879c_3464a91dff6arow9_col4\" class=\"data row9 col4\" >-2.79%</td>\n",
       "            </tr>\n",
       "    </tbody></table>"
      ],
      "text/plain": [
       "<pandas.io.formats.style.Styler at 0x204f77469b0>"
      ]
     },
     "execution_count": 28,
     "metadata": {},
     "output_type": "execute_result"
    }
   ],
   "source": [
    "# pandas ha una funzione - pct_change() - che calcola le variazioni percentuali secondo la formula dei rendimenti assoluti\n",
    "yearly_returns = prices.resample('A').last().pct_change().iloc[1:, :]\n",
    "yearly_returns.style.format('{:.2%}')"
   ]
  },
  {
   "cell_type": "markdown",
   "metadata": {},
   "source": [
    "Dai rendimenti per anno è possibile calcolare un **rendimento medio annualizzato**, da non confondere con il rendimento composto annuo (infatti, i risultati sono diversi!)."
   ]
  },
  {
   "cell_type": "code",
   "execution_count": 29,
   "metadata": {},
   "outputs": [
    {
     "data": {
      "text/html": [
       "<style  type=\"text/css\" >\n",
       "</style><table id=\"T_372040b6_4fe7_11e9_9981_3464a91dff6a\" ><thead>    <tr>        <th class=\"blank level0\" ></th>        <th class=\"col_heading level0 col0\" >AAPL</th>        <th class=\"col_heading level0 col1\" >GE</th>        <th class=\"col_heading level0 col2\" >MSFT</th>        <th class=\"col_heading level0 col3\" >MCD</th>        <th class=\"col_heading level0 col4\" >KO</th>    </tr></thead><tbody>\n",
       "                <tr>\n",
       "                        <th id=\"T_372040b6_4fe7_11e9_9981_3464a91dff6alevel0_row0\" class=\"row_heading level0 row0\" >Rendimento medio annuo (%)</th>\n",
       "                        <td id=\"T_372040b6_4fe7_11e9_9981_3464a91dff6arow0_col0\" class=\"data row0 col0\" >21.75%</td>\n",
       "                        <td id=\"T_372040b6_4fe7_11e9_9981_3464a91dff6arow0_col1\" class=\"data row0 col1\" >1.35%</td>\n",
       "                        <td id=\"T_372040b6_4fe7_11e9_9981_3464a91dff6arow0_col2\" class=\"data row0 col2\" >15.54%</td>\n",
       "                        <td id=\"T_372040b6_4fe7_11e9_9981_3464a91dff6arow0_col3\" class=\"data row0 col3\" >12.64%</td>\n",
       "                        <td id=\"T_372040b6_4fe7_11e9_9981_3464a91dff6arow0_col4\" class=\"data row0 col4\" >5.09%</td>\n",
       "            </tr>\n",
       "    </tbody></table>"
      ],
      "text/plain": [
       "<pandas.io.formats.style.Styler at 0x204f77464e0>"
      ]
     },
     "execution_count": 29,
     "metadata": {},
     "output_type": "execute_result"
    }
   ],
   "source": [
    "yearly_avgs = yearly_returns.mean().to_frame().T\n",
    "yearly_avgs.index = ['Rendimento medio annuo (%)']\n",
    "yearly_avgs.style.format('{:.2%}')"
   ]
  },
  {
   "cell_type": "markdown",
   "metadata": {},
   "source": [
    "Possiamo generare un grafico dei rendimenti percentuali annui e delle relative medie, con dei **toggle button** che permettano di scegliere il titolo da visualizzare."
   ]
  },
  {
   "cell_type": "code",
   "execution_count": 30,
   "metadata": {},
   "outputs": [
    {
     "data": {
      "application/vnd.jupyter.widget-view+json": {
       "model_id": "639c3190c36a405d9a16e485ec9af413",
       "version_major": 2,
       "version_minor": 0
      },
      "text/plain": [
       "VBox(children=(ToggleButtons(description='Titolo', layout=Layout(width='100%'), options=('AAPL', 'GE', 'MSFT',…"
      ]
     },
     "metadata": {},
     "output_type": "display_data"
    }
   ],
   "source": [
    "# Costruiamo dei toggle buttons per selezionare il titolo\n",
    "opts_4 = [c for c in yearly_returns.columns]\n",
    "buttons_4 = widgets.ToggleButtons(options=opts_4, description='Titolo', layout={'width': '100%'})\n",
    "\n",
    "# Costruiamo un grafico a barre con le etichette delle percentuali e una linea orizzontale a rappresentare la media\n",
    "x_sc_4 = bq.DateScale()\n",
    "y_sc_4 = bq.LinearScale(max=max(1.1 * yearly_returns.loc[:, buttons_4.value].max(), 0), min=min(1.1 * yearly_returns.loc[:, buttons_4.value].min(), 0))\n",
    "x_sec_4 = bq.OrdinalScale()\n",
    "x_ter_4 = bq.LinearScale(min=0, max=1)\n",
    "bars_4 = bq.Bars(x=yearly_returns.index, y=yearly_returns.loc[:, buttons_4.value], scales={'x': x_sc_4, 'y': y_sc_4},\n",
    "                 colors=[bq.colorschemes.CATEGORY10[yearly_returns.columns.get_loc(buttons_4.value)]])\n",
    "labels_4 = bq.Label(x=range(len(yearly_returns.index)), y=yearly_returns.loc[:, buttons_4.value], text=[f'{v:.2%}' for v in yearly_returns.loc[:, buttons_4.value]],\n",
    "                    scales={'x': x_sec_4, 'y': y_sc_4}, colors=['#AAAAAA'], align='middle', y_offset=-15, default_size=13)\n",
    "avg_line_4 = bq.Lines(x=[0, 1], y=[yearly_avgs.loc[:, buttons_4.value], yearly_avgs.loc[:, buttons_4.value]], scales={'x': x_ter_4, 'y': y_sc_4}, colors=['#666666'], \n",
    "                      line_style='dash_dotted', display_legend=True, labels=[f'Rendimento medio annuo: {v:.2%}' for v in yearly_avgs.loc[:, buttons_4.value]])\n",
    "ax_x_4 = bq.Axis(scale=x_sc_4, grid_lines='solid', grid_color='#DDDDDD')\n",
    "ax_x_sec_4 = bq.Axis(scale=x_sec_4, visible=False)\n",
    "ax_x_ter_4 = bq.Axis(scale=x_ter_4, visible=False)\n",
    "ax_y_4 = bq.Axis(scale=y_sc_4, orientation='vertical', tick_format='0%', grid_lines='solid', grid_color='#DDDDDD')\n",
    "fig_4 = bq.Figure(marks=[bars_4, labels_4, avg_line_4], axes=[ax_x_4, ax_x_sec_4, ax_x_ter_4, ax_y_4], title=f'Rendimenti percentuali annui per {buttons_4.value}', \n",
    "                  background_style={'fill': 'white'}, legend_location='top-right', layout={'width': '100%'})\n",
    "\n",
    "# Definiamo una funzione per aggiornare il grafico, le etichette, la media e il titolo\n",
    "def update_plot_4(change):\n",
    "    \"\"\" Update the chart with value from the toggle buttons.\"\"\"\n",
    "    y_sc_4.max = max(1.1 * yearly_returns.loc[:, buttons_4.value].max(), 0)\n",
    "    y_sc_4.min = min(1.1 * yearly_returns.loc[:, buttons_4.value].min(), 0)   \n",
    "    bars_4.y = yearly_returns.loc[:, buttons_4.value]\n",
    "    bars_4.colors = [bq.colorschemes.CATEGORY10[yearly_returns.columns.get_loc(buttons_4.value)]]\n",
    "    labels_4.y = yearly_returns.loc[:, buttons_4.value]\n",
    "    labels_4.text = [f'{v:.2%}' for v in yearly_returns.loc[:, buttons_4.value]]\n",
    "    avg_line_4.y = [yearly_avgs.loc[:, buttons_4.value], yearly_avgs.loc[:, buttons_4.value]]\n",
    "    avg_line_4.labels = [f'Rendimento medio annuo: {v:.2%}' for v in yearly_avgs.loc[:, buttons_4.value]]\n",
    "    fig_4.title = f'Rendimenti percentuali annui per {buttons_4.value}'\n",
    "\n",
    "# Intercettiamo i valori dei toggle buttons\n",
    "buttons_4.observe(update_plot_4, 'value')\n",
    "\n",
    "# Definiamo il layout delle widget\n",
    "widgets.VBox([buttons_4, fig_4])"
   ]
  },
  {
   "cell_type": "markdown",
   "metadata": {},
   "source": [
    "Oltre ai rendimenti percentuali, in finanza è comune calcolare i **rendimenti logaritmici**, definiti come la differenza dei logaritmi dei prezzi a fine e a inizio periodo. In formula $$ln(P_T) - ln(P_0)$$"
   ]
  },
  {
   "cell_type": "code",
   "execution_count": 31,
   "metadata": {},
   "outputs": [
    {
     "data": {
      "text/html": [
       "<style  type=\"text/css\" >\n",
       "</style><table id=\"T_460f7410_4fe7_11e9_a40b_3464a91dff6a\" ><thead>    <tr>        <th class=\"blank level0\" ></th>        <th class=\"col_heading level0 col0\" >AAPL</th>        <th class=\"col_heading level0 col1\" >GE</th>        <th class=\"col_heading level0 col2\" >MSFT</th>        <th class=\"col_heading level0 col3\" >MCD</th>        <th class=\"col_heading level0 col4\" >KO</th>    </tr>    <tr>        <th class=\"index_name level0\" >date</th>        <th class=\"blank\" ></th>        <th class=\"blank\" ></th>        <th class=\"blank\" ></th>        <th class=\"blank\" ></th>        <th class=\"blank\" ></th>    </tr></thead><tbody>\n",
       "                <tr>\n",
       "                        <th id=\"T_460f7410_4fe7_11e9_a40b_3464a91dff6alevel0_row0\" class=\"row_heading level0 row0\" >2010-12-31 00:00:00</th>\n",
       "                        <td id=\"T_460f7410_4fe7_11e9_a40b_3464a91dff6arow0_col0\" class=\"data row0 col0\" >42.57%</td>\n",
       "                        <td id=\"T_460f7410_4fe7_11e9_a40b_3464a91dff6arow0_col1\" class=\"data row0 col1\" >18.97%</td>\n",
       "                        <td id=\"T_460f7410_4fe7_11e9_a40b_3464a91dff6arow0_col2\" class=\"data row0 col2\" >-8.81%</td>\n",
       "                        <td id=\"T_460f7410_4fe7_11e9_a40b_3464a91dff6arow0_col3\" class=\"data row0 col3\" >20.65%</td>\n",
       "                        <td id=\"T_460f7410_4fe7_11e9_a40b_3464a91dff6arow0_col4\" class=\"data row0 col4\" >14.31%</td>\n",
       "            </tr>\n",
       "            <tr>\n",
       "                        <th id=\"T_460f7410_4fe7_11e9_a40b_3464a91dff6alevel0_row1\" class=\"row_heading level0 row1\" >2011-12-31 00:00:00</th>\n",
       "                        <td id=\"T_460f7410_4fe7_11e9_a40b_3464a91dff6arow1_col0\" class=\"data row1 col0\" >22.76%</td>\n",
       "                        <td id=\"T_460f7410_4fe7_11e9_a40b_3464a91dff6arow1_col1\" class=\"data row1 col1\" >-2.10%</td>\n",
       "                        <td id=\"T_460f7410_4fe7_11e9_a40b_3464a91dff6arow1_col2\" class=\"data row1 col2\" >-7.24%</td>\n",
       "                        <td id=\"T_460f7410_4fe7_11e9_a40b_3464a91dff6arow1_col3\" class=\"data row1 col3\" >26.78%</td>\n",
       "                        <td id=\"T_460f7410_4fe7_11e9_a40b_3464a91dff6arow1_col4\" class=\"data row1 col4\" >6.19%</td>\n",
       "            </tr>\n",
       "            <tr>\n",
       "                        <th id=\"T_460f7410_4fe7_11e9_a40b_3464a91dff6alevel0_row2\" class=\"row_heading level0 row2\" >2012-12-31 00:00:00</th>\n",
       "                        <td id=\"T_460f7410_4fe7_11e9_a40b_3464a91dff6arow2_col0\" class=\"data row2 col0\" >27.31%</td>\n",
       "                        <td id=\"T_460f7410_4fe7_11e9_a40b_3464a91dff6arow2_col1\" class=\"data row2 col1\" >15.87%</td>\n",
       "                        <td id=\"T_460f7410_4fe7_11e9_a40b_3464a91dff6arow2_col2\" class=\"data row2 col2\" >2.85%</td>\n",
       "                        <td id=\"T_460f7410_4fe7_11e9_a40b_3464a91dff6arow2_col3\" class=\"data row2 col3\" >-12.87%</td>\n",
       "                        <td id=\"T_460f7410_4fe7_11e9_a40b_3464a91dff6arow2_col4\" class=\"data row2 col4\" >3.55%</td>\n",
       "            </tr>\n",
       "            <tr>\n",
       "                        <th id=\"T_460f7410_4fe7_11e9_a40b_3464a91dff6alevel0_row3\" class=\"row_heading level0 row3\" >2013-12-31 00:00:00</th>\n",
       "                        <td id=\"T_460f7410_4fe7_11e9_a40b_3464a91dff6arow3_col0\" class=\"data row3 col0\" >5.28%</td>\n",
       "                        <td id=\"T_460f7410_4fe7_11e9_a40b_3464a91dff6arow3_col1\" class=\"data row3 col1\" >28.92%</td>\n",
       "                        <td id=\"T_460f7410_4fe7_11e9_a40b_3464a91dff6arow3_col2\" class=\"data row3 col2\" >33.69%</td>\n",
       "                        <td id=\"T_460f7410_4fe7_11e9_a40b_3464a91dff6arow3_col3\" class=\"data row3 col3\" >9.53%</td>\n",
       "                        <td id=\"T_460f7410_4fe7_11e9_a40b_3464a91dff6arow3_col4\" class=\"data row3 col4\" >13.07%</td>\n",
       "            </tr>\n",
       "            <tr>\n",
       "                        <th id=\"T_460f7410_4fe7_11e9_a40b_3464a91dff6alevel0_row4\" class=\"row_heading level0 row4\" >2014-12-31 00:00:00</th>\n",
       "                        <td id=\"T_460f7410_4fe7_11e9_a40b_3464a91dff6arow4_col0\" class=\"data row4 col0\" >32.01%</td>\n",
       "                        <td id=\"T_460f7410_4fe7_11e9_a40b_3464a91dff6arow4_col1\" class=\"data row4 col1\" >-10.37%</td>\n",
       "                        <td id=\"T_460f7410_4fe7_11e9_a40b_3464a91dff6arow4_col2\" class=\"data row4 col2\" >21.64%</td>\n",
       "                        <td id=\"T_460f7410_4fe7_11e9_a40b_3464a91dff6arow4_col3\" class=\"data row4 col3\" >-3.49%</td>\n",
       "                        <td id=\"T_460f7410_4fe7_11e9_a40b_3464a91dff6arow4_col4\" class=\"data row4 col4\" >2.18%</td>\n",
       "            </tr>\n",
       "            <tr>\n",
       "                        <th id=\"T_460f7410_4fe7_11e9_a40b_3464a91dff6alevel0_row5\" class=\"row_heading level0 row5\" >2015-12-31 00:00:00</th>\n",
       "                        <td id=\"T_460f7410_4fe7_11e9_a40b_3464a91dff6arow5_col0\" class=\"data row5 col0\" >-4.75%</td>\n",
       "                        <td id=\"T_460f7410_4fe7_11e9_a40b_3464a91dff6arow5_col1\" class=\"data row5 col1\" >20.92%</td>\n",
       "                        <td id=\"T_460f7410_4fe7_11e9_a40b_3464a91dff6arow5_col2\" class=\"data row5 col2\" >17.76%</td>\n",
       "                        <td id=\"T_460f7410_4fe7_11e9_a40b_3464a91dff6arow5_col3\" class=\"data row5 col3\" >23.18%</td>\n",
       "                        <td id=\"T_460f7410_4fe7_11e9_a40b_3464a91dff6arow5_col4\" class=\"data row5 col4\" >1.74%</td>\n",
       "            </tr>\n",
       "            <tr>\n",
       "                        <th id=\"T_460f7410_4fe7_11e9_a40b_3464a91dff6alevel0_row6\" class=\"row_heading level0 row6\" >2016-12-31 00:00:00</th>\n",
       "                        <td id=\"T_460f7410_4fe7_11e9_a40b_3464a91dff6arow6_col0\" class=\"data row6 col0\" >9.56%</td>\n",
       "                        <td id=\"T_460f7410_4fe7_11e9_a40b_3464a91dff6arow6_col1\" class=\"data row6 col1\" >1.43%</td>\n",
       "                        <td id=\"T_460f7410_4fe7_11e9_a40b_3464a91dff6arow6_col2\" class=\"data row6 col2\" >11.34%</td>\n",
       "                        <td id=\"T_460f7410_4fe7_11e9_a40b_3464a91dff6arow6_col3\" class=\"data row6 col3\" >2.99%</td>\n",
       "                        <td id=\"T_460f7410_4fe7_11e9_a40b_3464a91dff6arow6_col4\" class=\"data row6 col4\" >-3.55%</td>\n",
       "            </tr>\n",
       "            <tr>\n",
       "                        <th id=\"T_460f7410_4fe7_11e9_a40b_3464a91dff6alevel0_row7\" class=\"row_heading level0 row7\" >2017-12-31 00:00:00</th>\n",
       "                        <td id=\"T_460f7410_4fe7_11e9_a40b_3464a91dff6arow7_col0\" class=\"data row7 col0\" >37.92%</td>\n",
       "                        <td id=\"T_460f7410_4fe7_11e9_a40b_3464a91dff6arow7_col1\" class=\"data row7 col1\" >-59.38%</td>\n",
       "                        <td id=\"T_460f7410_4fe7_11e9_a40b_3464a91dff6arow7_col2\" class=\"data row7 col2\" >31.96%</td>\n",
       "                        <td id=\"T_460f7410_4fe7_11e9_a40b_3464a91dff6arow7_col3\" class=\"data row7 col3\" >34.65%</td>\n",
       "                        <td id=\"T_460f7410_4fe7_11e9_a40b_3464a91dff6arow7_col4\" class=\"data row7 col4\" >10.13%</td>\n",
       "            </tr>\n",
       "            <tr>\n",
       "                        <th id=\"T_460f7410_4fe7_11e9_a40b_3464a91dff6alevel0_row8\" class=\"row_heading level0 row8\" >2018-12-31 00:00:00</th>\n",
       "                        <td id=\"T_460f7410_4fe7_11e9_a40b_3464a91dff6arow8_col0\" class=\"data row8 col0\" >-7.03%</td>\n",
       "                        <td id=\"T_460f7410_4fe7_11e9_a40b_3464a91dff6arow8_col1\" class=\"data row8 col1\" >-83.51%</td>\n",
       "                        <td id=\"T_460f7410_4fe7_11e9_a40b_3464a91dff6arow8_col2\" class=\"data row8 col2\" >17.18%</td>\n",
       "                        <td id=\"T_460f7410_4fe7_11e9_a40b_3464a91dff6arow8_col3\" class=\"data row8 col3\" >3.12%</td>\n",
       "                        <td id=\"T_460f7410_4fe7_11e9_a40b_3464a91dff6arow8_col4\" class=\"data row8 col4\" >3.15%</td>\n",
       "            </tr>\n",
       "            <tr>\n",
       "                        <th id=\"T_460f7410_4fe7_11e9_a40b_3464a91dff6alevel0_row9\" class=\"row_heading level0 row9\" >2019-12-31 00:00:00</th>\n",
       "                        <td id=\"T_460f7410_4fe7_11e9_a40b_3464a91dff6arow9_col0\" class=\"data row9 col0\" >17.94%</td>\n",
       "                        <td id=\"T_460f7410_4fe7_11e9_a40b_3464a91dff6arow9_col1\" class=\"data row9 col1\" >26.63%</td>\n",
       "                        <td id=\"T_460f7410_4fe7_11e9_a40b_3464a91dff6arow9_col2\" class=\"data row9 col2\" >14.71%</td>\n",
       "                        <td id=\"T_460f7410_4fe7_11e9_a40b_3464a91dff6arow9_col3\" class=\"data row9 col3\" >4.49%</td>\n",
       "                        <td id=\"T_460f7410_4fe7_11e9_a40b_3464a91dff6arow9_col4\" class=\"data row9 col4\" >-2.83%</td>\n",
       "            </tr>\n",
       "    </tbody></table>"
      ],
      "text/plain": [
       "<pandas.io.formats.style.Styler at 0x204f77b7d68>"
      ]
     },
     "execution_count": 31,
     "metadata": {},
     "output_type": "execute_result"
    }
   ],
   "source": [
    "# Importiamo numpy per avere la funzione logaritmo, non disponibile in pandas\n",
    "import numpy as np\n",
    "\n",
    "yearly_log_returns = prices.resample('A').last().apply(np.log).diff().iloc[1:, :]\n",
    "yearly_log_returns.style.format('{:.2%}')"
   ]
  },
  {
   "cell_type": "markdown",
   "metadata": {},
   "source": [
    "Anche in questo caso, possiamo calcolare un rendimento medio (logaritmico) annualizzato, diverso da quello percentuale e da quello composto annuo."
   ]
  },
  {
   "cell_type": "code",
   "execution_count": 32,
   "metadata": {},
   "outputs": [
    {
     "data": {
      "text/html": [
       "<style  type=\"text/css\" >\n",
       "</style><table id=\"T_496aa74a_4fe7_11e9_a658_3464a91dff6a\" ><thead>    <tr>        <th class=\"blank level0\" ></th>        <th class=\"col_heading level0 col0\" >AAPL</th>        <th class=\"col_heading level0 col1\" >GE</th>        <th class=\"col_heading level0 col2\" >MSFT</th>        <th class=\"col_heading level0 col3\" >MCD</th>        <th class=\"col_heading level0 col4\" >KO</th>    </tr></thead><tbody>\n",
       "                <tr>\n",
       "                        <th id=\"T_496aa74a_4fe7_11e9_a658_3464a91dff6alevel0_row0\" class=\"row_heading level0 row0\" >Log rendimento medio annuo (%)</th>\n",
       "                        <td id=\"T_496aa74a_4fe7_11e9_a658_3464a91dff6arow0_col0\" class=\"data row0 col0\" >18.36%</td>\n",
       "                        <td id=\"T_496aa74a_4fe7_11e9_a658_3464a91dff6arow0_col1\" class=\"data row0 col1\" >-4.26%</td>\n",
       "                        <td id=\"T_496aa74a_4fe7_11e9_a658_3464a91dff6arow0_col2\" class=\"data row0 col2\" >13.51%</td>\n",
       "                        <td id=\"T_496aa74a_4fe7_11e9_a658_3464a91dff6arow0_col3\" class=\"data row0 col3\" >10.90%</td>\n",
       "                        <td id=\"T_496aa74a_4fe7_11e9_a658_3464a91dff6arow0_col4\" class=\"data row0 col4\" >4.79%</td>\n",
       "            </tr>\n",
       "    </tbody></table>"
      ],
      "text/plain": [
       "<pandas.io.formats.style.Styler at 0x204f77656a0>"
      ]
     },
     "execution_count": 32,
     "metadata": {},
     "output_type": "execute_result"
    }
   ],
   "source": [
    "yearly_log_avgs = yearly_log_returns.mean().to_frame().T\n",
    "yearly_log_avgs.index = ['Log rendimento medio annuo (%)']\n",
    "yearly_log_avgs.style.format('{:.2%}')"
   ]
  },
  {
   "cell_type": "markdown",
   "metadata": {},
   "source": [
    "Un interessante proprietà dei **rendimenti logaritmici** è che sono \"simmetrici\"\", ossia una perdita del 30% seguita da un guadagno del 30% in termini logaritmici ci riporta al livello iniziale. Questo non è vero per i rendimenti percentuali! In termini logaritmici, inoltre, è possibile perdere più del 100%."
   ]
  },
  {
   "cell_type": "markdown",
   "metadata": {},
   "source": [
    "Per trasformare i rendimenti logaritmici in rendimenti percentuali vale la formula $$R = e^r - 1$$ dove $R$ sono i rendimenti percentuali e $r$ quelli logaritmici."
   ]
  },
  {
   "cell_type": "code",
   "execution_count": 33,
   "metadata": {},
   "outputs": [
    {
     "data": {
      "text/html": [
       "<style  type=\"text/css\" >\n",
       "</style><table id=\"T_4be66bba_4fe7_11e9_90be_3464a91dff6a\" ><thead>    <tr>        <th class=\"blank level0\" ></th>        <th class=\"col_heading level0 col0\" >AAPL</th>        <th class=\"col_heading level0 col1\" >GE</th>        <th class=\"col_heading level0 col2\" >MSFT</th>        <th class=\"col_heading level0 col3\" >MCD</th>        <th class=\"col_heading level0 col4\" >KO</th>    </tr>    <tr>        <th class=\"index_name level0\" >date</th>        <th class=\"blank\" ></th>        <th class=\"blank\" ></th>        <th class=\"blank\" ></th>        <th class=\"blank\" ></th>        <th class=\"blank\" ></th>    </tr></thead><tbody>\n",
       "                <tr>\n",
       "                        <th id=\"T_4be66bba_4fe7_11e9_90be_3464a91dff6alevel0_row0\" class=\"row_heading level0 row0\" >2010-12-31 00:00:00</th>\n",
       "                        <td id=\"T_4be66bba_4fe7_11e9_90be_3464a91dff6arow0_col0\" class=\"data row0 col0\" >53.07%</td>\n",
       "                        <td id=\"T_4be66bba_4fe7_11e9_90be_3464a91dff6arow0_col1\" class=\"data row0 col1\" >20.89%</td>\n",
       "                        <td id=\"T_4be66bba_4fe7_11e9_90be_3464a91dff6arow0_col2\" class=\"data row0 col2\" >-8.43%</td>\n",
       "                        <td id=\"T_4be66bba_4fe7_11e9_90be_3464a91dff6arow0_col3\" class=\"data row0 col3\" >22.93%</td>\n",
       "                        <td id=\"T_4be66bba_4fe7_11e9_90be_3464a91dff6arow0_col4\" class=\"data row0 col4\" >15.39%</td>\n",
       "            </tr>\n",
       "            <tr>\n",
       "                        <th id=\"T_4be66bba_4fe7_11e9_90be_3464a91dff6alevel0_row1\" class=\"row_heading level0 row1\" >2011-12-31 00:00:00</th>\n",
       "                        <td id=\"T_4be66bba_4fe7_11e9_90be_3464a91dff6arow1_col0\" class=\"data row1 col0\" >25.56%</td>\n",
       "                        <td id=\"T_4be66bba_4fe7_11e9_90be_3464a91dff6arow1_col1\" class=\"data row1 col1\" >-2.08%</td>\n",
       "                        <td id=\"T_4be66bba_4fe7_11e9_90be_3464a91dff6arow1_col2\" class=\"data row1 col2\" >-6.99%</td>\n",
       "                        <td id=\"T_4be66bba_4fe7_11e9_90be_3464a91dff6arow1_col3\" class=\"data row1 col3\" >30.71%</td>\n",
       "                        <td id=\"T_4be66bba_4fe7_11e9_90be_3464a91dff6arow1_col4\" class=\"data row1 col4\" >6.39%</td>\n",
       "            </tr>\n",
       "            <tr>\n",
       "                        <th id=\"T_4be66bba_4fe7_11e9_90be_3464a91dff6alevel0_row2\" class=\"row_heading level0 row2\" >2012-12-31 00:00:00</th>\n",
       "                        <td id=\"T_4be66bba_4fe7_11e9_90be_3464a91dff6arow2_col0\" class=\"data row2 col0\" >31.40%</td>\n",
       "                        <td id=\"T_4be66bba_4fe7_11e9_90be_3464a91dff6arow2_col1\" class=\"data row2 col1\" >17.20%</td>\n",
       "                        <td id=\"T_4be66bba_4fe7_11e9_90be_3464a91dff6arow2_col2\" class=\"data row2 col2\" >2.89%</td>\n",
       "                        <td id=\"T_4be66bba_4fe7_11e9_90be_3464a91dff6arow2_col3\" class=\"data row2 col3\" >-12.08%</td>\n",
       "                        <td id=\"T_4be66bba_4fe7_11e9_90be_3464a91dff6arow2_col4\" class=\"data row2 col4\" >3.62%</td>\n",
       "            </tr>\n",
       "            <tr>\n",
       "                        <th id=\"T_4be66bba_4fe7_11e9_90be_3464a91dff6alevel0_row3\" class=\"row_heading level0 row3\" >2013-12-31 00:00:00</th>\n",
       "                        <td id=\"T_4be66bba_4fe7_11e9_90be_3464a91dff6arow3_col0\" class=\"data row3 col0\" >5.42%</td>\n",
       "                        <td id=\"T_4be66bba_4fe7_11e9_90be_3464a91dff6arow3_col1\" class=\"data row3 col1\" >33.54%</td>\n",
       "                        <td id=\"T_4be66bba_4fe7_11e9_90be_3464a91dff6arow3_col2\" class=\"data row3 col2\" >40.06%</td>\n",
       "                        <td id=\"T_4be66bba_4fe7_11e9_90be_3464a91dff6arow3_col3\" class=\"data row3 col3\" >10.00%</td>\n",
       "                        <td id=\"T_4be66bba_4fe7_11e9_90be_3464a91dff6arow3_col4\" class=\"data row3 col4\" >13.96%</td>\n",
       "            </tr>\n",
       "            <tr>\n",
       "                        <th id=\"T_4be66bba_4fe7_11e9_90be_3464a91dff6alevel0_row4\" class=\"row_heading level0 row4\" >2014-12-31 00:00:00</th>\n",
       "                        <td id=\"T_4be66bba_4fe7_11e9_90be_3464a91dff6arow4_col0\" class=\"data row4 col0\" >37.72%</td>\n",
       "                        <td id=\"T_4be66bba_4fe7_11e9_90be_3464a91dff6arow4_col1\" class=\"data row4 col1\" >-9.85%</td>\n",
       "                        <td id=\"T_4be66bba_4fe7_11e9_90be_3464a91dff6arow4_col2\" class=\"data row4 col2\" >24.16%</td>\n",
       "                        <td id=\"T_4be66bba_4fe7_11e9_90be_3464a91dff6arow4_col3\" class=\"data row4 col3\" >-3.43%</td>\n",
       "                        <td id=\"T_4be66bba_4fe7_11e9_90be_3464a91dff6arow4_col4\" class=\"data row4 col4\" >2.20%</td>\n",
       "            </tr>\n",
       "            <tr>\n",
       "                        <th id=\"T_4be66bba_4fe7_11e9_90be_3464a91dff6alevel0_row5\" class=\"row_heading level0 row5\" >2015-12-31 00:00:00</th>\n",
       "                        <td id=\"T_4be66bba_4fe7_11e9_90be_3464a91dff6arow5_col0\" class=\"data row5 col0\" >-4.64%</td>\n",
       "                        <td id=\"T_4be66bba_4fe7_11e9_90be_3464a91dff6arow5_col1\" class=\"data row5 col1\" >23.27%</td>\n",
       "                        <td id=\"T_4be66bba_4fe7_11e9_90be_3464a91dff6arow5_col2\" class=\"data row5 col2\" >19.44%</td>\n",
       "                        <td id=\"T_4be66bba_4fe7_11e9_90be_3464a91dff6arow5_col3\" class=\"data row5 col3\" >26.08%</td>\n",
       "                        <td id=\"T_4be66bba_4fe7_11e9_90be_3464a91dff6arow5_col4\" class=\"data row5 col4\" >1.75%</td>\n",
       "            </tr>\n",
       "            <tr>\n",
       "                        <th id=\"T_4be66bba_4fe7_11e9_90be_3464a91dff6alevel0_row6\" class=\"row_heading level0 row6\" >2016-12-31 00:00:00</th>\n",
       "                        <td id=\"T_4be66bba_4fe7_11e9_90be_3464a91dff6arow6_col0\" class=\"data row6 col0\" >10.03%</td>\n",
       "                        <td id=\"T_4be66bba_4fe7_11e9_90be_3464a91dff6arow6_col1\" class=\"data row6 col1\" >1.44%</td>\n",
       "                        <td id=\"T_4be66bba_4fe7_11e9_90be_3464a91dff6arow6_col2\" class=\"data row6 col2\" >12.00%</td>\n",
       "                        <td id=\"T_4be66bba_4fe7_11e9_90be_3464a91dff6arow6_col3\" class=\"data row6 col3\" >3.03%</td>\n",
       "                        <td id=\"T_4be66bba_4fe7_11e9_90be_3464a91dff6arow6_col4\" class=\"data row6 col4\" >-3.49%</td>\n",
       "            </tr>\n",
       "            <tr>\n",
       "                        <th id=\"T_4be66bba_4fe7_11e9_90be_3464a91dff6alevel0_row7\" class=\"row_heading level0 row7\" >2017-12-31 00:00:00</th>\n",
       "                        <td id=\"T_4be66bba_4fe7_11e9_90be_3464a91dff6arow7_col0\" class=\"data row7 col0\" >46.11%</td>\n",
       "                        <td id=\"T_4be66bba_4fe7_11e9_90be_3464a91dff6arow7_col1\" class=\"data row7 col1\" >-44.78%</td>\n",
       "                        <td id=\"T_4be66bba_4fe7_11e9_90be_3464a91dff6arow7_col2\" class=\"data row7 col2\" >37.66%</td>\n",
       "                        <td id=\"T_4be66bba_4fe7_11e9_90be_3464a91dff6arow7_col3\" class=\"data row7 col3\" >41.41%</td>\n",
       "                        <td id=\"T_4be66bba_4fe7_11e9_90be_3464a91dff6arow7_col4\" class=\"data row7 col4\" >10.66%</td>\n",
       "            </tr>\n",
       "            <tr>\n",
       "                        <th id=\"T_4be66bba_4fe7_11e9_90be_3464a91dff6alevel0_row8\" class=\"row_heading level0 row8\" >2018-12-31 00:00:00</th>\n",
       "                        <td id=\"T_4be66bba_4fe7_11e9_90be_3464a91dff6arow8_col0\" class=\"data row8 col0\" >-6.79%</td>\n",
       "                        <td id=\"T_4be66bba_4fe7_11e9_90be_3464a91dff6arow8_col1\" class=\"data row8 col1\" >-56.62%</td>\n",
       "                        <td id=\"T_4be66bba_4fe7_11e9_90be_3464a91dff6arow8_col2\" class=\"data row8 col2\" >18.74%</td>\n",
       "                        <td id=\"T_4be66bba_4fe7_11e9_90be_3464a91dff6arow8_col3\" class=\"data row8 col3\" >3.17%</td>\n",
       "                        <td id=\"T_4be66bba_4fe7_11e9_90be_3464a91dff6arow8_col4\" class=\"data row8 col4\" >3.20%</td>\n",
       "            </tr>\n",
       "            <tr>\n",
       "                        <th id=\"T_4be66bba_4fe7_11e9_90be_3464a91dff6alevel0_row9\" class=\"row_heading level0 row9\" >2019-12-31 00:00:00</th>\n",
       "                        <td id=\"T_4be66bba_4fe7_11e9_90be_3464a91dff6arow9_col0\" class=\"data row9 col0\" >19.65%</td>\n",
       "                        <td id=\"T_4be66bba_4fe7_11e9_90be_3464a91dff6arow9_col1\" class=\"data row9 col1\" >30.52%</td>\n",
       "                        <td id=\"T_4be66bba_4fe7_11e9_90be_3464a91dff6arow9_col2\" class=\"data row9 col2\" >15.84%</td>\n",
       "                        <td id=\"T_4be66bba_4fe7_11e9_90be_3464a91dff6arow9_col3\" class=\"data row9 col3\" >4.59%</td>\n",
       "                        <td id=\"T_4be66bba_4fe7_11e9_90be_3464a91dff6arow9_col4\" class=\"data row9 col4\" >-2.79%</td>\n",
       "            </tr>\n",
       "    </tbody></table>"
      ],
      "text/plain": [
       "<pandas.io.formats.style.Styler at 0x204f77b7630>"
      ]
     },
     "execution_count": 33,
     "metadata": {},
     "output_type": "execute_result"
    }
   ],
   "source": [
    "((yearly_log_returns).apply(np.exp) - 1).style.format('{:.2%}')"
   ]
  },
  {
   "cell_type": "markdown",
   "metadata": {},
   "source": [
    "La formula inversa per passare dai rendimenti percentuali a quelli logaritmici è $$r = ln(1 + R)$$"
   ]
  },
  {
   "cell_type": "code",
   "execution_count": 34,
   "metadata": {},
   "outputs": [
    {
     "data": {
      "text/html": [
       "<style  type=\"text/css\" >\n",
       "</style><table id=\"T_4e7eb538_4fe7_11e9_9877_3464a91dff6a\" ><thead>    <tr>        <th class=\"blank level0\" ></th>        <th class=\"col_heading level0 col0\" >AAPL</th>        <th class=\"col_heading level0 col1\" >GE</th>        <th class=\"col_heading level0 col2\" >MSFT</th>        <th class=\"col_heading level0 col3\" >MCD</th>        <th class=\"col_heading level0 col4\" >KO</th>    </tr>    <tr>        <th class=\"index_name level0\" >date</th>        <th class=\"blank\" ></th>        <th class=\"blank\" ></th>        <th class=\"blank\" ></th>        <th class=\"blank\" ></th>        <th class=\"blank\" ></th>    </tr></thead><tbody>\n",
       "                <tr>\n",
       "                        <th id=\"T_4e7eb538_4fe7_11e9_9877_3464a91dff6alevel0_row0\" class=\"row_heading level0 row0\" >2010-12-31 00:00:00</th>\n",
       "                        <td id=\"T_4e7eb538_4fe7_11e9_9877_3464a91dff6arow0_col0\" class=\"data row0 col0\" >42.57%</td>\n",
       "                        <td id=\"T_4e7eb538_4fe7_11e9_9877_3464a91dff6arow0_col1\" class=\"data row0 col1\" >18.97%</td>\n",
       "                        <td id=\"T_4e7eb538_4fe7_11e9_9877_3464a91dff6arow0_col2\" class=\"data row0 col2\" >-8.81%</td>\n",
       "                        <td id=\"T_4e7eb538_4fe7_11e9_9877_3464a91dff6arow0_col3\" class=\"data row0 col3\" >20.65%</td>\n",
       "                        <td id=\"T_4e7eb538_4fe7_11e9_9877_3464a91dff6arow0_col4\" class=\"data row0 col4\" >14.31%</td>\n",
       "            </tr>\n",
       "            <tr>\n",
       "                        <th id=\"T_4e7eb538_4fe7_11e9_9877_3464a91dff6alevel0_row1\" class=\"row_heading level0 row1\" >2011-12-31 00:00:00</th>\n",
       "                        <td id=\"T_4e7eb538_4fe7_11e9_9877_3464a91dff6arow1_col0\" class=\"data row1 col0\" >22.76%</td>\n",
       "                        <td id=\"T_4e7eb538_4fe7_11e9_9877_3464a91dff6arow1_col1\" class=\"data row1 col1\" >-2.10%</td>\n",
       "                        <td id=\"T_4e7eb538_4fe7_11e9_9877_3464a91dff6arow1_col2\" class=\"data row1 col2\" >-7.24%</td>\n",
       "                        <td id=\"T_4e7eb538_4fe7_11e9_9877_3464a91dff6arow1_col3\" class=\"data row1 col3\" >26.78%</td>\n",
       "                        <td id=\"T_4e7eb538_4fe7_11e9_9877_3464a91dff6arow1_col4\" class=\"data row1 col4\" >6.19%</td>\n",
       "            </tr>\n",
       "            <tr>\n",
       "                        <th id=\"T_4e7eb538_4fe7_11e9_9877_3464a91dff6alevel0_row2\" class=\"row_heading level0 row2\" >2012-12-31 00:00:00</th>\n",
       "                        <td id=\"T_4e7eb538_4fe7_11e9_9877_3464a91dff6arow2_col0\" class=\"data row2 col0\" >27.31%</td>\n",
       "                        <td id=\"T_4e7eb538_4fe7_11e9_9877_3464a91dff6arow2_col1\" class=\"data row2 col1\" >15.87%</td>\n",
       "                        <td id=\"T_4e7eb538_4fe7_11e9_9877_3464a91dff6arow2_col2\" class=\"data row2 col2\" >2.85%</td>\n",
       "                        <td id=\"T_4e7eb538_4fe7_11e9_9877_3464a91dff6arow2_col3\" class=\"data row2 col3\" >-12.87%</td>\n",
       "                        <td id=\"T_4e7eb538_4fe7_11e9_9877_3464a91dff6arow2_col4\" class=\"data row2 col4\" >3.55%</td>\n",
       "            </tr>\n",
       "            <tr>\n",
       "                        <th id=\"T_4e7eb538_4fe7_11e9_9877_3464a91dff6alevel0_row3\" class=\"row_heading level0 row3\" >2013-12-31 00:00:00</th>\n",
       "                        <td id=\"T_4e7eb538_4fe7_11e9_9877_3464a91dff6arow3_col0\" class=\"data row3 col0\" >5.28%</td>\n",
       "                        <td id=\"T_4e7eb538_4fe7_11e9_9877_3464a91dff6arow3_col1\" class=\"data row3 col1\" >28.92%</td>\n",
       "                        <td id=\"T_4e7eb538_4fe7_11e9_9877_3464a91dff6arow3_col2\" class=\"data row3 col2\" >33.69%</td>\n",
       "                        <td id=\"T_4e7eb538_4fe7_11e9_9877_3464a91dff6arow3_col3\" class=\"data row3 col3\" >9.53%</td>\n",
       "                        <td id=\"T_4e7eb538_4fe7_11e9_9877_3464a91dff6arow3_col4\" class=\"data row3 col4\" >13.07%</td>\n",
       "            </tr>\n",
       "            <tr>\n",
       "                        <th id=\"T_4e7eb538_4fe7_11e9_9877_3464a91dff6alevel0_row4\" class=\"row_heading level0 row4\" >2014-12-31 00:00:00</th>\n",
       "                        <td id=\"T_4e7eb538_4fe7_11e9_9877_3464a91dff6arow4_col0\" class=\"data row4 col0\" >32.01%</td>\n",
       "                        <td id=\"T_4e7eb538_4fe7_11e9_9877_3464a91dff6arow4_col1\" class=\"data row4 col1\" >-10.37%</td>\n",
       "                        <td id=\"T_4e7eb538_4fe7_11e9_9877_3464a91dff6arow4_col2\" class=\"data row4 col2\" >21.64%</td>\n",
       "                        <td id=\"T_4e7eb538_4fe7_11e9_9877_3464a91dff6arow4_col3\" class=\"data row4 col3\" >-3.49%</td>\n",
       "                        <td id=\"T_4e7eb538_4fe7_11e9_9877_3464a91dff6arow4_col4\" class=\"data row4 col4\" >2.18%</td>\n",
       "            </tr>\n",
       "            <tr>\n",
       "                        <th id=\"T_4e7eb538_4fe7_11e9_9877_3464a91dff6alevel0_row5\" class=\"row_heading level0 row5\" >2015-12-31 00:00:00</th>\n",
       "                        <td id=\"T_4e7eb538_4fe7_11e9_9877_3464a91dff6arow5_col0\" class=\"data row5 col0\" >-4.75%</td>\n",
       "                        <td id=\"T_4e7eb538_4fe7_11e9_9877_3464a91dff6arow5_col1\" class=\"data row5 col1\" >20.92%</td>\n",
       "                        <td id=\"T_4e7eb538_4fe7_11e9_9877_3464a91dff6arow5_col2\" class=\"data row5 col2\" >17.76%</td>\n",
       "                        <td id=\"T_4e7eb538_4fe7_11e9_9877_3464a91dff6arow5_col3\" class=\"data row5 col3\" >23.18%</td>\n",
       "                        <td id=\"T_4e7eb538_4fe7_11e9_9877_3464a91dff6arow5_col4\" class=\"data row5 col4\" >1.74%</td>\n",
       "            </tr>\n",
       "            <tr>\n",
       "                        <th id=\"T_4e7eb538_4fe7_11e9_9877_3464a91dff6alevel0_row6\" class=\"row_heading level0 row6\" >2016-12-31 00:00:00</th>\n",
       "                        <td id=\"T_4e7eb538_4fe7_11e9_9877_3464a91dff6arow6_col0\" class=\"data row6 col0\" >9.56%</td>\n",
       "                        <td id=\"T_4e7eb538_4fe7_11e9_9877_3464a91dff6arow6_col1\" class=\"data row6 col1\" >1.43%</td>\n",
       "                        <td id=\"T_4e7eb538_4fe7_11e9_9877_3464a91dff6arow6_col2\" class=\"data row6 col2\" >11.34%</td>\n",
       "                        <td id=\"T_4e7eb538_4fe7_11e9_9877_3464a91dff6arow6_col3\" class=\"data row6 col3\" >2.99%</td>\n",
       "                        <td id=\"T_4e7eb538_4fe7_11e9_9877_3464a91dff6arow6_col4\" class=\"data row6 col4\" >-3.55%</td>\n",
       "            </tr>\n",
       "            <tr>\n",
       "                        <th id=\"T_4e7eb538_4fe7_11e9_9877_3464a91dff6alevel0_row7\" class=\"row_heading level0 row7\" >2017-12-31 00:00:00</th>\n",
       "                        <td id=\"T_4e7eb538_4fe7_11e9_9877_3464a91dff6arow7_col0\" class=\"data row7 col0\" >37.92%</td>\n",
       "                        <td id=\"T_4e7eb538_4fe7_11e9_9877_3464a91dff6arow7_col1\" class=\"data row7 col1\" >-59.38%</td>\n",
       "                        <td id=\"T_4e7eb538_4fe7_11e9_9877_3464a91dff6arow7_col2\" class=\"data row7 col2\" >31.96%</td>\n",
       "                        <td id=\"T_4e7eb538_4fe7_11e9_9877_3464a91dff6arow7_col3\" class=\"data row7 col3\" >34.65%</td>\n",
       "                        <td id=\"T_4e7eb538_4fe7_11e9_9877_3464a91dff6arow7_col4\" class=\"data row7 col4\" >10.13%</td>\n",
       "            </tr>\n",
       "            <tr>\n",
       "                        <th id=\"T_4e7eb538_4fe7_11e9_9877_3464a91dff6alevel0_row8\" class=\"row_heading level0 row8\" >2018-12-31 00:00:00</th>\n",
       "                        <td id=\"T_4e7eb538_4fe7_11e9_9877_3464a91dff6arow8_col0\" class=\"data row8 col0\" >-7.03%</td>\n",
       "                        <td id=\"T_4e7eb538_4fe7_11e9_9877_3464a91dff6arow8_col1\" class=\"data row8 col1\" >-83.51%</td>\n",
       "                        <td id=\"T_4e7eb538_4fe7_11e9_9877_3464a91dff6arow8_col2\" class=\"data row8 col2\" >17.18%</td>\n",
       "                        <td id=\"T_4e7eb538_4fe7_11e9_9877_3464a91dff6arow8_col3\" class=\"data row8 col3\" >3.12%</td>\n",
       "                        <td id=\"T_4e7eb538_4fe7_11e9_9877_3464a91dff6arow8_col4\" class=\"data row8 col4\" >3.15%</td>\n",
       "            </tr>\n",
       "            <tr>\n",
       "                        <th id=\"T_4e7eb538_4fe7_11e9_9877_3464a91dff6alevel0_row9\" class=\"row_heading level0 row9\" >2019-12-31 00:00:00</th>\n",
       "                        <td id=\"T_4e7eb538_4fe7_11e9_9877_3464a91dff6arow9_col0\" class=\"data row9 col0\" >17.94%</td>\n",
       "                        <td id=\"T_4e7eb538_4fe7_11e9_9877_3464a91dff6arow9_col1\" class=\"data row9 col1\" >26.63%</td>\n",
       "                        <td id=\"T_4e7eb538_4fe7_11e9_9877_3464a91dff6arow9_col2\" class=\"data row9 col2\" >14.71%</td>\n",
       "                        <td id=\"T_4e7eb538_4fe7_11e9_9877_3464a91dff6arow9_col3\" class=\"data row9 col3\" >4.49%</td>\n",
       "                        <td id=\"T_4e7eb538_4fe7_11e9_9877_3464a91dff6arow9_col4\" class=\"data row9 col4\" >-2.83%</td>\n",
       "            </tr>\n",
       "    </tbody></table>"
      ],
      "text/plain": [
       "<pandas.io.formats.style.Styler at 0x204f77a35f8>"
      ]
     },
     "execution_count": 34,
     "metadata": {},
     "output_type": "execute_result"
    }
   ],
   "source": [
    "((1 + yearly_returns).apply(np.log)).style.format('{:.2%}')"
   ]
  },
  {
   "cell_type": "markdown",
   "metadata": {},
   "source": [
    "Proviamo ora a generare un grafico dei rendimenti giornalieri, con due caselle **dropdown** che ci permettano di confrontare due titoli alla volta. "
   ]
  },
  {
   "cell_type": "code",
   "execution_count": 37,
   "metadata": {},
   "outputs": [
    {
     "data": {
      "application/vnd.jupyter.widget-view+json": {
       "model_id": "10c777aecb2a405b9a616d074a242c87",
       "version_major": 2,
       "version_minor": 0
      },
      "text/plain": [
       "VBox(children=(HBox(children=(Dropdown(description='Titolo 1', options=('AAPL', 'GE', 'MSFT', 'MCD', 'KO'), va…"
      ]
     },
     "metadata": {},
     "output_type": "display_data"
    }
   ],
   "source": [
    "# Costruiamo due dropdown per selezionare i titoli da confrontare\n",
    "opts_5 = [c for c in yearly_returns.columns]\n",
    "dd1_5 = widgets.Dropdown(options=opts_5, description='Titolo 1')\n",
    "dd2_5 = widgets.Dropdown(options=opts_5, description='Titolo 2', value=STOCKS[1])\n",
    "\n",
    "# Costruiamo un grafico con i rendimenti giornalieri dei due titoli selezionati\n",
    "x_sc_5 = bq.DateScale()\n",
    "y_sc_5 = bq.LinearScale()\n",
    "lines_5 = bq.Lines(x=prices.pct_change().index, y=[prices.loc[:, c].pct_change() for c in [dd1_5.value, dd2_5.value]], scales={'x': x_sc_5, 'y': y_sc_5},\n",
    "                   colors=[bq.colorschemes.CATEGORY10[prices.columns.get_loc(c)] for c in [dd1_5.value, dd2_5.value]], display_legend=True,\n",
    "                   labels=[c for c in [dd1_5.value, dd2_5.value]])\n",
    "ax_x_5 = bq.Axis(scale=x_sc_5, grid_lines='solid', grid_color='#DDDDDD')\n",
    "ax_y_5 = bq.Axis(scale=y_sc_5, orientation='vertical', tick_format='0%', grid_lines='solid', grid_color='#DDDDDD')\n",
    "fig_5 = bq.Figure(marks=[lines_5], axes=[ax_x_5, ax_y_5], title=f'Rendimenti percentuali giornalieri per {dd1_5.value} e {dd2_5.value}', \n",
    "                  background_style={'fill': 'white'}, legend_location='top-right', layout={'width': '100%'})\n",
    "\n",
    "# Definiamo una funzione per aggiornare il grafico, la legenda e il titolo\n",
    "def update_plot_5(change):\n",
    "    \"\"\" Update the chart with value from the dropdowns.\"\"\"\n",
    "    lines_5.y = [prices.loc[:, c].pct_change() for c in [dd1_5.value, dd2_5.value]]\n",
    "    lines_5.colors = [bq.colorschemes.CATEGORY10[prices.columns.get_loc(c)] for c in [dd1_5.value, dd2_5.value]]\n",
    "    lines_5.labels = [c for c in [dd1_5.value, dd2_5.value]]\n",
    "    fig_5.title = f'Rendimenti percentuali giornalieri per {dd1_5.value} e {dd2_5.value}'\n",
    "\n",
    "# Intercettiamo i valori delle dropdown\n",
    "dd1_5.observe(update_plot_5, 'value')\n",
    "dd2_5.observe(update_plot_5, 'value')\n",
    "    \n",
    "# Definiamo il layout delle widget\n",
    "dd_5 = widgets.HBox([dd1_5, dd2_5] , layout={'width': '100%'})\n",
    "widgets.VBox([dd_5, fig_5])"
   ]
  },
  {
   "cell_type": "markdown",
   "metadata": {},
   "source": [
    "Dal grafico si vede chiaramente come i rendimenti cambino nel tempo e siano diversi tra i titoli. Questa osservazione introduce un nuovo argomento, la **volatilità**, cioè la variabilità dei rendimenti. Ma questo sarà un punto da trattare in un successivo **notebook**."
   ]
  },
  {
   "cell_type": "code",
   "execution_count": null,
   "metadata": {},
   "outputs": [],
   "source": []
  }
 ],
 "metadata": {
  "anaconda-cloud": {},
  "hide_input": false,
  "kernelspec": {
   "display_name": "Python 3 (work)",
   "language": "python",
   "name": "work"
  },
  "language_info": {
   "codemirror_mode": {
    "name": "ipython",
    "version": 3
   },
   "file_extension": ".py",
   "mimetype": "text/x-python",
   "name": "python",
   "nbconvert_exporter": "python",
   "pygments_lexer": "ipython3",
   "version": "3.6.7"
  }
 },
 "nbformat": 4,
 "nbformat_minor": 2
}
